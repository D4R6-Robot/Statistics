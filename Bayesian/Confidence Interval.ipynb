{
 "cells": [
  {
   "cell_type": "code",
   "execution_count": null,
   "metadata": {},
   "outputs": [],
   "source": [
    "# https://freakonometrics.hypotheses.org/18117\n",
    "# Frequentist approch"
   ]
  },
  {
   "cell_type": "code",
   "execution_count": 32,
   "metadata": {},
   "outputs": [],
   "source": [
    "fIC = function(x)\n",
    "{\n",
    "    mean(x) + c(-1,1) * 1.96 * sqrt( mean(x) * (1 - mean(x)) ) / sqrt(n)\n",
    "}"
   ]
  },
  {
   "cell_type": "code",
   "execution_count": 33,
   "metadata": {
    "scrolled": false
   },
   "outputs": [],
   "source": [
    "set.seed(2020)\n",
    "xbar <- 159\n",
    "n <- 1047\n",
    "ns <- 100\n",
    "M <- matrix(rbinom(n * ns, size = 1, prob = xbar/n), nrow = n)"
   ]
  },
  {
   "cell_type": "code",
   "execution_count": 36,
   "metadata": {},
   "outputs": [],
   "source": [
    "IC = t(apply(M, 2, fIC))\n",
    "MN = apply(M, 2, mean)\n",
    "k = (xbar/n < IC[,1]) | (xbar/n > IC[,2])"
   ]
  },
  {
   "cell_type": "code",
   "execution_count": 40,
   "metadata": {},
   "outputs": [
    {
     "data": {
      "image/png": "[encoded data removed]",
      "text/plain": [
       "plot without title"
      ]
     },
     "metadata": {},
     "output_type": "display_data"
    }
   ],
   "source": [
    "plot(MN, 1:ns, xlim=range(IC), axes=FALSE\n",
    "     , xlab = \"\", ylab = \"\", pch = 19, cex = .7, col = c(\"blue\",\"red\")[1 + k])\n",
    "\n",
    "axis(1)\n",
    "\n",
    "segments(IC[,1], 1:ns, IC[,2], 1: ns, col = c(\"blue\",\"red\")[1+k])\n",
    "\n",
    "abline(v = xbar/n)"
   ]
  }
 ],
 "metadata": {
  "kernelspec": {
   "display_name": "R",
   "language": "R",
   "name": "ir"
  },
  "language_info": {
   "codemirror_mode": "r",
   "file_extension": ".r",
   "mimetype": "text/x-r-source",
   "name": "R",
   "pygments_lexer": "r",
   "version": "3.6.1"
  }
 },
 "nbformat": 4,
 "nbformat_minor": 2
}
