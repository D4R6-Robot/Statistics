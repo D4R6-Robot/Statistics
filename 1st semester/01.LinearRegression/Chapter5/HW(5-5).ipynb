{
 "cells": [
  {
   "cell_type": "code",
   "execution_count": 39,
   "metadata": {},
   "outputs": [
    {
     "name": "stdout",
     "output_type": "stream",
     "text": [
      "'data.frame':\t50 obs. of  2 variables:\n",
      " $ Y     : int  15 17 15 13 20 15 15 13 14 17 ...\n",
      " $ Gender: int  0 0 0 0 0 0 0 0 0 0 ...\n"
     ]
    },
    {
     "data": {
      "text/html": [
       "<table>\n",
       "<thead><tr><th></th><th scope=col>Df</th><th scope=col>Sum Sq</th><th scope=col>Mean Sq</th><th scope=col>F value</th><th scope=col>Pr(&gt;F)</th></tr></thead>\n",
       "<tbody>\n",
       "\t<tr><th scope=row>Gender</th><td> 1          </td><td> 98.83128   </td><td>98.831282   </td><td>14.0166     </td><td>0.0004848729</td></tr>\n",
       "\t<tr><th scope=row>Residuals</th><td>48          </td><td>338.44872   </td><td> 7.051015   </td><td>     NA     </td><td>          NA</td></tr>\n",
       "</tbody>\n",
       "</table>\n"
      ],
      "text/latex": [
       "\\begin{tabular}{r|lllll}\n",
       "  & Df & Sum Sq & Mean Sq & F value & Pr(>F)\\\\\n",
       "\\hline\n",
       "\tGender &  1           &  98.83128    & 98.831282    & 14.0166      & 0.0004848729\\\\\n",
       "\tResiduals & 48           & 338.44872    &  7.051015    &      NA      &           NA\\\\\n",
       "\\end{tabular}\n"
      ],
      "text/markdown": [
       "\n",
       "| <!--/--> | Df | Sum Sq | Mean Sq | F value | Pr(>F) | \n",
       "|---|---|\n",
       "| Gender |  1           |  98.83128    | 98.831282    | 14.0166      | 0.0004848729 | \n",
       "| Residuals | 48           | 338.44872    |  7.051015    |      NA      |           NA | \n",
       "\n",
       "\n"
      ],
      "text/plain": [
       "          Df Sum Sq    Mean Sq   F value Pr(>F)      \n",
       "Gender     1  98.83128 98.831282 14.0166 0.0004848729\n",
       "Residuals 48 338.44872  7.051015      NA           NA"
      ]
     },
     "metadata": {},
     "output_type": "display_data"
    },
    {
     "data": {
      "text/plain": [
       "\n",
       "Call:\n",
       "lm(formula = Y ~ ., data = p155a_data)\n",
       "\n",
       "Residuals:\n",
       "     Min       1Q   Median       3Q      Max \n",
       "-10.7692  -0.7692   0.2308   1.4167   4.4167 \n",
       "\n",
       "Coefficients:\n",
       "            Estimate Std. Error t value Pr(>|t|)    \n",
       "(Intercept)  15.5833     0.5420  28.750  < 2e-16 ***\n",
       "Gender       -2.8141     0.7517  -3.744 0.000485 ***\n",
       "---\n",
       "Signif. codes:  0 '***' 0.001 '**' 0.01 '*' 0.05 '.' 0.1 ' ' 1\n",
       "\n",
       "Residual standard error: 2.655 on 48 degrees of freedom\n",
       "Multiple R-squared:  0.226,\tAdjusted R-squared:  0.2099 \n",
       "F-statistic: 14.02 on 1 and 48 DF,  p-value: 0.0004849\n"
      ]
     },
     "metadata": {},
     "output_type": "display_data"
    },
    {
     "data": {},
     "metadata": {},
     "output_type": "display_data"
    },
    {
     "data": {
      "image/png": "[encoded data removed]",
      "text/plain": [
       "plot without title"
      ]
     },
     "metadata": {},
     "output_type": "display_data"
    }
   ],
   "source": [
    "setwd('H:/01.Korea/01.2019-1학기/05.회귀분석 방법론/Report/Chapter5')\n",
    "p155a_data <- read.table(\"P155a.txt\", header = TRUE)\n",
    "str(p155a_data)\n",
    "\n",
    "p155a_reg <- lm(Y ~ ., data = p155a_data)\n",
    "anova(p155a_reg)\n",
    "\n",
    "summary(p155a_reg)\n",
    "\n",
    "library(ggplot2)\n",
    "ggplot(p155a_data,aes(Gender, Y))+geom_point()+geom_abline(intercept=15.5833, slope=-2.8141)"
   ]
  },
  {
   "cell_type": "code",
   "execution_count": 43,
   "metadata": {},
   "outputs": [
    {
     "data": {
      "text/html": [
       "8.92408163265306"
      ],
      "text/latex": [
       "8.92408163265306"
      ],
      "text/markdown": [
       "8.92408163265306"
      ],
      "text/plain": [
       "[1] 8.924082"
      ]
     },
     "metadata": {},
     "output_type": "display_data"
    },
    {
     "data": {
      "text/html": [
       "14.119968"
      ],
      "text/latex": [
       "14.119968"
      ],
      "text/markdown": [
       "14.119968"
      ],
      "text/plain": [
       "[1] 14.11997"
      ]
     },
     "metadata": {},
     "output_type": "display_data"
    },
    {
     "data": {
      "text/html": [
       "24"
      ],
      "text/latex": [
       "24"
      ],
      "text/markdown": [
       "24"
      ],
      "text/plain": [
       "[1] 24"
      ]
     },
     "metadata": {},
     "output_type": "display_data"
    },
    {
     "data": {
      "text/html": [
       "22.601372118551"
      ],
      "text/latex": [
       "22.601372118551"
      ],
      "text/markdown": [
       "22.601372118551"
      ],
      "text/plain": [
       "[1] 22.60137"
      ]
     },
     "metadata": {},
     "output_type": "display_data"
    },
    {
     "data": {
      "text/html": [
       "-0.475409004106475"
      ],
      "text/latex": [
       "-0.475409004106475"
      ],
      "text/markdown": [
       "-0.475409004106475"
      ],
      "text/plain": [
       "[1] -0.475409"
      ]
     },
     "metadata": {},
     "output_type": "display_data"
    },
    {
     "data": {
      "text/html": [
       "1276.92"
      ],
      "text/latex": [
       "1276.92"
      ],
      "text/markdown": [
       "1276.92"
      ],
      "text/plain": [
       "[1] 1276.92"
      ]
     },
     "metadata": {},
     "output_type": "display_data"
    },
    {
     "data": {
      "text/html": [
       "1558.33"
      ],
      "text/latex": [
       "1558.33"
      ],
      "text/markdown": [
       "1558.33"
      ],
      "text/plain": [
       "[1] 1558.33"
      ]
     },
     "metadata": {},
     "output_type": "display_data"
    },
    {
     "data": {
      "text/html": [
       "<ol class=list-inline>\n",
       "\t<li>-4.32539414730614</li>\n",
       "\t<li>-1.30260585269386</li>\n",
       "</ol>\n"
      ],
      "text/latex": [
       "\\begin{enumerate*}\n",
       "\\item -4.32539414730614\n",
       "\\item -1.30260585269386\n",
       "\\end{enumerate*}\n"
      ],
      "text/markdown": [
       "1. -4.32539414730614\n",
       "2. -1.30260585269386\n",
       "\n",
       "\n"
      ],
      "text/plain": [
       "[1] -4.325394 -1.302606"
      ]
     },
     "metadata": {},
     "output_type": "display_data"
    }
   ],
   "source": [
    "# (a) 이 자료에는 몇 명의 종업원이 있는가\n",
    "p = 1 # p = 1\n",
    "n = 50 # n - p - 1 = 48\n",
    "\n",
    "# (b) Y 의 분산을 계산하여라\n",
    "(98.83128 + 338.44872) / (n - 1) # SST / n - 1\n",
    "\n",
    "# (c) X 평균이 0.52 일 때, 데이터에는 몇 명의 여성이 포함되어 있는가?\n",
    "# X mean : 0.52, Y mean ?\n",
    "(((0.52 * 50) * -2.8141) + (15.5833 * n))/n\n",
    "\n",
    "# (d) X 평균이 0.52 일 때 데이터에는 몇명의 여성이 포함되어 있는가? 남자 : 1, 여자 0\n",
    "n - (0.52 * n)\n",
    "\n",
    "# (e) Y 변동의 몇 퍼센트가 X 에 의해서 설명되는가 R^2 = SSR / SST \n",
    "# 단순 회귀 분석 이므로, Adj R square 이 아닌 R square 만 해도 충분하다.\n",
    "# 참고 Adj R Square : 1 - (n-1 / n-p-1)(1-R^2)\n",
    "SSR = 98.83128\n",
    "SSE = 338.44872\n",
    "SSR / (SSR + SSE) * 100\n",
    "\n",
    "# (f) Y 와 X 의 상관계수를 계산하라.\n",
    "# http://blog.uwgb.edu/bansalg/statistics-data-analytics/linear-regression/what-is-the-difference-between-coefficient-of-determination-and-coefficient-of-correlation/\n",
    "# http://www.statstutor.ac.uk/resources/uploaded/pearsons.pdf\n",
    "# [Cor(Y,X)]^2 = [Cor(Y,hat-Y)]^2\n",
    "- sqrt(SSR / (SSR + SSE)) # Gender       -2.8141  < 0\n",
    "\n",
    "# (g) 추정된 회귀 계수 hat-B1 을 해석하여라.\n",
    "# 0 과 1 이므로, 실제 음의 해석이 되려면, (남자:1, 여자:0)\n",
    "# 여자 0 일 때 회귀의 숫자가 높아야하고, 남자 1 일 때 회귀의 숫자가 낮아야 한다.\n",
    "\n",
    "# Y = (-2.8141 * Gender) + 15.5833\n",
    "# (h) 회사 종업원 중에서 무작위로 뽑힌 남자의 주급 추정치는 얼마인가?\n",
    "((-2.8141 * 1) + 15.5833) * 100\n",
    "\n",
    "# (i) 화사 종업원 중에서 무작위로 뽑힌 여자의 주급 추정치는 얼마인가?\n",
    "((-2.8141 * 0) + 15.5833) * 100\n",
    "\n",
    "# (j) B1 의 95% 신뢰구간을 계산 하여라.\n",
    "-2.814 + qt(c(0.025,0.975), df=48) * 0.7517\n",
    "\n",
    "# (k) 남자와 여자의 평균 주급이 같다는 가설을 검정하여라.\n",
    "# - a. 귀무가설과 대립가설을 설정하고,\n",
    "# - b. 검정 통계량을 제시하고,\n",
    "# - c. 임계값을 설정하고,\n",
    "# - d. 결론을 도출하여라.\n"
   ]
  }
 ],
 "metadata": {
  "kernelspec": {
   "display_name": "R",
   "language": "R",
   "name": "ir"
  },
  "language_info": {
   "codemirror_mode": "r",
   "file_extension": ".r",
   "mimetype": "text/x-r-source",
   "name": "R",
   "pygments_lexer": "r",
   "version": "3.5.1"
  }
 },
 "nbformat": 4,
 "nbformat_minor": 2
}
