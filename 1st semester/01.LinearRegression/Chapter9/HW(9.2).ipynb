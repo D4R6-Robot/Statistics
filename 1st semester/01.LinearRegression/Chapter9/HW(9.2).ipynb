{
 "cells": [
  {
   "cell_type": "code",
   "execution_count": 48,
   "metadata": {},
   "outputs": [
    {
     "name": "stdout",
     "output_type": "stream",
     "text": [
      "'data.frame':\t22 obs. of  6 variables:\n",
      " $ St  : num  20.1 15.1 18.7 16.1 21.3 ...\n",
      " $ At  : num  1.99 1.94 2.2 2 1.69 ...\n",
      " $ Pt  : num  1 0 0.8 0 1.3 0.3 1 1 0.9 1 ...\n",
      " $ Et  : num  0.3 0.3 0.35 0.35 0.3 0.32 0.31 0.41 0.45 0.45 ...\n",
      " $ At.1: num  2.02 1.99 1.94 2.2 2 ...\n",
      " $ Pt.1: num  0 1 0 0.8 0 1.3 0.3 1 1 0.9 ...\n"
     ]
    }
   ],
   "source": [
    "# 9.2 9.4 절의 ADVER 데이터의 분석에서, 판매량 St 를 반응변수로 하고 \n",
    "# Et 와 다중공선성을 갖는 나머지 4개의 변수(At, Pt, At.1, St.1) 중 3개의 변수를 예측변수로 하는 회귀모형이 제안되었다.\n",
    "# 4개의 예측변수를 갖는 회귀모형들을 수행해보고 각각의 모형에서 공선성이 제거되었는지 VIFj를 통해서 살표보아라.\n",
    "\n",
    "p248_data <- read.table(\"http://www1.aucegypt.edu/faculty/hadi/RABE5/Data5/P248.txt\", header = TRUE)\n",
    "str(p248_data)"
   ]
  },
  {
   "cell_type": "code",
   "execution_count": 49,
   "metadata": {},
   "outputs": [
    {
     "data": {
      "text/plain": [
       "\n",
       "Call:\n",
       "lm(formula = St ~ Et + At + Pt + At.1 + Pt.1, data = p248_data)\n",
       "\n",
       "Residuals:\n",
       "    Min      1Q  Median      3Q     Max \n",
       "-1.8601 -0.9848  0.1323  0.7017  2.2046 \n",
       "\n",
       "Coefficients:\n",
       "            Estimate Std. Error t value Pr(>|t|)    \n",
       "(Intercept)  -14.194     18.715  -0.758   0.4592    \n",
       "Et            22.521      2.142  10.512 1.36e-08 ***\n",
       "At             5.361      4.028   1.331   0.2019    \n",
       "Pt             8.372      3.586   2.334   0.0329 *  \n",
       "At.1           3.855      3.578   1.077   0.2973    \n",
       "Pt.1           4.125      3.895   1.059   0.3053    \n",
       "---\n",
       "Signif. codes:  0 '***' 0.001 '**' 0.01 '*' 0.05 '.' 0.1 ' ' 1\n",
       "\n",
       "Residual standard error: 1.32 on 16 degrees of freedom\n",
       "Multiple R-squared:  0.9169,\tAdjusted R-squared:  0.8909 \n",
       "F-statistic:  35.3 on 5 and 16 DF,  p-value: 4.289e-08\n"
      ]
     },
     "metadata": {},
     "output_type": "display_data"
    },
    {
     "data": {
      "text/html": [
       "<table>\n",
       "<thead><tr><th scope=col>Variables</th><th scope=col>VIF</th></tr></thead>\n",
       "<tbody>\n",
       "\t<tr><td>At       </td><td>36.941513</td></tr>\n",
       "\t<tr><td>Pt       </td><td>33.473514</td></tr>\n",
       "\t<tr><td>Et       </td><td> 1.075962</td></tr>\n",
       "\t<tr><td>At.1     </td><td>25.915651</td></tr>\n",
       "\t<tr><td>Pt.1     </td><td>43.520965</td></tr>\n",
       "</tbody>\n",
       "</table>\n"
      ],
      "text/latex": [
       "\\begin{tabular}{r|ll}\n",
       " Variables & VIF\\\\\n",
       "\\hline\n",
       "\t At        & 36.941513\\\\\n",
       "\t Pt        & 33.473514\\\\\n",
       "\t Et        &  1.075962\\\\\n",
       "\t At.1      & 25.915651\\\\\n",
       "\t Pt.1      & 43.520965\\\\\n",
       "\\end{tabular}\n"
      ],
      "text/markdown": [
       "\n",
       "Variables | VIF | \n",
       "|---|---|---|---|---|\n",
       "| At        | 36.941513 | \n",
       "| Pt        | 33.473514 | \n",
       "| Et        |  1.075962 | \n",
       "| At.1      | 25.915651 | \n",
       "| Pt.1      | 43.520965 | \n",
       "\n",
       "\n"
      ],
      "text/plain": [
       "  Variables VIF      \n",
       "1 At        36.941513\n",
       "2 Pt        33.473514\n",
       "3 Et         1.075962\n",
       "4 At.1      25.915651\n",
       "5 Pt.1      43.520965"
      ]
     },
     "metadata": {},
     "output_type": "display_data"
    }
   ],
   "source": [
    "#install.packages('usdm')\n",
    "library(usdm)\n",
    "\n",
    "p248_reg <- lm(St ~ Et + At + Pt + At.1 + Pt.1, p248_data)\n",
    "summary(p248_reg)\n",
    "\n",
    "# St 제외, 모두 -1이 들어감.\n",
    "# Error in (function (classes, fdef, mtable) : unable to find an inherited method for function 'vif' for signature '\"lm\"'\n",
    "\n",
    "p248_vif <- vif(p248_data[,-1])\n",
    "p248_vif"
   ]
  },
  {
   "cell_type": "code",
   "execution_count": 50,
   "metadata": {},
   "outputs": [
    {
     "data": {
      "text/plain": [
       "\n",
       "Call:\n",
       "lm(formula = St ~ Et + Pt + At.1 + Pt.1, data = p248_data)\n",
       "\n",
       "Residuals:\n",
       "     Min       1Q   Median       3Q      Max \n",
       "-2.30995 -0.74473  0.06867  0.60135  2.54565 \n",
       "\n",
       "Coefficients:\n",
       "            Estimate Std. Error t value Pr(>|t|)    \n",
       "(Intercept)  10.5094     2.4576   4.276 0.000510 ***\n",
       "Et           22.7942     2.1804  10.454 8.04e-09 ***\n",
       "Pt            3.7018     0.7571   4.889 0.000138 ***\n",
       "At.1         -0.7692     0.8746  -0.880 0.391388    \n",
       "Pt.1         -0.9687     0.7423  -1.305 0.209273    \n",
       "---\n",
       "Signif. codes:  0 '***' 0.001 '**' 0.01 '*' 0.05 '.' 0.1 ' ' 1\n",
       "\n",
       "Residual standard error: 1.35 on 17 degrees of freedom\n",
       "Multiple R-squared:  0.9077,\tAdjusted R-squared:  0.886 \n",
       "F-statistic: 41.79 on 4 and 17 DF,  p-value: 1.396e-08\n"
      ]
     },
     "metadata": {},
     "output_type": "display_data"
    },
    {
     "data": {
      "text/html": [
       "<table>\n",
       "<thead><tr><th scope=col>Variables</th><th scope=col>VIF</th></tr></thead>\n",
       "<tbody>\n",
       "\t<tr><td>Pt      </td><td>1.427024</td></tr>\n",
       "\t<tr><td>Et      </td><td>1.066088</td></tr>\n",
       "\t<tr><td>At.1    </td><td>1.481353</td></tr>\n",
       "\t<tr><td>Pt.1    </td><td>1.511781</td></tr>\n",
       "</tbody>\n",
       "</table>\n"
      ],
      "text/latex": [
       "\\begin{tabular}{r|ll}\n",
       " Variables & VIF\\\\\n",
       "\\hline\n",
       "\t Pt       & 1.427024\\\\\n",
       "\t Et       & 1.066088\\\\\n",
       "\t At.1     & 1.481353\\\\\n",
       "\t Pt.1     & 1.511781\\\\\n",
       "\\end{tabular}\n"
      ],
      "text/markdown": [
       "\n",
       "Variables | VIF | \n",
       "|---|---|---|---|\n",
       "| Pt       | 1.427024 | \n",
       "| Et       | 1.066088 | \n",
       "| At.1     | 1.481353 | \n",
       "| Pt.1     | 1.511781 | \n",
       "\n",
       "\n"
      ],
      "text/plain": [
       "  Variables VIF     \n",
       "1 Pt        1.427024\n",
       "2 Et        1.066088\n",
       "3 At.1      1.481353\n",
       "4 Pt.1      1.511781"
      ]
     },
     "metadata": {},
     "output_type": "display_data"
    }
   ],
   "source": [
    "# At 제외\n",
    "p248_reg_At <- lm(St ~ Et + Pt + At.1 + Pt.1, p248_data)\n",
    "summary(p248_reg_At)\n",
    "\n",
    "p248_vif_At <- vif(p248_data[,-c(1,2)])\n",
    "p248_vif_At"
   ]
  },
  {
   "cell_type": "code",
   "execution_count": 51,
   "metadata": {},
   "outputs": [
    {
     "data": {
      "text/plain": [
       "\n",
       "Call:\n",
       "lm(formula = St ~ Et + At + At.1 + Pt.1, data = p248_data)\n",
       "\n",
       "Residuals:\n",
       "     Min       1Q   Median       3Q      Max \n",
       "-2.70236 -0.71450  0.01326  0.55154  2.97526 \n",
       "\n",
       "Coefficients:\n",
       "            Estimate Std. Error t value Pr(>|t|)    \n",
       "(Intercept)  28.8828     3.5095   8.230 2.48e-07 ***\n",
       "Et           23.0899     2.3908   9.658 2.57e-08 ***\n",
       "At           -3.8391     0.9341  -4.110 0.000731 ***\n",
       "At.1         -4.2730     0.9255  -4.617 0.000246 ***\n",
       "Pt.1         -4.7809     0.8834  -5.412 4.67e-05 ***\n",
       "---\n",
       "Signif. codes:  0 '***' 0.001 '**' 0.01 '*' 0.05 '.' 0.1 ' ' 1\n",
       "\n",
       "Residual standard error: 1.483 on 17 degrees of freedom\n",
       "Multiple R-squared:  0.8886,\tAdjusted R-squared:  0.8624 \n",
       "F-statistic:  33.9 on 4 and 17 DF,  p-value: 6.779e-08\n"
      ]
     },
     "metadata": {},
     "output_type": "display_data"
    },
    {
     "data": {
      "text/html": [
       "<table>\n",
       "<thead><tr><th scope=col>Variables</th><th scope=col>VIF</th></tr></thead>\n",
       "<tbody>\n",
       "\t<tr><td>At      </td><td>1.574870</td></tr>\n",
       "\t<tr><td>Et      </td><td>1.062041</td></tr>\n",
       "\t<tr><td>At.1    </td><td>1.374461</td></tr>\n",
       "\t<tr><td>Pt.1    </td><td>1.774161</td></tr>\n",
       "</tbody>\n",
       "</table>\n"
      ],
      "text/latex": [
       "\\begin{tabular}{r|ll}\n",
       " Variables & VIF\\\\\n",
       "\\hline\n",
       "\t At       & 1.574870\\\\\n",
       "\t Et       & 1.062041\\\\\n",
       "\t At.1     & 1.374461\\\\\n",
       "\t Pt.1     & 1.774161\\\\\n",
       "\\end{tabular}\n"
      ],
      "text/markdown": [
       "\n",
       "Variables | VIF | \n",
       "|---|---|---|---|\n",
       "| At       | 1.574870 | \n",
       "| Et       | 1.062041 | \n",
       "| At.1     | 1.374461 | \n",
       "| Pt.1     | 1.774161 | \n",
       "\n",
       "\n"
      ],
      "text/plain": [
       "  Variables VIF     \n",
       "1 At        1.574870\n",
       "2 Et        1.062041\n",
       "3 At.1      1.374461\n",
       "4 Pt.1      1.774161"
      ]
     },
     "metadata": {},
     "output_type": "display_data"
    }
   ],
   "source": [
    "# Pt 제외\n",
    "p248_reg_Pt <- lm(St ~ Et + At + At.1 + Pt.1, p248_data)\n",
    "summary(p248_reg_Pt)\n",
    "\n",
    "p248_vif_Pt <- vif(p248_data[,-c(1,3)])\n",
    "p248_vif_Pt"
   ]
  },
  {
   "cell_type": "code",
   "execution_count": 52,
   "metadata": {},
   "outputs": [
    {
     "data": {
      "text/plain": [
       "\n",
       "Call:\n",
       "lm(formula = St ~ Et + At + Pt + Pt.1, data = p248_data)\n",
       "\n",
       "Residuals:\n",
       "     Min       1Q   Median       3Q      Max \n",
       "-2.08345 -0.84120  0.07495  0.62551  2.58983 \n",
       "\n",
       "Coefficients:\n",
       "            Estimate Std. Error t value Pr(>|t|)    \n",
       "(Intercept)  5.76114    2.69715   2.136   0.0475 *  \n",
       "Et          22.71201    2.14508  10.588 6.66e-09 ***\n",
       "At           1.14724    0.96749   1.186   0.2520    \n",
       "Pt           4.61225    0.82983   5.558 3.47e-05 ***\n",
       "Pt.1         0.03143    0.86236   0.036   0.9714    \n",
       "---\n",
       "Signif. codes:  0 '***' 0.001 '**' 0.01 '*' 0.05 '.' 0.1 ' ' 1\n",
       "\n",
       "Residual standard error: 1.326 on 17 degrees of freedom\n",
       "Multiple R-squared:  0.9109,\tAdjusted R-squared:  0.8899 \n",
       "F-statistic: 43.43 on 4 and 17 DF,  p-value: 1.04e-08\n"
      ]
     },
     "metadata": {},
     "output_type": "display_data"
    },
    {
     "data": {
      "text/html": [
       "<table>\n",
       "<thead><tr><th scope=col>Variables</th><th scope=col>VIF</th></tr></thead>\n",
       "<tbody>\n",
       "\t<tr><td>At      </td><td>2.111598</td></tr>\n",
       "\t<tr><td>Pt      </td><td>1.775300</td></tr>\n",
       "\t<tr><td>Et      </td><td>1.068595</td></tr>\n",
       "\t<tr><td>Pt.1    </td><td>2.113253</td></tr>\n",
       "</tbody>\n",
       "</table>\n"
      ],
      "text/latex": [
       "\\begin{tabular}{r|ll}\n",
       " Variables & VIF\\\\\n",
       "\\hline\n",
       "\t At       & 2.111598\\\\\n",
       "\t Pt       & 1.775300\\\\\n",
       "\t Et       & 1.068595\\\\\n",
       "\t Pt.1     & 2.113253\\\\\n",
       "\\end{tabular}\n"
      ],
      "text/markdown": [
       "\n",
       "Variables | VIF | \n",
       "|---|---|---|---|\n",
       "| At       | 2.111598 | \n",
       "| Pt       | 1.775300 | \n",
       "| Et       | 1.068595 | \n",
       "| Pt.1     | 2.113253 | \n",
       "\n",
       "\n"
      ],
      "text/plain": [
       "  Variables VIF     \n",
       "1 At        2.111598\n",
       "2 Pt        1.775300\n",
       "3 Et        1.068595\n",
       "4 Pt.1      2.113253"
      ]
     },
     "metadata": {},
     "output_type": "display_data"
    }
   ],
   "source": [
    "# At.1 제외\n",
    "p248_reg_At.1 <- lm(St ~ Et + At + Pt + Pt.1, p248_data)\n",
    "summary(p248_reg_At.1)\n",
    "\n",
    "p248_vif_At.1 <- vif(p248_data[,-c(1,5)])\n",
    "p248_vif_At.1"
   ]
  },
  {
   "cell_type": "code",
   "execution_count": 53,
   "metadata": {},
   "outputs": [
    {
     "data": {
      "text/plain": [
       "\n",
       "Call:\n",
       "lm(formula = St ~ Et + At + Pt + At.1, data = p248_data)\n",
       "\n",
       "Residuals:\n",
       "    Min      1Q  Median      3Q     Max \n",
       "-2.0720 -0.8645  0.1115  0.5839  2.5476 \n",
       "\n",
       "Coefficients:\n",
       "            Estimate Std. Error t value Pr(>|t|)    \n",
       "(Intercept)   5.3769     2.9627   1.815   0.0872 .  \n",
       "Et           22.8135     2.1321  10.700 5.69e-09 ***\n",
       "At            1.1703     0.7533   1.553   0.1387    \n",
       "Pt            4.6526     0.7267   6.402 6.56e-06 ***\n",
       "At.1          0.1590     0.7912   0.201   0.8431    \n",
       "---\n",
       "Signif. codes:  0 '***' 0.001 '**' 0.01 '*' 0.05 '.' 0.1 ' ' 1\n",
       "\n",
       "Residual standard error: 1.325 on 17 degrees of freedom\n",
       "Multiple R-squared:  0.9111,\tAdjusted R-squared:  0.8901 \n",
       "F-statistic: 43.54 on 4 and 17 DF,  p-value: 1.02e-08\n"
      ]
     },
     "metadata": {},
     "output_type": "display_data"
    },
    {
     "data": {
      "text/html": [
       "<table>\n",
       "<thead><tr><th scope=col>Variables</th><th scope=col>VIF</th></tr></thead>\n",
       "<tbody>\n",
       "\t<tr><td>At      </td><td>1.283231</td></tr>\n",
       "\t<tr><td>Pt      </td><td>1.364570</td></tr>\n",
       "\t<tr><td>Et      </td><td>1.058083</td></tr>\n",
       "\t<tr><td>At.1    </td><td>1.258390</td></tr>\n",
       "</tbody>\n",
       "</table>\n"
      ],
      "text/latex": [
       "\\begin{tabular}{r|ll}\n",
       " Variables & VIF\\\\\n",
       "\\hline\n",
       "\t At       & 1.283231\\\\\n",
       "\t Pt       & 1.364570\\\\\n",
       "\t Et       & 1.058083\\\\\n",
       "\t At.1     & 1.258390\\\\\n",
       "\\end{tabular}\n"
      ],
      "text/markdown": [
       "\n",
       "Variables | VIF | \n",
       "|---|---|---|---|\n",
       "| At       | 1.283231 | \n",
       "| Pt       | 1.364570 | \n",
       "| Et       | 1.058083 | \n",
       "| At.1     | 1.258390 | \n",
       "\n",
       "\n"
      ],
      "text/plain": [
       "  Variables VIF     \n",
       "1 At        1.283231\n",
       "2 Pt        1.364570\n",
       "3 Et        1.058083\n",
       "4 At.1      1.258390"
      ]
     },
     "metadata": {},
     "output_type": "display_data"
    }
   ],
   "source": [
    "# Pt.1 제외\n",
    "p248_reg_Pt.1 <- lm(St ~ Et + At + Pt + At.1, p248_data)\n",
    "summary(p248_reg_Pt.1)\n",
    "\n",
    "p248_vif_Pt.1 <- vif(p248_data[,-c(1,6)])\n",
    "p248_vif_Pt.1"
   ]
  },
  {
   "cell_type": "code",
   "execution_count": 54,
   "metadata": {},
   "outputs": [
    {
     "data": {
      "text/html": [
       "<table>\n",
       "<thead><tr><th scope=col>Variables</th><th scope=col>VIF</th></tr></thead>\n",
       "<tbody>\n",
       "\t<tr><td>At       </td><td>36.941513</td></tr>\n",
       "\t<tr><td>Pt       </td><td>33.473514</td></tr>\n",
       "\t<tr><td>Et       </td><td> 1.075962</td></tr>\n",
       "\t<tr><td>At.1     </td><td>25.915651</td></tr>\n",
       "\t<tr><td>Pt.1     </td><td>43.520965</td></tr>\n",
       "</tbody>\n",
       "</table>\n"
      ],
      "text/latex": [
       "\\begin{tabular}{r|ll}\n",
       " Variables & VIF\\\\\n",
       "\\hline\n",
       "\t At        & 36.941513\\\\\n",
       "\t Pt        & 33.473514\\\\\n",
       "\t Et        &  1.075962\\\\\n",
       "\t At.1      & 25.915651\\\\\n",
       "\t Pt.1      & 43.520965\\\\\n",
       "\\end{tabular}\n"
      ],
      "text/markdown": [
       "\n",
       "Variables | VIF | \n",
       "|---|---|---|---|---|\n",
       "| At        | 36.941513 | \n",
       "| Pt        | 33.473514 | \n",
       "| Et        |  1.075962 | \n",
       "| At.1      | 25.915651 | \n",
       "| Pt.1      | 43.520965 | \n",
       "\n",
       "\n"
      ],
      "text/plain": [
       "  Variables VIF      \n",
       "1 At        36.941513\n",
       "2 Pt        33.473514\n",
       "3 Et         1.075962\n",
       "4 At.1      25.915651\n",
       "5 Pt.1      43.520965"
      ]
     },
     "metadata": {},
     "output_type": "display_data"
    },
    {
     "data": {
      "text/html": [
       "<table>\n",
       "<thead><tr><th scope=col>Variables</th><th scope=col>VIF</th><th scope=col>Variables</th><th scope=col>VIF</th><th scope=col>Variables</th><th scope=col>VIF</th><th scope=col>Variables</th><th scope=col>VIF</th></tr></thead>\n",
       "<tbody>\n",
       "\t<tr><td>Pt      </td><td>1.427024</td><td>At      </td><td>1.574870</td><td>At      </td><td>2.111598</td><td>At      </td><td>1.283231</td></tr>\n",
       "\t<tr><td>Et      </td><td>1.066088</td><td>Et      </td><td>1.062041</td><td>Pt      </td><td>1.775300</td><td>Pt      </td><td>1.364570</td></tr>\n",
       "\t<tr><td>At.1    </td><td>1.481353</td><td>At.1    </td><td>1.374461</td><td>Et      </td><td>1.068595</td><td>Et      </td><td>1.058083</td></tr>\n",
       "\t<tr><td>Pt.1    </td><td>1.511781</td><td>Pt.1    </td><td>1.774161</td><td>Pt.1    </td><td>2.113253</td><td>At.1    </td><td>1.258390</td></tr>\n",
       "</tbody>\n",
       "</table>\n"
      ],
      "text/latex": [
       "\\begin{tabular}{r|llllllll}\n",
       " Variables & VIF & Variables & VIF & Variables & VIF & Variables & VIF\\\\\n",
       "\\hline\n",
       "\t Pt       & 1.427024 & At       & 1.574870 & At       & 2.111598 & At       & 1.283231\\\\\n",
       "\t Et       & 1.066088 & Et       & 1.062041 & Pt       & 1.775300 & Pt       & 1.364570\\\\\n",
       "\t At.1     & 1.481353 & At.1     & 1.374461 & Et       & 1.068595 & Et       & 1.058083\\\\\n",
       "\t Pt.1     & 1.511781 & Pt.1     & 1.774161 & Pt.1     & 2.113253 & At.1     & 1.258390\\\\\n",
       "\\end{tabular}\n"
      ],
      "text/markdown": [
       "\n",
       "Variables | VIF | Variables | VIF | Variables | VIF | Variables | VIF | \n",
       "|---|---|---|---|\n",
       "| Pt       | 1.427024 | At       | 1.574870 | At       | 2.111598 | At       | 1.283231 | \n",
       "| Et       | 1.066088 | Et       | 1.062041 | Pt       | 1.775300 | Pt       | 1.364570 | \n",
       "| At.1     | 1.481353 | At.1     | 1.374461 | Et       | 1.068595 | Et       | 1.058083 | \n",
       "| Pt.1     | 1.511781 | Pt.1     | 1.774161 | Pt.1     | 2.113253 | At.1     | 1.258390 | \n",
       "\n",
       "\n"
      ],
      "text/plain": [
       "  Variables VIF      Variables VIF      Variables VIF      Variables VIF     \n",
       "1 Pt        1.427024 At        1.574870 At        2.111598 At        1.283231\n",
       "2 Et        1.066088 Et        1.062041 Pt        1.775300 Pt        1.364570\n",
       "3 At.1      1.481353 At.1      1.374461 Et        1.068595 Et        1.058083\n",
       "4 Pt.1      1.511781 Pt.1      1.774161 Pt.1      2.113253 At.1      1.258390"
      ]
     },
     "metadata": {},
     "output_type": "display_data"
    }
   ],
   "source": [
    "p248_vif\n",
    "p248_vip_comp <- cbind (p248_vif_At, p248_vif_Pt, p248_vif_At.1, p248_vif_Pt.1)\n",
    "p248_vip_comp"
   ]
  }
 ],
 "metadata": {
  "kernelspec": {
   "display_name": "R",
   "language": "R",
   "name": "ir"
  },
  "language_info": {
   "codemirror_mode": "r",
   "file_extension": ".r",
   "mimetype": "text/x-r-source",
   "name": "R",
   "pygments_lexer": "r",
   "version": "3.5.1"
  }
 },
 "nbformat": 4,
 "nbformat_minor": 2
}
