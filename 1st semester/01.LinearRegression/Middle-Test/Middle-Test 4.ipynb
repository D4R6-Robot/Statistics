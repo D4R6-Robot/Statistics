{
 "cells": [
  {
   "cell_type": "code",
   "execution_count": 3,
   "metadata": {},
   "outputs": [
    {
     "data": {
      "text/html": [
       "<ol class=list-inline>\n",
       "\t<li>setosa</li>\n",
       "\t<li>versicolor</li>\n",
       "\t<li>virginica</li>\n",
       "</ol>\n",
       "\n",
       "<details>\n",
       "\t<summary style=display:list-item;cursor:pointer>\n",
       "\t\t<strong>Levels</strong>:\n",
       "\t</summary>\n",
       "\t<ol class=list-inline>\n",
       "\t\t<li>'setosa'</li>\n",
       "\t\t<li>'versicolor'</li>\n",
       "\t\t<li>'virginica'</li>\n",
       "\t</ol>\n",
       "</details>"
      ],
      "text/latex": [
       "\\begin{enumerate*}\n",
       "\\item setosa\n",
       "\\item versicolor\n",
       "\\item virginica\n",
       "\\end{enumerate*}\n",
       "\n",
       "\\emph{Levels}: \\begin{enumerate*}\n",
       "\\item 'setosa'\n",
       "\\item 'versicolor'\n",
       "\\item 'virginica'\n",
       "\\end{enumerate*}\n"
      ],
      "text/markdown": [
       "1. setosa\n",
       "2. versicolor\n",
       "3. virginica\n",
       "\n",
       "\n",
       "\n",
       "**Levels**: 1. 'setosa'\n",
       "2. 'versicolor'\n",
       "3. 'virginica'\n",
       "\n",
       "\n"
      ],
      "text/plain": [
       "[1] setosa     versicolor virginica \n",
       "Levels: setosa versicolor virginica"
      ]
     },
     "metadata": {},
     "output_type": "display_data"
    },
    {
     "data": {
      "image/png": "[encoded data removed]",
      "text/plain": [
       "plot without title"
      ]
     },
     "metadata": {},
     "output_type": "display_data"
    }
   ],
   "source": [
    "# 4.(20점) R에서 제공하는 iris 데이터셋의 Petal.Width 에 대해 품종(Species)별 상자그림(boxplot) 을 ggplot 으로 작성하시오.\n",
    "\n",
    "# ggplot2 : Create Elegant Data Visualisations Using the Grammar of Graphics\n",
    "library(ggplot2)\n",
    "# dplyr: A Grammar of Data Manipulation\n",
    "library(dplyr)\n",
    "# gridExtra : Miscellaneous Functions for \"Grid\" Graphics\n",
    "library(gridExtra)\n",
    "\n",
    "library(tidyverse)\n",
    "unique(iris$Species) # Species 의 distinct element\n",
    "\n",
    "# https://codedragon.tistory.com/7012 boxplot 해석\n",
    "# boxplot 의 내부 표현 변경 가능.\n",
    "p1 <- ggplot(data = iris, aes(x = Species, y = Petal.Width, fill = Species)) + \n",
    "    geom_boxplot(\n",
    "        # custom outliers\n",
    "        outlier.colour = \"red\",\n",
    "        outlier.fill = \"red\",\n",
    "        outlier.size = 2\n",
    "    )\n",
    "\n",
    "# ggplot separate boxplots 의 facet_wrap 사용. facet_grid 는 사용 못함.\n",
    "# https://stackoverflow.com/questions/14604439/plot-multiple-boxplot-in-one-graph\n",
    "p2 <- ggplot(iris,aes(Species,Petal.Width,fill = Species)) +\n",
    "    geom_boxplot(aes(fill = Species)) + \n",
    "    facet_wrap(. ~ Species, scales = \"free\") # facet_grid dependency x,y-axis. scales=\"free\"\n",
    "\n",
    "grid.arrange(p1, p2, ncol = 2, nrow = 2)"
   ]
  }
 ],
 "metadata": {
  "kernelspec": {
   "display_name": "R",
   "language": "R",
   "name": "ir"
  },
  "language_info": {
   "codemirror_mode": "r",
   "file_extension": ".r",
   "mimetype": "text/x-r-source",
   "name": "R",
   "pygments_lexer": "r",
   "version": "3.5.1"
  }
 },
 "nbformat": 4,
 "nbformat_minor": 2
}
