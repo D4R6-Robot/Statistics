{
 "cells": [
  {
   "cell_type": "code",
   "execution_count": 86,
   "metadata": {},
   "outputs": [],
   "source": [
    "setwd('D:/Working/03.Korea/회귀분석/report')"
   ]
  },
  {
   "cell_type": "code",
   "execution_count": 87,
   "metadata": {},
   "outputs": [
    {
     "name": "stdout",
     "output_type": "stream",
     "text": [
      "'data.frame':\t22 obs. of  3 variables:\n",
      " $ F : int  68 75 85 94 86 90 86 68 55 69 ...\n",
      " $ P1: int  78 74 82 90 87 90 83 72 68 69 ...\n",
      " $ P2: int  73 76 79 96 90 92 95 69 67 70 ...\n"
     ]
    }
   ],
   "source": [
    "p083_data <- read.delim(\"P083.txt\")\n",
    "str(p083_data)"
   ]
  },
  {
   "cell_type": "code",
   "execution_count": 88,
   "metadata": {},
   "outputs": [
    {
     "name": "stdout",
     "output_type": "stream",
     "text": [
      "<< 모델 1 계수들 >>"
     ]
    },
    {
     "data": {
      "text/html": [
       "<dl class=dl-horizontal>\n",
       "\t<dt>(Intercept)</dt>\n",
       "\t\t<dd>-22.3424355261343</dd>\n",
       "\t<dt>P1</dt>\n",
       "\t\t<dd>1.26051579092539</dd>\n",
       "</dl>\n"
      ],
      "text/latex": [
       "\\begin{description*}\n",
       "\\item[(Intercept)] -22.3424355261343\n",
       "\\item[P1] 1.26051579092539\n",
       "\\end{description*}\n"
      ],
      "text/markdown": [
       "(Intercept)\n",
       ":   -22.3424355261343P1\n",
       ":   1.26051579092539\n",
       "\n"
      ],
      "text/plain": [
       "(Intercept)          P1 \n",
       " -22.342436    1.260516 "
      ]
     },
     "metadata": {},
     "output_type": "display_data"
    },
    {
     "name": "stdout",
     "output_type": "stream",
     "text": [
      "<< 모델 2 계수들>>"
     ]
    },
    {
     "data": {
      "text/html": [
       "<dl class=dl-horizontal>\n",
       "\t<dt>(Intercept)</dt>\n",
       "\t\t<dd>-1.85354700418497</dd>\n",
       "\t<dt>P2</dt>\n",
       "\t\t<dd>1.00426661222823</dd>\n",
       "</dl>\n"
      ],
      "text/latex": [
       "\\begin{description*}\n",
       "\\item[(Intercept)] -1.85354700418497\n",
       "\\item[P2] 1.00426661222823\n",
       "\\end{description*}\n"
      ],
      "text/markdown": [
       "(Intercept)\n",
       ":   -1.85354700418497P2\n",
       ":   1.00426661222823\n",
       "\n"
      ],
      "text/plain": [
       "(Intercept)          P2 \n",
       "  -1.853547    1.004267 "
      ]
     },
     "metadata": {},
     "output_type": "display_data"
    },
    {
     "name": "stdout",
     "output_type": "stream",
     "text": [
      "<< 모델 3 계수들>>"
     ]
    },
    {
     "data": {
      "text/html": [
       "<dl class=dl-horizontal>\n",
       "\t<dt>(Intercept)</dt>\n",
       "\t\t<dd>-14.5005375530992</dd>\n",
       "\t<dt>P1</dt>\n",
       "\t\t<dd>0.488337552134423</dd>\n",
       "\t<dt>P2</dt>\n",
       "\t\t<dd>0.672035576963728</dd>\n",
       "</dl>\n"
      ],
      "text/latex": [
       "\\begin{description*}\n",
       "\\item[(Intercept)] -14.5005375530992\n",
       "\\item[P1] 0.488337552134423\n",
       "\\item[P2] 0.672035576963728\n",
       "\\end{description*}\n"
      ],
      "text/markdown": [
       "(Intercept)\n",
       ":   -14.5005375530992P1\n",
       ":   0.488337552134423P2\n",
       ":   0.672035576963728\n",
       "\n"
      ],
      "text/plain": [
       "(Intercept)          P1          P2 \n",
       "-14.5005376   0.4883376   0.6720356 "
      ]
     },
     "metadata": {},
     "output_type": "display_data"
    }
   ],
   "source": [
    "cat(\"<< 모델 1 계수들 >>\")\n",
    "p083_reg1 = lm(F ~ P1, p083_data)\n",
    "p083_reg1$coefficients\n",
    "\n",
    "cat(\"<< 모델 2 계수들>>\")\n",
    "p083_reg2 = lm(F ~ P2, p083_data)\n",
    "p083_reg2$coefficients\n",
    "\n",
    "cat(\"<< 모델 3 계수들>>\")\n",
    "p083_reg3 = lm(F ~ P1 + P2, p083_data)\n",
    "p083_reg3$coefficients"
   ]
  },
  {
   "cell_type": "code",
   "execution_count": 89,
   "metadata": {},
   "outputs": [
    {
     "name": "stdout",
     "output_type": "stream",
     "text": [
      "<< 모델 1 검정 >>"
     ]
    },
    {
     "data": {
      "text/html": [
       "0.0676408312484231"
      ],
      "text/latex": [
       "0.0676408312484231"
      ],
      "text/markdown": [
       "0.0676408312484231"
      ],
      "text/plain": [
       "[1] 0.06764083"
      ]
     },
     "metadata": {},
     "output_type": "display_data"
    },
    {
     "data": {
      "text/html": [
       "0.0676408312484231"
      ],
      "text/latex": [
       "0.0676408312484231"
      ],
      "text/markdown": [
       "0.0676408312484231"
      ],
      "text/plain": [
       "[1] 0.06764083"
      ]
     },
     "metadata": {},
     "output_type": "display_data"
    },
    {
     "name": "stdout",
     "output_type": "stream",
     "text": [
      "<< 모델 2 검정 >>"
     ]
    },
    {
     "data": {
      "text/html": [
       "0.808861441432934"
      ],
      "text/latex": [
       "0.808861441432934"
      ],
      "text/markdown": [
       "0.808861441432934"
      ],
      "text/plain": [
       "[1] 0.8088614"
      ]
     },
     "metadata": {},
     "output_type": "display_data"
    },
    {
     "data": {
      "text/html": [
       "0.808861441432934"
      ],
      "text/latex": [
       "0.808861441432934"
      ],
      "text/markdown": [
       "0.808861441432934"
      ],
      "text/plain": [
       "[1] 0.8088614"
      ]
     },
     "metadata": {},
     "output_type": "display_data"
    },
    {
     "name": "stdout",
     "output_type": "stream",
     "text": [
      "<< 모델 3 검정 >>"
     ]
    },
    {
     "data": {
      "text/html": [
       "0.132904916209782"
      ],
      "text/latex": [
       "0.132904916209782"
      ],
      "text/markdown": [
       "0.132904916209782"
      ],
      "text/plain": [
       "[1] 0.1329049"
      ]
     },
     "metadata": {},
     "output_type": "display_data"
    },
    {
     "data": {
      "text/html": [
       "0.132904916209782"
      ],
      "text/latex": [
       "0.132904916209782"
      ],
      "text/markdown": [
       "0.132904916209782"
      ],
      "text/plain": [
       "[1] 0.1329049"
      ]
     },
     "metadata": {},
     "output_type": "display_data"
    }
   ],
   "source": [
    "cat(\"<< 모델 1 검정 >>\")\n",
    "# 1. t_value 를 가지고 검정.\n",
    "t_value <- summary(p083_reg1)$coefficients[c('(Intercept)'),c('t value')]\n",
    "pt(t_value, df=20) * 2\n",
    "# 2. summary 의 수치를 가지고 검정.\n",
    "summary(p083_reg1)$coefficients[c('(Intercept)'),c('Pr(>|t|)')]\n",
    "\n",
    "cat(\"<< 모델 2 검정 >>\")\n",
    "# 1. t_value 를 가지고 검정.\n",
    "t_value <- summary(p083_reg2)$coefficients[c('(Intercept)'),c('t value')]\n",
    "pt(t_value, df=20) * 2\n",
    "# 2. summary 의 수치를 가지고 검정.\n",
    "summary(p083_reg2)$coefficients[c('(Intercept)'),c('Pr(>|t|)')]\n",
    "\n",
    "cat(\"<< 모델 3 검정 >>\")\n",
    "# 1. t_value 를 가지고 검정.\n",
    "t_value <- summary(p083_reg3)$coefficients[c('(Intercept)'),c('t value')]\n",
    "pt(t_value, df=19) * 2\n",
    "# 2. summary 의 수치를 가지고 검정.\n",
    "summary(p083_reg3)$coefficients[c('(Intercept)'),c('Pr(>|t|)')]"
   ]
  },
  {
   "cell_type": "code",
   "execution_count": 90,
   "metadata": {},
   "outputs": [
    {
     "name": "stdout",
     "output_type": "stream",
     "text": [
      "<< 모델 1 >>"
     ]
    },
    {
     "data": {
      "text/html": [
       "0.802250144771121"
      ],
      "text/latex": [
       "0.802250144771121"
      ],
      "text/markdown": [
       "0.802250144771121"
      ],
      "text/plain": [
       "[1] 0.8022501"
      ]
     },
     "metadata": {},
     "output_type": "display_data"
    },
    {
     "data": {
      "text/html": [
       "0.792362652009677"
      ],
      "text/latex": [
       "0.792362652009677"
      ],
      "text/markdown": [
       "0.792362652009677"
      ],
      "text/plain": [
       "[1] 0.7923627"
      ]
     },
     "metadata": {},
     "output_type": "display_data"
    },
    {
     "name": "stdout",
     "output_type": "stream",
     "text": [
      "<< 모델 2 >>"
     ]
    },
    {
     "data": {
      "text/html": [
       "0.860035716906129"
      ],
      "text/latex": [
       "0.860035716906129"
      ],
      "text/markdown": [
       "0.860035716906129"
      ],
      "text/plain": [
       "[1] 0.8600357"
      ]
     },
     "metadata": {},
     "output_type": "display_data"
    },
    {
     "data": {
      "text/html": [
       "0.853037502751436"
      ],
      "text/latex": [
       "0.853037502751436"
      ],
      "text/markdown": [
       "0.853037502751436"
      ],
      "text/plain": [
       "[1] 0.8530375"
      ]
     },
     "metadata": {},
     "output_type": "display_data"
    }
   ],
   "source": [
    "cat(\"<< 모델 1 >>\")\n",
    "summary(p083_reg1)$r.squared\n",
    "summary(p083_reg1)$adj.r.squared\n",
    "\n",
    "cat(\"<< 모델 2 >>\")\n",
    "summary(p083_reg2)$r.squared\n",
    "summary(p083_reg2)$adj.r.squared"
   ]
  },
  {
   "cell_type": "code",
   "execution_count": 91,
   "metadata": {},
   "outputs": [
    {
     "name": "stdout",
     "output_type": "stream",
     "text": [
      "<< 모델 1 adj.r >>"
     ]
    },
    {
     "data": {
      "text/html": [
       "0.792362652009677"
      ],
      "text/latex": [
       "0.792362652009677"
      ],
      "text/markdown": [
       "0.792362652009677"
      ],
      "text/plain": [
       "[1] 0.7923627"
      ]
     },
     "metadata": {},
     "output_type": "display_data"
    },
    {
     "name": "stdout",
     "output_type": "stream",
     "text": [
      "<< 모델 2 adj.r >>"
     ]
    },
    {
     "data": {
      "text/html": [
       "0.853037502751436"
      ],
      "text/latex": [
       "0.853037502751436"
      ],
      "text/markdown": [
       "0.853037502751436"
      ],
      "text/plain": [
       "[1] 0.8530375"
      ]
     },
     "metadata": {},
     "output_type": "display_data"
    },
    {
     "name": "stdout",
     "output_type": "stream",
     "text": [
      "<< 모델 3 adj.r >>"
     ]
    },
    {
     "data": {
      "text/html": [
       "0.874353164695824"
      ],
      "text/latex": [
       "0.874353164695824"
      ],
      "text/markdown": [
       "0.874353164695824"
      ],
      "text/plain": [
       "[1] 0.8743532"
      ]
     },
     "metadata": {},
     "output_type": "display_data"
    },
    {
     "data": {
      "text/html": [
       "<table>\n",
       "<thead><tr><th scope=col>Res.Df</th><th scope=col>RSS</th><th scope=col>Df</th><th scope=col>Sum of Sq</th><th scope=col>F</th><th scope=col>Pr(&gt;F)</th></tr></thead>\n",
       "<tbody>\n",
       "\t<tr><td>20        </td><td>516.3428  </td><td>NA        </td><td>       NA </td><td>      NA  </td><td>        NA</td></tr>\n",
       "\t<tr><td>20        </td><td>365.4595  </td><td> 0        </td><td>150.88338 </td><td>      NA  </td><td>        NA</td></tr>\n",
       "\t<tr><td>19        </td><td>296.8300  </td><td> 1        </td><td> 68.62943 </td><td>4.392948  </td><td>0.04971275</td></tr>\n",
       "</tbody>\n",
       "</table>\n"
      ],
      "text/latex": [
       "\\begin{tabular}{r|llllll}\n",
       " Res.Df & RSS & Df & Sum of Sq & F & Pr(>F)\\\\\n",
       "\\hline\n",
       "\t 20         & 516.3428   & NA         &        NA  &       NA   &         NA\\\\\n",
       "\t 20         & 365.4595   &  0         & 150.88338  &       NA   &         NA\\\\\n",
       "\t 19         & 296.8300   &  1         &  68.62943  & 4.392948   & 0.04971275\\\\\n",
       "\\end{tabular}\n"
      ],
      "text/markdown": [
       "\n",
       "Res.Df | RSS | Df | Sum of Sq | F | Pr(>F) | \n",
       "|---|---|---|\n",
       "| 20         | 516.3428   | NA         |        NA  |       NA   |         NA | \n",
       "| 20         | 365.4595   |  0         | 150.88338  |       NA   |         NA | \n",
       "| 19         | 296.8300   |  1         |  68.62943  | 4.392948   | 0.04971275 | \n",
       "\n",
       "\n"
      ],
      "text/plain": [
       "  Res.Df RSS      Df Sum of Sq F        Pr(>F)    \n",
       "1 20     516.3428 NA        NA       NA         NA\n",
       "2 20     365.4595  0 150.88338       NA         NA\n",
       "3 19     296.8300  1  68.62943 4.392948 0.04971275"
      ]
     },
     "metadata": {},
     "output_type": "display_data"
    },
    {
     "name": "stdout",
     "output_type": "stream",
     "text": [
      "<< 모델 3 예측 >>"
     ]
    },
    {
     "data": {
      "text/html": [
       "<dl class=dl-horizontal>\n",
       "\t<dt>(Intercept)</dt>\n",
       "\t\t<dd>-14.5005375530992</dd>\n",
       "\t<dt>P1</dt>\n",
       "\t\t<dd>0.488337552134423</dd>\n",
       "\t<dt>P2</dt>\n",
       "\t\t<dd>0.672035576963728</dd>\n",
       "</dl>\n"
      ],
      "text/latex": [
       "\\begin{description*}\n",
       "\\item[(Intercept)] -14.5005375530992\n",
       "\\item[P1] 0.488337552134423\n",
       "\\item[P2] 0.672035576963728\n",
       "\\end{description*}\n"
      ],
      "text/markdown": [
       "(Intercept)\n",
       ":   -14.5005375530992P1\n",
       ":   0.488337552134423P2\n",
       ":   0.672035576963728\n",
       "\n"
      ],
      "text/plain": [
       "(Intercept)          P1          P2 \n",
       "-14.5005376   0.4883376   0.6720356 "
      ]
     },
     "metadata": {},
     "output_type": "display_data"
    },
    {
     "data": {
      "text/html": [
       "<strong>1:</strong> 80.7128155553027"
      ],
      "text/latex": [
       "\\textbf{1:} 80.7128155553027"
      ],
      "text/markdown": [
       "**1:** 80.7128155553027"
      ],
      "text/plain": [
       "       1 \n",
       "80.71282 "
      ]
     },
     "metadata": {},
     "output_type": "display_data"
    }
   ],
   "source": [
    "cat(\"<< 모델 1 adj.r >>\")\n",
    "summary(p083_reg1)$adj.r.squared\n",
    "\n",
    "cat(\"<< 모델 2 adj.r >>\")\n",
    "summary(p083_reg2)$adj.r.squared\n",
    "\n",
    "cat(\"<< 모델 3 adj.r >>\")\n",
    "summary(p083_reg3)$adj.r.squared\n",
    "\n",
    "anova(p083_reg1,p083_reg2, p083_reg3)\n",
    "\n",
    "cat(\"<< 모델 3 예측 >>\")\n",
    "p083_reg3$coefficients\n",
    "predict(p083_reg3, newdata = data.frame(P1=78, P2=85))"
   ]
  }
 ],
 "metadata": {
  "kernelspec": {
   "display_name": "R",
   "language": "R",
   "name": "ir"
  },
  "language_info": {
   "codemirror_mode": "r",
   "file_extension": ".r",
   "mimetype": "text/x-r-source",
   "name": "R",
   "pygments_lexer": "r",
   "version": "3.5.1"
  }
 },
 "nbformat": 4,
 "nbformat_minor": 2
}
