{
 "cells": [
  {
   "cell_type": "code",
   "execution_count": 113,
   "metadata": {},
   "outputs": [
    {
     "data": {
      "text/html": [
       "<table>\n",
       "<thead><tr><th scope=col>STATE</th><th scope=col>Y</th><th scope=col>X1</th><th scope=col>X2</th><th scope=col>X3</th><th scope=col>Region</th></tr></thead>\n",
       "<tbody>\n",
       "\t<tr><td>ME  </td><td> 61 </td><td>1704</td><td>388 </td><td>399 </td><td>1   </td></tr>\n",
       "\t<tr><td>NH  </td><td> 68 </td><td>1885</td><td>372 </td><td>598 </td><td>1   </td></tr>\n",
       "\t<tr><td>VT  </td><td> 72 </td><td>1745</td><td>397 </td><td>370 </td><td>1   </td></tr>\n",
       "\t<tr><td>MA  </td><td> 72 </td><td>2394</td><td>358 </td><td>868 </td><td>1   </td></tr>\n",
       "\t<tr><td>RI  </td><td> 62 </td><td>1966</td><td>357 </td><td>899 </td><td>1   </td></tr>\n",
       "\t<tr><td>CT  </td><td> 91 </td><td>2817</td><td>362 </td><td>690 </td><td>1   </td></tr>\n",
       "\t<tr><td>NY  </td><td>104 </td><td>2685</td><td>341 </td><td>728 </td><td>1   </td></tr>\n",
       "\t<tr><td>NJ  </td><td> 99 </td><td>2521</td><td>353 </td><td>826 </td><td>1   </td></tr>\n",
       "\t<tr><td>PA  </td><td> 70 </td><td>2127</td><td>352 </td><td>656 </td><td>1   </td></tr>\n",
       "\t<tr><td>OH  </td><td> 82 </td><td>2184</td><td>387 </td><td>674 </td><td>2   </td></tr>\n",
       "\t<tr><td>IN  </td><td> 84 </td><td>1990</td><td>392 </td><td>568 </td><td>2   </td></tr>\n",
       "\t<tr><td>IL  </td><td> 84 </td><td>2435</td><td>366 </td><td>759 </td><td>2   </td></tr>\n",
       "\t<tr><td>MI  </td><td>104 </td><td>2099</td><td>403 </td><td>650 </td><td>2   </td></tr>\n",
       "\t<tr><td>WI  </td><td> 84 </td><td>1936</td><td>393 </td><td>621 </td><td>2   </td></tr>\n",
       "\t<tr><td>MN  </td><td>103 </td><td>1916</td><td>402 </td><td>610 </td><td>2   </td></tr>\n",
       "\t<tr><td>IA  </td><td> 86 </td><td>1863</td><td>385 </td><td>522 </td><td>2   </td></tr>\n",
       "\t<tr><td>MO  </td><td> 69 </td><td>2037</td><td>364 </td><td>613 </td><td>2   </td></tr>\n",
       "\t<tr><td>ND  </td><td> 94 </td><td>1697</td><td>429 </td><td>351 </td><td>2   </td></tr>\n",
       "\t<tr><td>SD  </td><td> 79 </td><td>1644</td><td>411 </td><td>390 </td><td>2   </td></tr>\n",
       "\t<tr><td>NB  </td><td> 80 </td><td>1894</td><td>379 </td><td>520 </td><td>2   </td></tr>\n",
       "\t<tr><td>KS  </td><td> 98 </td><td>2001</td><td>380 </td><td>564 </td><td>2   </td></tr>\n",
       "\t<tr><td>DE  </td><td>124 </td><td>2760</td><td>388 </td><td>326 </td><td>3   </td></tr>\n",
       "\t<tr><td>MD  </td><td> 92 </td><td>2221</td><td>393 </td><td>562 </td><td>3   </td></tr>\n",
       "\t<tr><td>VA  </td><td> 67 </td><td>1674</td><td>402 </td><td>487 </td><td>3   </td></tr>\n",
       "\t<tr><td>WV  </td><td> 66 </td><td>1509</td><td>405 </td><td>358 </td><td>3   </td></tr>\n",
       "\t<tr><td>NC  </td><td> 65 </td><td>1384</td><td>423 </td><td>362 </td><td>3   </td></tr>\n",
       "\t<tr><td>SC  </td><td> 57 </td><td>1218</td><td>453 </td><td>343 </td><td>3   </td></tr>\n",
       "\t<tr><td>GA  </td><td> 60 </td><td>1487</td><td>420 </td><td>498 </td><td>3   </td></tr>\n",
       "\t<tr><td>FL  </td><td> 74 </td><td>1876</td><td>334 </td><td>628 </td><td>3   </td></tr>\n",
       "\t<tr><td>KY  </td><td> 49 </td><td>1397</td><td>594 </td><td>377 </td><td>3   </td></tr>\n",
       "\t<tr><td>TN  </td><td> 60 </td><td>1439</td><td>346 </td><td>457 </td><td>3   </td></tr>\n",
       "\t<tr><td>AL  </td><td> 59 </td><td>1359</td><td>637 </td><td>517 </td><td>3   </td></tr>\n",
       "\t<tr><td>MS  </td><td> 68 </td><td>1053</td><td>448 </td><td>362 </td><td>3   </td></tr>\n",
       "\t<tr><td>AR  </td><td> 56 </td><td>1225</td><td>403 </td><td>416 </td><td>3   </td></tr>\n",
       "\t<tr><td>LA  </td><td> 72 </td><td>1576</td><td>433 </td><td>562 </td><td>3   </td></tr>\n",
       "\t<tr><td>OK  </td><td> 80 </td><td>1740</td><td>378 </td><td>610 </td><td>3   </td></tr>\n",
       "\t<tr><td>TX  </td><td> 79 </td><td>1814</td><td>409 </td><td>727 </td><td>3   </td></tr>\n",
       "\t<tr><td>MT  </td><td> 95 </td><td>1920</td><td>412 </td><td>463 </td><td>4   </td></tr>\n",
       "\t<tr><td>ID  </td><td> 79 </td><td>1701</td><td>418 </td><td>414 </td><td>4   </td></tr>\n",
       "\t<tr><td>WY  </td><td>142 </td><td>2088</td><td>415 </td><td>568 </td><td>4   </td></tr>\n",
       "\t<tr><td>CO  </td><td>108 </td><td>2047</td><td>399 </td><td>621 </td><td>4   </td></tr>\n",
       "\t<tr><td>NM  </td><td> 94 </td><td>1838</td><td>458 </td><td>618 </td><td>4   </td></tr>\n",
       "\t<tr><td>AZ  </td><td>107 </td><td>1932</td><td>425 </td><td>699 </td><td>4   </td></tr>\n",
       "\t<tr><td>UT  </td><td>109 </td><td>1753</td><td>494 </td><td>665 </td><td>4   </td></tr>\n",
       "\t<tr><td>NV  </td><td>114 </td><td>2569</td><td>372 </td><td>663 </td><td>4   </td></tr>\n",
       "\t<tr><td>WA  </td><td>112 </td><td>2160</td><td>386 </td><td>584 </td><td>4   </td></tr>\n",
       "\t<tr><td>OR  </td><td>105 </td><td>2006</td><td>382 </td><td>534 </td><td>4   </td></tr>\n",
       "\t<tr><td>CA  </td><td>129 </td><td>2557</td><td>373 </td><td>717 </td><td>4   </td></tr>\n",
       "\t<tr><td>AK  </td><td>107 </td><td>1900</td><td>434 </td><td>379 </td><td>4   </td></tr>\n",
       "\t<tr><td>HI  </td><td> 77 </td><td>1852</td><td>431 </td><td>693 </td><td>4   </td></tr>\n",
       "</tbody>\n",
       "</table>\n"
      ],
      "text/latex": [
       "\\begin{tabular}{r|llllll}\n",
       " STATE & Y & X1 & X2 & X3 & Region\\\\\n",
       "\\hline\n",
       "\t ME   &  61  & 1704 & 388  & 399  & 1   \\\\\n",
       "\t NH   &  68  & 1885 & 372  & 598  & 1   \\\\\n",
       "\t VT   &  72  & 1745 & 397  & 370  & 1   \\\\\n",
       "\t MA   &  72  & 2394 & 358  & 868  & 1   \\\\\n",
       "\t RI   &  62  & 1966 & 357  & 899  & 1   \\\\\n",
       "\t CT   &  91  & 2817 & 362  & 690  & 1   \\\\\n",
       "\t NY   & 104  & 2685 & 341  & 728  & 1   \\\\\n",
       "\t NJ   &  99  & 2521 & 353  & 826  & 1   \\\\\n",
       "\t PA   &  70  & 2127 & 352  & 656  & 1   \\\\\n",
       "\t OH   &  82  & 2184 & 387  & 674  & 2   \\\\\n",
       "\t IN   &  84  & 1990 & 392  & 568  & 2   \\\\\n",
       "\t IL   &  84  & 2435 & 366  & 759  & 2   \\\\\n",
       "\t MI   & 104  & 2099 & 403  & 650  & 2   \\\\\n",
       "\t WI   &  84  & 1936 & 393  & 621  & 2   \\\\\n",
       "\t MN   & 103  & 1916 & 402  & 610  & 2   \\\\\n",
       "\t IA   &  86  & 1863 & 385  & 522  & 2   \\\\\n",
       "\t MO   &  69  & 2037 & 364  & 613  & 2   \\\\\n",
       "\t ND   &  94  & 1697 & 429  & 351  & 2   \\\\\n",
       "\t SD   &  79  & 1644 & 411  & 390  & 2   \\\\\n",
       "\t NB   &  80  & 1894 & 379  & 520  & 2   \\\\\n",
       "\t KS   &  98  & 2001 & 380  & 564  & 2   \\\\\n",
       "\t DE   & 124  & 2760 & 388  & 326  & 3   \\\\\n",
       "\t MD   &  92  & 2221 & 393  & 562  & 3   \\\\\n",
       "\t VA   &  67  & 1674 & 402  & 487  & 3   \\\\\n",
       "\t WV   &  66  & 1509 & 405  & 358  & 3   \\\\\n",
       "\t NC   &  65  & 1384 & 423  & 362  & 3   \\\\\n",
       "\t SC   &  57  & 1218 & 453  & 343  & 3   \\\\\n",
       "\t GA   &  60  & 1487 & 420  & 498  & 3   \\\\\n",
       "\t FL   &  74  & 1876 & 334  & 628  & 3   \\\\\n",
       "\t KY   &  49  & 1397 & 594  & 377  & 3   \\\\\n",
       "\t TN   &  60  & 1439 & 346  & 457  & 3   \\\\\n",
       "\t AL   &  59  & 1359 & 637  & 517  & 3   \\\\\n",
       "\t MS   &  68  & 1053 & 448  & 362  & 3   \\\\\n",
       "\t AR   &  56  & 1225 & 403  & 416  & 3   \\\\\n",
       "\t LA   &  72  & 1576 & 433  & 562  & 3   \\\\\n",
       "\t OK   &  80  & 1740 & 378  & 610  & 3   \\\\\n",
       "\t TX   &  79  & 1814 & 409  & 727  & 3   \\\\\n",
       "\t MT   &  95  & 1920 & 412  & 463  & 4   \\\\\n",
       "\t ID   &  79  & 1701 & 418  & 414  & 4   \\\\\n",
       "\t WY   & 142  & 2088 & 415  & 568  & 4   \\\\\n",
       "\t CO   & 108  & 2047 & 399  & 621  & 4   \\\\\n",
       "\t NM   &  94  & 1838 & 458  & 618  & 4   \\\\\n",
       "\t AZ   & 107  & 1932 & 425  & 699  & 4   \\\\\n",
       "\t UT   & 109  & 1753 & 494  & 665  & 4   \\\\\n",
       "\t NV   & 114  & 2569 & 372  & 663  & 4   \\\\\n",
       "\t WA   & 112  & 2160 & 386  & 584  & 4   \\\\\n",
       "\t OR   & 105  & 2006 & 382  & 534  & 4   \\\\\n",
       "\t CA   & 129  & 2557 & 373  & 717  & 4   \\\\\n",
       "\t AK   & 107  & 1900 & 434  & 379  & 4   \\\\\n",
       "\t HI   &  77  & 1852 & 431  & 693  & 4   \\\\\n",
       "\\end{tabular}\n"
      ],
      "text/markdown": [
       "\n",
       "STATE | Y | X1 | X2 | X3 | Region | \n",
       "|---|---|---|---|---|---|---|---|---|---|---|---|---|---|---|---|---|---|---|---|---|---|---|---|---|---|---|---|---|---|---|---|---|---|---|---|---|---|---|---|---|---|---|---|---|---|---|---|---|---|\n",
       "| ME   |  61  | 1704 | 388  | 399  | 1    | \n",
       "| NH   |  68  | 1885 | 372  | 598  | 1    | \n",
       "| VT   |  72  | 1745 | 397  | 370  | 1    | \n",
       "| MA   |  72  | 2394 | 358  | 868  | 1    | \n",
       "| RI   |  62  | 1966 | 357  | 899  | 1    | \n",
       "| CT   |  91  | 2817 | 362  | 690  | 1    | \n",
       "| NY   | 104  | 2685 | 341  | 728  | 1    | \n",
       "| NJ   |  99  | 2521 | 353  | 826  | 1    | \n",
       "| PA   |  70  | 2127 | 352  | 656  | 1    | \n",
       "| OH   |  82  | 2184 | 387  | 674  | 2    | \n",
       "| IN   |  84  | 1990 | 392  | 568  | 2    | \n",
       "| IL   |  84  | 2435 | 366  | 759  | 2    | \n",
       "| MI   | 104  | 2099 | 403  | 650  | 2    | \n",
       "| WI   |  84  | 1936 | 393  | 621  | 2    | \n",
       "| MN   | 103  | 1916 | 402  | 610  | 2    | \n",
       "| IA   |  86  | 1863 | 385  | 522  | 2    | \n",
       "| MO   |  69  | 2037 | 364  | 613  | 2    | \n",
       "| ND   |  94  | 1697 | 429  | 351  | 2    | \n",
       "| SD   |  79  | 1644 | 411  | 390  | 2    | \n",
       "| NB   |  80  | 1894 | 379  | 520  | 2    | \n",
       "| KS   |  98  | 2001 | 380  | 564  | 2    | \n",
       "| DE   | 124  | 2760 | 388  | 326  | 3    | \n",
       "| MD   |  92  | 2221 | 393  | 562  | 3    | \n",
       "| VA   |  67  | 1674 | 402  | 487  | 3    | \n",
       "| WV   |  66  | 1509 | 405  | 358  | 3    | \n",
       "| NC   |  65  | 1384 | 423  | 362  | 3    | \n",
       "| SC   |  57  | 1218 | 453  | 343  | 3    | \n",
       "| GA   |  60  | 1487 | 420  | 498  | 3    | \n",
       "| FL   |  74  | 1876 | 334  | 628  | 3    | \n",
       "| KY   |  49  | 1397 | 594  | 377  | 3    | \n",
       "| TN   |  60  | 1439 | 346  | 457  | 3    | \n",
       "| AL   |  59  | 1359 | 637  | 517  | 3    | \n",
       "| MS   |  68  | 1053 | 448  | 362  | 3    | \n",
       "| AR   |  56  | 1225 | 403  | 416  | 3    | \n",
       "| LA   |  72  | 1576 | 433  | 562  | 3    | \n",
       "| OK   |  80  | 1740 | 378  | 610  | 3    | \n",
       "| TX   |  79  | 1814 | 409  | 727  | 3    | \n",
       "| MT   |  95  | 1920 | 412  | 463  | 4    | \n",
       "| ID   |  79  | 1701 | 418  | 414  | 4    | \n",
       "| WY   | 142  | 2088 | 415  | 568  | 4    | \n",
       "| CO   | 108  | 2047 | 399  | 621  | 4    | \n",
       "| NM   |  94  | 1838 | 458  | 618  | 4    | \n",
       "| AZ   | 107  | 1932 | 425  | 699  | 4    | \n",
       "| UT   | 109  | 1753 | 494  | 665  | 4    | \n",
       "| NV   | 114  | 2569 | 372  | 663  | 4    | \n",
       "| WA   | 112  | 2160 | 386  | 584  | 4    | \n",
       "| OR   | 105  | 2006 | 382  | 534  | 4    | \n",
       "| CA   | 129  | 2557 | 373  | 717  | 4    | \n",
       "| AK   | 107  | 1900 | 434  | 379  | 4    | \n",
       "| HI   |  77  | 1852 | 431  | 693  | 4    | \n",
       "\n",
       "\n"
      ],
      "text/plain": [
       "   STATE Y   X1   X2  X3  Region\n",
       "1  ME     61 1704 388 399 1     \n",
       "2  NH     68 1885 372 598 1     \n",
       "3  VT     72 1745 397 370 1     \n",
       "4  MA     72 2394 358 868 1     \n",
       "5  RI     62 1966 357 899 1     \n",
       "6  CT     91 2817 362 690 1     \n",
       "7  NY    104 2685 341 728 1     \n",
       "8  NJ     99 2521 353 826 1     \n",
       "9  PA     70 2127 352 656 1     \n",
       "10 OH     82 2184 387 674 2     \n",
       "11 IN     84 1990 392 568 2     \n",
       "12 IL     84 2435 366 759 2     \n",
       "13 MI    104 2099 403 650 2     \n",
       "14 WI     84 1936 393 621 2     \n",
       "15 MN    103 1916 402 610 2     \n",
       "16 IA     86 1863 385 522 2     \n",
       "17 MO     69 2037 364 613 2     \n",
       "18 ND     94 1697 429 351 2     \n",
       "19 SD     79 1644 411 390 2     \n",
       "20 NB     80 1894 379 520 2     \n",
       "21 KS     98 2001 380 564 2     \n",
       "22 DE    124 2760 388 326 3     \n",
       "23 MD     92 2221 393 562 3     \n",
       "24 VA     67 1674 402 487 3     \n",
       "25 WV     66 1509 405 358 3     \n",
       "26 NC     65 1384 423 362 3     \n",
       "27 SC     57 1218 453 343 3     \n",
       "28 GA     60 1487 420 498 3     \n",
       "29 FL     74 1876 334 628 3     \n",
       "30 KY     49 1397 594 377 3     \n",
       "31 TN     60 1439 346 457 3     \n",
       "32 AL     59 1359 637 517 3     \n",
       "33 MS     68 1053 448 362 3     \n",
       "34 AR     56 1225 403 416 3     \n",
       "35 LA     72 1576 433 562 3     \n",
       "36 OK     80 1740 378 610 3     \n",
       "37 TX     79 1814 409 727 3     \n",
       "38 MT     95 1920 412 463 4     \n",
       "39 ID     79 1701 418 414 4     \n",
       "40 WY    142 2088 415 568 4     \n",
       "41 CO    108 2047 399 621 4     \n",
       "42 NM     94 1838 458 618 4     \n",
       "43 AZ    107 1932 425 699 4     \n",
       "44 UT    109 1753 494 665 4     \n",
       "45 NV    114 2569 372 663 4     \n",
       "46 WA    112 2160 386 584 4     \n",
       "47 OR    105 2006 382 534 4     \n",
       "48 CA    129 2557 373 717 4     \n",
       "49 AK    107 1900 434 379 4     \n",
       "50 HI     77 1852 431 693 4     "
      ]
     },
     "metadata": {},
     "output_type": "display_data"
    }
   ],
   "source": [
    "# 7.1 표 5.12 의 교육비 지출 데이터에 대하여 7.4절의 분석을 수행하여 보아라.\n",
    "library(ggplot2) # ggplot\n",
    "library(ggfortify) # autoplot\n",
    "library(gridExtra)\n",
    "\n",
    "setwd('D:/Working/03.Korea/회귀분석/report/Chapter6')\n",
    "p151_data <- read.table(\"P151.txt\", header = TRUE)\n",
    "p151_data"
   ]
  },
  {
   "cell_type": "code",
   "execution_count": 42,
   "metadata": {
    "scrolled": false
   },
   "outputs": [
    {
     "data": {
      "text/plain": [
       "\n",
       "Call:\n",
       "lm(formula = Y ~ X1 + X2 + X3, data = p151_data)\n",
       "\n",
       "Residuals:\n",
       "    Min      1Q  Median      3Q     Max \n",
       "-30.787  -9.202  -2.578  10.590  48.548 \n",
       "\n",
       "Coefficients:\n",
       "              Estimate Std. Error t value Pr(>|t|)    \n",
       "(Intercept) -11.404627  28.976165  -0.394    0.696    \n",
       "X1            0.044933   0.007667   5.860 4.69e-07 ***\n",
       "X2            0.066223   0.048834   1.356    0.182    \n",
       "X3           -0.028954   0.019293  -1.501    0.140    \n",
       "---\n",
       "Signif. codes:  0 '***' 0.001 '**' 0.01 '*' 0.05 '.' 0.1 ' ' 1\n",
       "\n",
       "Residual standard error: 15.7 on 46 degrees of freedom\n",
       "Multiple R-squared:  0.4721,\tAdjusted R-squared:  0.4376 \n",
       "F-statistic: 13.71 on 3 and 46 DF,  p-value: 1.608e-06\n"
      ]
     },
     "metadata": {},
     "output_type": "display_data"
    }
   ],
   "source": [
    "summary(p151_reg <- lm(Y ~ X1 + X2 + X3, data = p151_data))"
   ]
  },
  {
   "cell_type": "code",
   "execution_count": 80,
   "metadata": {
    "scrolled": false
   },
   "outputs": [
    {
     "data": {
      "image/png": "[encoded data removed]",
      "text/plain": [
       "plot without title"
      ]
     },
     "metadata": {},
     "output_type": "display_data"
    }
   ],
   "source": [
    "par(mfrow=c(3,2))\n",
    "\n",
    "index <- which(abs(rstandard(p151_reg)) > 3)[[1]]\n",
    "\n",
    "plot(fitted(p151_reg),rstandard(p151_reg),pch=20,xlab=\"Fitted\",ylab=\"Standardizedresiduals\")\n",
    "text(fitted(p151_reg)[index],rstandard(p151_reg)[index],labels=p151_data$STATE[index], pos=2)\n",
    "\n",
    "plot(p151_data$Region,rstandard(p151_reg),pch=20,xlab=\"Region\",ylab=\"Standardizedresiduals\")\n",
    "text(p151_data$Region[index],rstandard(p151_reg)[index],labels=p151_data$STATE[index], pos=2)\n",
    "\n",
    "plot(p151_data$X1,rstandard(p151_reg),pch=20,xlab=\"X1\",ylab=\"Standardizedresiduals\")\n",
    "text(p151_data$X1[index],rstandard(p151_reg)[index],labels=p151_data$STATE[index], pos=2)\n",
    "\n",
    "plot(p151_data$X2,rstandard(p151_reg),pch=20,xlab=\"X2\",ylab=\"Standardizedresiduals\")\n",
    "text(p151_data$X2[index],rstandard(p151_reg)[index],labels=p151_data$STATE[index], pos=2)\n",
    "\n",
    "plot(p151_data$X3,rstandard(p151_reg),pch=20,xlab=\"X3\",ylab=\"Standardizedresiduals\")\n",
    "text(p151_data$X3[index],rstandard(p151_reg)[index],labels=p151_data$STATE[index], pos=2)"
   ]
  },
  {
   "cell_type": "code",
   "execution_count": 44,
   "metadata": {},
   "outputs": [
    {
     "data": {
      "text/plain": [
       "\n",
       "Call:\n",
       "lm(formula = Y ~ X1 + X2 + X3, data = p151_data2)\n",
       "\n",
       "Residuals:\n",
       "    Min      1Q  Median      3Q     Max \n",
       "-28.588  -8.762  -2.418  11.601  29.545 \n",
       "\n",
       "Coefficients:\n",
       "             Estimate Std. Error t value Pr(>|t|)    \n",
       "(Intercept) -4.796075  26.034133  -0.184    0.855    \n",
       "X1           0.042599   0.006903   6.171 1.74e-07 ***\n",
       "X2           0.055569   0.043866   1.267    0.212    \n",
       "X3          -0.026883   0.017299  -1.554    0.127    \n",
       "---\n",
       "Signif. codes:  0 '***' 0.001 '**' 0.01 '*' 0.05 '.' 0.1 ' ' 1\n",
       "\n",
       "Residual standard error: 14.07 on 45 degrees of freedom\n",
       "Multiple R-squared:  0.5097,\tAdjusted R-squared:  0.477 \n",
       "F-statistic: 15.59 on 3 and 45 DF,  p-value: 4.305e-07\n"
      ]
     },
     "metadata": {},
     "output_type": "display_data"
    }
   ],
   "source": [
    "p151_data2 <- p151_data[-index,]\n",
    "summary(p151_reg2 <- lm(Y ~ X1 + X2 + X3, data = p151_data2))"
   ]
  },
  {
   "cell_type": "code",
   "execution_count": 77,
   "metadata": {},
   "outputs": [
    {
     "data": {
      "image/png": "[encoded data removed]",
      "text/plain": [
       "plot without title"
      ]
     },
     "metadata": {},
     "output_type": "display_data"
    }
   ],
   "source": [
    "par(mfrow=c(2,2))\n",
    "\n",
    "plot(fitted(p151_reg2),rstandard(p151_reg2),pch=20,xlab=\"Fitted\",ylab=\"Standardizedresiduals\")\n",
    "plot(p151_data2$Region,rstandard(p151_reg2),pch=20,xlab=\"Region\",ylab=\"Standardizedresiduals\")"
   ]
  },
  {
   "cell_type": "code",
   "execution_count": 55,
   "metadata": {},
   "outputs": [
    {
     "name": "stdout",
     "output_type": "stream",
     "text": [
      "'data.frame':\t49 obs. of  6 variables:\n",
      " $ STATE : Factor w/ 50 levels \"AK\",\"AL\",\"AR\",..: 21 30 46 19 39 7 34 31 38 35 ...\n",
      " $ Y     : int  61 68 72 72 62 91 104 99 70 82 ...\n",
      " $ X1    : int  1704 1885 1745 2394 1966 2817 2685 2521 2127 2184 ...\n",
      " $ X2    : int  388 372 397 358 357 362 341 353 352 387 ...\n",
      " $ X3    : int  399 598 370 868 899 690 728 826 656 674 ...\n",
      " $ Region: int  1 1 1 1 1 1 1 1 1 2 ...\n"
     ]
    },
    {
     "data": {
      "text/plain": [
       "\n",
       " 1  2  3  4 \n",
       " 9 12 16 12 "
      ]
     },
     "metadata": {},
     "output_type": "display_data"
    }
   ],
   "source": [
    "str(p151_data2)\n",
    "p151_reg2out = cbind(p151_data2, resid(p151_reg2))\n",
    "w = table(p151_data2$Region)\n",
    "w"
   ]
  },
  {
   "cell_type": "code",
   "execution_count": 96,
   "metadata": {},
   "outputs": [
    {
     "data": {
      "text/html": [
       "<table>\n",
       "<thead><tr><th></th><th scope=col>STATE</th><th scope=col>Y</th><th scope=col>X1</th><th scope=col>X2</th><th scope=col>X3</th><th scope=col>Region</th><th scope=col>resid(p151_reg2)</th><th scope=col>wgt</th></tr></thead>\n",
       "<tbody>\n",
       "\t<tr><th scope=row>1</th><td>ME         </td><td> 61        </td><td>1704       </td><td>388        </td><td>399        </td><td>1          </td><td>-17.6277494</td><td>0.6645324  </td></tr>\n",
       "\t<tr><th scope=row>2</th><td>NH         </td><td> 68        </td><td>1885       </td><td>372        </td><td>598        </td><td>1          </td><td>-12.0993915</td><td>0.6645324  </td></tr>\n",
       "\t<tr><th scope=row>3</th><td>VT         </td><td> 72        </td><td>1745       </td><td>397        </td><td>370        </td><td>1          </td><td> -9.6540529</td><td>0.6645324  </td></tr>\n",
       "\t<tr><th scope=row>4</th><td>MA         </td><td> 72        </td><td>2394       </td><td>358        </td><td>868        </td><td>1          </td><td>-21.7460476</td><td>0.6645324  </td></tr>\n",
       "\t<tr><th scope=row>5</th><td>RI         </td><td> 62        </td><td>1966       </td><td>357        </td><td>899        </td><td>1          </td><td>-12.6246063</td><td>0.6645324  </td></tr>\n",
       "\t<tr><th scope=row>6</th><td>CT         </td><td> 91        </td><td>2817       </td><td>362        </td><td>690        </td><td>1          </td><td>-25.7730034</td><td>0.6645324  </td></tr>\n",
       "\t<tr><th scope=row>7</th><td>NY         </td><td>104        </td><td>2685       </td><td>341        </td><td>728        </td><td>1          </td><td> -4.9613835</td><td>0.6645324  </td></tr>\n",
       "\t<tr><th scope=row>8</th><td>NJ         </td><td> 99        </td><td>2521       </td><td>353        </td><td>826        </td><td>1          </td><td> -1.0073973</td><td>0.6645324  </td></tr>\n",
       "\t<tr><th scope=row>9</th><td>PA         </td><td> 70        </td><td>2127       </td><td>352        </td><td>656        </td><td>1          </td><td>-17.7378174</td><td>0.6645324  </td></tr>\n",
       "\t<tr><th scope=row>10</th><td>OH         </td><td> 82        </td><td>2184       </td><td>387        </td><td>674        </td><td>2          </td><td> -9.6270137</td><td>1.3078299  </td></tr>\n",
       "\t<tr><th scope=row>11</th><td>IN         </td><td> 84        </td><td>1990       </td><td>392        </td><td>568        </td><td>2          </td><td> -2.4901968</td><td>1.3078299  </td></tr>\n",
       "\t<tr><th scope=row>12</th><td>IL         </td><td> 84        </td><td>2435       </td><td>366        </td><td>759        </td><td>2          </td><td>-14.8674225</td><td>1.3078299  </td></tr>\n",
       "\t<tr><th scope=row>13</th><td>MI         </td><td>104        </td><td>2099       </td><td>403        </td><td>650        </td><td>2          </td><td> 14.4596230</td><td>1.3078299  </td></tr>\n",
       "\t<tr><th scope=row>14</th><td>WI         </td><td> 84        </td><td>1936       </td><td>393        </td><td>621        </td><td>2          </td><td>  1.1793953</td><td>1.3078299  </td></tr>\n",
       "\t<tr><th scope=row>15</th><td>MN         </td><td>103        </td><td>1916       </td><td>402        </td><td>610        </td><td>2          </td><td> 20.2355431</td><td>1.3078299  </td></tr>\n",
       "\t<tr><th scope=row>16</th><td>IA         </td><td> 86        </td><td>1863       </td><td>385        </td><td>522        </td><td>2          </td><td>  4.0722814</td><td>1.3078299  </td></tr>\n",
       "\t<tr><th scope=row>17</th><td>MO         </td><td> 69        </td><td>2037       </td><td>364        </td><td>613        </td><td>2          </td><td>-16.7266836</td><td>1.3078299  </td></tr>\n",
       "\t<tr><th scope=row>18</th><td>ND         </td><td> 94        </td><td>1697       </td><td>429        </td><td>351        </td><td>2          </td><td> 12.1017138</td><td>1.3078299  </td></tr>\n",
       "\t<tr><th scope=row>19</th><td>SD         </td><td> 79        </td><td>1644       </td><td>411        </td><td>390        </td><td>2          </td><td>  1.4081639</td><td>1.3078299  </td></tr>\n",
       "\t<tr><th scope=row>20</th><td>NB         </td><td> 80        </td><td>1894       </td><td>379        </td><td>520        </td><td>2          </td><td> -2.9686461</td><td>1.3078299  </td></tr>\n",
       "\t<tr><th scope=row>21</th><td>KS         </td><td> 98        </td><td>2001       </td><td>380        </td><td>564        </td><td>2          </td><td> 11.6005123</td><td>1.3078299  </td></tr>\n",
       "\t<tr><th scope=row>22</th><td>DE         </td><td>124        </td><td>2760       </td><td>388        </td><td>326        </td><td>3          </td><td> -1.5750653</td><td>1.7508120  </td></tr>\n",
       "\t<tr><th scope=row>23</th><td>MD         </td><td> 92        </td><td>2221       </td><td>393        </td><td>562        </td><td>3          </td><td> -4.5475016</td><td>1.7508120  </td></tr>\n",
       "\t<tr><th scope=row>24</th><td>VA         </td><td> 67        </td><td>1674       </td><td>402        </td><td>487        </td><td>3          </td><td> -8.7620378</td><td>1.7508120  </td></tr>\n",
       "\t<tr><th scope=row>25</th><td>WV         </td><td> 66        </td><td>1509       </td><td>405        </td><td>358        </td><td>3          </td><td> -6.3677708</td><td>1.7508120  </td></tr>\n",
       "\t<tr><th scope=row>26</th><td>NC         </td><td> 65        </td><td>1384       </td><td>423        </td><td>362        </td><td>3          </td><td> -2.9355769</td><td>1.7508120  </td></tr>\n",
       "\t<tr><th scope=row>27</th><td>SC         </td><td> 57        </td><td>1218       </td><td>453        </td><td>343        </td><td>3          </td><td> -6.0419545</td><td>1.7508120  </td></tr>\n",
       "\t<tr><th scope=row>28</th><td>GA         </td><td> 60        </td><td>1487       </td><td>420        </td><td>498        </td><td>3          </td><td> -8.5005065</td><td>1.7508120  </td></tr>\n",
       "\t<tr><th scope=row>29</th><td>FL         </td><td> 74        </td><td>1876       </td><td>334        </td><td>628        </td><td>3          </td><td> -2.7978684</td><td>1.7508120  </td></tr>\n",
       "\t<tr><th scope=row>30</th><td>KY         </td><td> 49        </td><td>1397       </td><td>594        </td><td>377        </td><td>3          </td><td>-28.5884982</td><td>1.7508120  </td></tr>\n",
       "\t<tr><th scope=row>31</th><td>TN         </td><td> 60        </td><td>1439       </td><td>346        </td><td>457        </td><td>3          </td><td> -3.4458046</td><td>1.7508120  </td></tr>\n",
       "\t<tr><th scope=row>32</th><td>AL         </td><td> 59        </td><td>1359       </td><td>637        </td><td>517        </td><td>3          </td><td>-15.5955897</td><td>1.7508120  </td></tr>\n",
       "\t<tr><th scope=row>33</th><td>MS         </td><td> 68        </td><td>1053       </td><td>448        </td><td>362        </td><td>3          </td><td> 12.7755537</td><td>1.7508120  </td></tr>\n",
       "\t<tr><th scope=row>34</th><td>AR         </td><td> 56        </td><td>1225       </td><td>403        </td><td>416        </td><td>3          </td><td> -2.5992174</td><td>1.7508120  </td></tr>\n",
       "\t<tr><th scope=row>35</th><td>LA         </td><td> 72        </td><td>1576       </td><td>433        </td><td>562        </td><td>3          </td><td>  0.7062661</td><td>1.7508120  </td></tr>\n",
       "\t<tr><th scope=row>36</th><td>OK         </td><td> 80        </td><td>1740       </td><td>378        </td><td>610        </td><td>3          </td><td>  6.0666858</td><td>1.7508120  </td></tr>\n",
       "\t<tr><th scope=row>37</th><td>TX         </td><td> 79        </td><td>1814       </td><td>409        </td><td>727        </td><td>3          </td><td>  3.3369974</td><td>1.7508120  </td></tr>\n",
       "\t<tr><th scope=row>38</th><td>MT         </td><td> 95        </td><td>1920       </td><td>412        </td><td>463        </td><td>4          </td><td>  7.5576488</td><td>0.5504644  </td></tr>\n",
       "\t<tr><th scope=row>39</th><td>ID         </td><td> 79        </td><td>1701       </td><td>418        </td><td>414        </td><td>4          </td><td> -0.7637898</td><td>0.5504644  </td></tr>\n",
       "\t<tr><th scope=row>41</th><td>CO         </td><td>108        </td><td>2047       </td><td>399        </td><td>621        </td><td>4          </td><td> 20.1174568</td><td>0.5504644  </td></tr>\n",
       "\t<tr><th scope=row>42</th><td>NM         </td><td> 94        </td><td>1838       </td><td>458        </td><td>618        </td><td>4          </td><td> 11.6614631</td><td>0.5504644  </td></tr>\n",
       "\t<tr><th scope=row>43</th><td>AZ         </td><td>107        </td><td>1932       </td><td>425        </td><td>699        </td><td>4          </td><td> 24.6684450</td><td>0.5504644  </td></tr>\n",
       "\t<tr><th scope=row>44</th><td>UT         </td><td>109        </td><td>1753       </td><td>494        </td><td>665        </td><td>4          </td><td> 29.5454046</td><td>0.5504644  </td></tr>\n",
       "\t<tr><th scope=row>45</th><td>NV         </td><td>114        </td><td>2569       </td><td>372        </td><td>663        </td><td>4          </td><td>  6.5100861</td><td>0.5504644  </td></tr>\n",
       "\t<tr><th scope=row>46</th><td>WA         </td><td>112        </td><td>2160       </td><td>386        </td><td>584        </td><td>4          </td><td> 19.0314678</td><td>0.5504644  </td></tr>\n",
       "\t<tr><th scope=row>47</th><td>OR         </td><td>105        </td><td>2006       </td><td>382        </td><td>534        </td><td>4          </td><td> 17.4698866</td><td>0.5504644  </td></tr>\n",
       "\t<tr><th scope=row>48</th><td>CA         </td><td>129        </td><td>2557       </td><td>373        </td><td>717        </td><td>4          </td><td> 23.4173908</td><td>0.5504644  </td></tr>\n",
       "\t<tr><th scope=row>49</th><td>AK         </td><td>107        </td><td>1900       </td><td>434        </td><td>379        </td><td>4          </td><td> 16.9289339</td><td>0.5504644  </td></tr>\n",
       "\t<tr><th scope=row>50</th><td>HI         </td><td> 77        </td><td>1852       </td><td>431        </td><td>693        </td><td>4          </td><td> -2.4183261</td><td>0.5504644  </td></tr>\n",
       "</tbody>\n",
       "</table>\n"
      ],
      "text/latex": [
       "\\begin{tabular}{r|llllllll}\n",
       "  & STATE & Y & X1 & X2 & X3 & Region & resid(p151\\_reg2) & wgt\\\\\n",
       "\\hline\n",
       "\t1 & ME          &  61         & 1704        & 388         & 399         & 1           & -17.6277494 & 0.6645324  \\\\\n",
       "\t2 & NH          &  68         & 1885        & 372         & 598         & 1           & -12.0993915 & 0.6645324  \\\\\n",
       "\t3 & VT          &  72         & 1745        & 397         & 370         & 1           &  -9.6540529 & 0.6645324  \\\\\n",
       "\t4 & MA          &  72         & 2394        & 358         & 868         & 1           & -21.7460476 & 0.6645324  \\\\\n",
       "\t5 & RI          &  62         & 1966        & 357         & 899         & 1           & -12.6246063 & 0.6645324  \\\\\n",
       "\t6 & CT          &  91         & 2817        & 362         & 690         & 1           & -25.7730034 & 0.6645324  \\\\\n",
       "\t7 & NY          & 104         & 2685        & 341         & 728         & 1           &  -4.9613835 & 0.6645324  \\\\\n",
       "\t8 & NJ          &  99         & 2521        & 353         & 826         & 1           &  -1.0073973 & 0.6645324  \\\\\n",
       "\t9 & PA          &  70         & 2127        & 352         & 656         & 1           & -17.7378174 & 0.6645324  \\\\\n",
       "\t10 & OH          &  82         & 2184        & 387         & 674         & 2           &  -9.6270137 & 1.3078299  \\\\\n",
       "\t11 & IN          &  84         & 1990        & 392         & 568         & 2           &  -2.4901968 & 1.3078299  \\\\\n",
       "\t12 & IL          &  84         & 2435        & 366         & 759         & 2           & -14.8674225 & 1.3078299  \\\\\n",
       "\t13 & MI          & 104         & 2099        & 403         & 650         & 2           &  14.4596230 & 1.3078299  \\\\\n",
       "\t14 & WI          &  84         & 1936        & 393         & 621         & 2           &   1.1793953 & 1.3078299  \\\\\n",
       "\t15 & MN          & 103         & 1916        & 402         & 610         & 2           &  20.2355431 & 1.3078299  \\\\\n",
       "\t16 & IA          &  86         & 1863        & 385         & 522         & 2           &   4.0722814 & 1.3078299  \\\\\n",
       "\t17 & MO          &  69         & 2037        & 364         & 613         & 2           & -16.7266836 & 1.3078299  \\\\\n",
       "\t18 & ND          &  94         & 1697        & 429         & 351         & 2           &  12.1017138 & 1.3078299  \\\\\n",
       "\t19 & SD          &  79         & 1644        & 411         & 390         & 2           &   1.4081639 & 1.3078299  \\\\\n",
       "\t20 & NB          &  80         & 1894        & 379         & 520         & 2           &  -2.9686461 & 1.3078299  \\\\\n",
       "\t21 & KS          &  98         & 2001        & 380         & 564         & 2           &  11.6005123 & 1.3078299  \\\\\n",
       "\t22 & DE          & 124         & 2760        & 388         & 326         & 3           &  -1.5750653 & 1.7508120  \\\\\n",
       "\t23 & MD          &  92         & 2221        & 393         & 562         & 3           &  -4.5475016 & 1.7508120  \\\\\n",
       "\t24 & VA          &  67         & 1674        & 402         & 487         & 3           &  -8.7620378 & 1.7508120  \\\\\n",
       "\t25 & WV          &  66         & 1509        & 405         & 358         & 3           &  -6.3677708 & 1.7508120  \\\\\n",
       "\t26 & NC          &  65         & 1384        & 423         & 362         & 3           &  -2.9355769 & 1.7508120  \\\\\n",
       "\t27 & SC          &  57         & 1218        & 453         & 343         & 3           &  -6.0419545 & 1.7508120  \\\\\n",
       "\t28 & GA          &  60         & 1487        & 420         & 498         & 3           &  -8.5005065 & 1.7508120  \\\\\n",
       "\t29 & FL          &  74         & 1876        & 334         & 628         & 3           &  -2.7978684 & 1.7508120  \\\\\n",
       "\t30 & KY          &  49         & 1397        & 594         & 377         & 3           & -28.5884982 & 1.7508120  \\\\\n",
       "\t31 & TN          &  60         & 1439        & 346         & 457         & 3           &  -3.4458046 & 1.7508120  \\\\\n",
       "\t32 & AL          &  59         & 1359        & 637         & 517         & 3           & -15.5955897 & 1.7508120  \\\\\n",
       "\t33 & MS          &  68         & 1053        & 448         & 362         & 3           &  12.7755537 & 1.7508120  \\\\\n",
       "\t34 & AR          &  56         & 1225        & 403         & 416         & 3           &  -2.5992174 & 1.7508120  \\\\\n",
       "\t35 & LA          &  72         & 1576        & 433         & 562         & 3           &   0.7062661 & 1.7508120  \\\\\n",
       "\t36 & OK          &  80         & 1740        & 378         & 610         & 3           &   6.0666858 & 1.7508120  \\\\\n",
       "\t37 & TX          &  79         & 1814        & 409         & 727         & 3           &   3.3369974 & 1.7508120  \\\\\n",
       "\t38 & MT          &  95         & 1920        & 412         & 463         & 4           &   7.5576488 & 0.5504644  \\\\\n",
       "\t39 & ID          &  79         & 1701        & 418         & 414         & 4           &  -0.7637898 & 0.5504644  \\\\\n",
       "\t41 & CO          & 108         & 2047        & 399         & 621         & 4           &  20.1174568 & 0.5504644  \\\\\n",
       "\t42 & NM          &  94         & 1838        & 458         & 618         & 4           &  11.6614631 & 0.5504644  \\\\\n",
       "\t43 & AZ          & 107         & 1932        & 425         & 699         & 4           &  24.6684450 & 0.5504644  \\\\\n",
       "\t44 & UT          & 109         & 1753        & 494         & 665         & 4           &  29.5454046 & 0.5504644  \\\\\n",
       "\t45 & NV          & 114         & 2569        & 372         & 663         & 4           &   6.5100861 & 0.5504644  \\\\\n",
       "\t46 & WA          & 112         & 2160        & 386         & 584         & 4           &  19.0314678 & 0.5504644  \\\\\n",
       "\t47 & OR          & 105         & 2006        & 382         & 534         & 4           &  17.4698866 & 0.5504644  \\\\\n",
       "\t48 & CA          & 129         & 2557        & 373         & 717         & 4           &  23.4173908 & 0.5504644  \\\\\n",
       "\t49 & AK          & 107         & 1900        & 434         & 379         & 4           &  16.9289339 & 0.5504644  \\\\\n",
       "\t50 & HI          &  77         & 1852        & 431         & 693         & 4           &  -2.4183261 & 0.5504644  \\\\\n",
       "\\end{tabular}\n"
      ],
      "text/markdown": [
       "\n",
       "| <!--/--> | STATE | Y | X1 | X2 | X3 | Region | resid(p151_reg2) | wgt | \n",
       "|---|---|---|---|---|---|---|---|---|---|---|---|---|---|---|---|---|---|---|---|---|---|---|---|---|---|---|---|---|---|---|---|---|---|---|---|---|---|---|---|---|---|---|---|---|---|---|---|---|\n",
       "| 1 | ME          |  61         | 1704        | 388         | 399         | 1           | -17.6277494 | 0.6645324   | \n",
       "| 2 | NH          |  68         | 1885        | 372         | 598         | 1           | -12.0993915 | 0.6645324   | \n",
       "| 3 | VT          |  72         | 1745        | 397         | 370         | 1           |  -9.6540529 | 0.6645324   | \n",
       "| 4 | MA          |  72         | 2394        | 358         | 868         | 1           | -21.7460476 | 0.6645324   | \n",
       "| 5 | RI          |  62         | 1966        | 357         | 899         | 1           | -12.6246063 | 0.6645324   | \n",
       "| 6 | CT          |  91         | 2817        | 362         | 690         | 1           | -25.7730034 | 0.6645324   | \n",
       "| 7 | NY          | 104         | 2685        | 341         | 728         | 1           |  -4.9613835 | 0.6645324   | \n",
       "| 8 | NJ          |  99         | 2521        | 353         | 826         | 1           |  -1.0073973 | 0.6645324   | \n",
       "| 9 | PA          |  70         | 2127        | 352         | 656         | 1           | -17.7378174 | 0.6645324   | \n",
       "| 10 | OH          |  82         | 2184        | 387         | 674         | 2           |  -9.6270137 | 1.3078299   | \n",
       "| 11 | IN          |  84         | 1990        | 392         | 568         | 2           |  -2.4901968 | 1.3078299   | \n",
       "| 12 | IL          |  84         | 2435        | 366         | 759         | 2           | -14.8674225 | 1.3078299   | \n",
       "| 13 | MI          | 104         | 2099        | 403         | 650         | 2           |  14.4596230 | 1.3078299   | \n",
       "| 14 | WI          |  84         | 1936        | 393         | 621         | 2           |   1.1793953 | 1.3078299   | \n",
       "| 15 | MN          | 103         | 1916        | 402         | 610         | 2           |  20.2355431 | 1.3078299   | \n",
       "| 16 | IA          |  86         | 1863        | 385         | 522         | 2           |   4.0722814 | 1.3078299   | \n",
       "| 17 | MO          |  69         | 2037        | 364         | 613         | 2           | -16.7266836 | 1.3078299   | \n",
       "| 18 | ND          |  94         | 1697        | 429         | 351         | 2           |  12.1017138 | 1.3078299   | \n",
       "| 19 | SD          |  79         | 1644        | 411         | 390         | 2           |   1.4081639 | 1.3078299   | \n",
       "| 20 | NB          |  80         | 1894        | 379         | 520         | 2           |  -2.9686461 | 1.3078299   | \n",
       "| 21 | KS          |  98         | 2001        | 380         | 564         | 2           |  11.6005123 | 1.3078299   | \n",
       "| 22 | DE          | 124         | 2760        | 388         | 326         | 3           |  -1.5750653 | 1.7508120   | \n",
       "| 23 | MD          |  92         | 2221        | 393         | 562         | 3           |  -4.5475016 | 1.7508120   | \n",
       "| 24 | VA          |  67         | 1674        | 402         | 487         | 3           |  -8.7620378 | 1.7508120   | \n",
       "| 25 | WV          |  66         | 1509        | 405         | 358         | 3           |  -6.3677708 | 1.7508120   | \n",
       "| 26 | NC          |  65         | 1384        | 423         | 362         | 3           |  -2.9355769 | 1.7508120   | \n",
       "| 27 | SC          |  57         | 1218        | 453         | 343         | 3           |  -6.0419545 | 1.7508120   | \n",
       "| 28 | GA          |  60         | 1487        | 420         | 498         | 3           |  -8.5005065 | 1.7508120   | \n",
       "| 29 | FL          |  74         | 1876        | 334         | 628         | 3           |  -2.7978684 | 1.7508120   | \n",
       "| 30 | KY          |  49         | 1397        | 594         | 377         | 3           | -28.5884982 | 1.7508120   | \n",
       "| 31 | TN          |  60         | 1439        | 346         | 457         | 3           |  -3.4458046 | 1.7508120   | \n",
       "| 32 | AL          |  59         | 1359        | 637         | 517         | 3           | -15.5955897 | 1.7508120   | \n",
       "| 33 | MS          |  68         | 1053        | 448         | 362         | 3           |  12.7755537 | 1.7508120   | \n",
       "| 34 | AR          |  56         | 1225        | 403         | 416         | 3           |  -2.5992174 | 1.7508120   | \n",
       "| 35 | LA          |  72         | 1576        | 433         | 562         | 3           |   0.7062661 | 1.7508120   | \n",
       "| 36 | OK          |  80         | 1740        | 378         | 610         | 3           |   6.0666858 | 1.7508120   | \n",
       "| 37 | TX          |  79         | 1814        | 409         | 727         | 3           |   3.3369974 | 1.7508120   | \n",
       "| 38 | MT          |  95         | 1920        | 412         | 463         | 4           |   7.5576488 | 0.5504644   | \n",
       "| 39 | ID          |  79         | 1701        | 418         | 414         | 4           |  -0.7637898 | 0.5504644   | \n",
       "| 41 | CO          | 108         | 2047        | 399         | 621         | 4           |  20.1174568 | 0.5504644   | \n",
       "| 42 | NM          |  94         | 1838        | 458         | 618         | 4           |  11.6614631 | 0.5504644   | \n",
       "| 43 | AZ          | 107         | 1932        | 425         | 699         | 4           |  24.6684450 | 0.5504644   | \n",
       "| 44 | UT          | 109         | 1753        | 494         | 665         | 4           |  29.5454046 | 0.5504644   | \n",
       "| 45 | NV          | 114         | 2569        | 372         | 663         | 4           |   6.5100861 | 0.5504644   | \n",
       "| 46 | WA          | 112         | 2160        | 386         | 584         | 4           |  19.0314678 | 0.5504644   | \n",
       "| 47 | OR          | 105         | 2006        | 382         | 534         | 4           |  17.4698866 | 0.5504644   | \n",
       "| 48 | CA          | 129         | 2557        | 373         | 717         | 4           |  23.4173908 | 0.5504644   | \n",
       "| 49 | AK          | 107         | 1900        | 434         | 379         | 4           |  16.9289339 | 0.5504644   | \n",
       "| 50 | HI          |  77         | 1852        | 431         | 693         | 4           |  -2.4183261 | 0.5504644   | \n",
       "\n",
       "\n"
      ],
      "text/plain": [
       "   STATE Y   X1   X2  X3  Region resid(p151_reg2) wgt      \n",
       "1  ME     61 1704 388 399 1      -17.6277494      0.6645324\n",
       "2  NH     68 1885 372 598 1      -12.0993915      0.6645324\n",
       "3  VT     72 1745 397 370 1       -9.6540529      0.6645324\n",
       "4  MA     72 2394 358 868 1      -21.7460476      0.6645324\n",
       "5  RI     62 1966 357 899 1      -12.6246063      0.6645324\n",
       "6  CT     91 2817 362 690 1      -25.7730034      0.6645324\n",
       "7  NY    104 2685 341 728 1       -4.9613835      0.6645324\n",
       "8  NJ     99 2521 353 826 1       -1.0073973      0.6645324\n",
       "9  PA     70 2127 352 656 1      -17.7378174      0.6645324\n",
       "10 OH     82 2184 387 674 2       -9.6270137      1.3078299\n",
       "11 IN     84 1990 392 568 2       -2.4901968      1.3078299\n",
       "12 IL     84 2435 366 759 2      -14.8674225      1.3078299\n",
       "13 MI    104 2099 403 650 2       14.4596230      1.3078299\n",
       "14 WI     84 1936 393 621 2        1.1793953      1.3078299\n",
       "15 MN    103 1916 402 610 2       20.2355431      1.3078299\n",
       "16 IA     86 1863 385 522 2        4.0722814      1.3078299\n",
       "17 MO     69 2037 364 613 2      -16.7266836      1.3078299\n",
       "18 ND     94 1697 429 351 2       12.1017138      1.3078299\n",
       "19 SD     79 1644 411 390 2        1.4081639      1.3078299\n",
       "20 NB     80 1894 379 520 2       -2.9686461      1.3078299\n",
       "21 KS     98 2001 380 564 2       11.6005123      1.3078299\n",
       "22 DE    124 2760 388 326 3       -1.5750653      1.7508120\n",
       "23 MD     92 2221 393 562 3       -4.5475016      1.7508120\n",
       "24 VA     67 1674 402 487 3       -8.7620378      1.7508120\n",
       "25 WV     66 1509 405 358 3       -6.3677708      1.7508120\n",
       "26 NC     65 1384 423 362 3       -2.9355769      1.7508120\n",
       "27 SC     57 1218 453 343 3       -6.0419545      1.7508120\n",
       "28 GA     60 1487 420 498 3       -8.5005065      1.7508120\n",
       "29 FL     74 1876 334 628 3       -2.7978684      1.7508120\n",
       "30 KY     49 1397 594 377 3      -28.5884982      1.7508120\n",
       "31 TN     60 1439 346 457 3       -3.4458046      1.7508120\n",
       "32 AL     59 1359 637 517 3      -15.5955897      1.7508120\n",
       "33 MS     68 1053 448 362 3       12.7755537      1.7508120\n",
       "34 AR     56 1225 403 416 3       -2.5992174      1.7508120\n",
       "35 LA     72 1576 433 562 3        0.7062661      1.7508120\n",
       "36 OK     80 1740 378 610 3        6.0666858      1.7508120\n",
       "37 TX     79 1814 409 727 3        3.3369974      1.7508120\n",
       "38 MT     95 1920 412 463 4        7.5576488      0.5504644\n",
       "39 ID     79 1701 418 414 4       -0.7637898      0.5504644\n",
       "41 CO    108 2047 399 621 4       20.1174568      0.5504644\n",
       "42 NM     94 1838 458 618 4       11.6614631      0.5504644\n",
       "43 AZ    107 1932 425 699 4       24.6684450      0.5504644\n",
       "44 UT    109 1753 494 665 4       29.5454046      0.5504644\n",
       "45 NV    114 2569 372 663 4        6.5100861      0.5504644\n",
       "46 WA    112 2160 386 584 4       19.0314678      0.5504644\n",
       "47 OR    105 2006 382 534 4       17.4698866      0.5504644\n",
       "48 CA    129 2557 373 717 4       23.4173908      0.5504644\n",
       "49 AK    107 1900 434 379 4       16.9289339      0.5504644\n",
       "50 HI     77 1852 431 693 4       -2.4183261      0.5504644"
      ]
     },
     "metadata": {},
     "output_type": "display_data"
    }
   ],
   "source": [
    "resid_str <- 'resid(p151_reg2)'\n",
    "\n",
    "sig2 = sum(p151_reg2out[,resid_str]^2)/nrow(p151_data2)\n",
    "sig12 = sum(p151_reg2out[p151_reg2out$Region == 1, resid_str]^2)/(w[1] - 1)\n",
    "sig22 = sum(p151_reg2out[p151_reg2out$Region == 2, resid_str]^2)/(w[2] - 1)\n",
    "sig32 = sum(p151_reg2out[p151_reg2out$Region == 3, resid_str]^2)/(w[3] - 1)\n",
    "sig42 = sum(p151_reg2out[p151_reg2out$Region == 4, resid_str]^2)/(w[4] - 1)\n",
    "\n",
    "c1 = sqrt(sig12 * dim(p151_data2)[1] / sum(resid(p151_reg2)^2))\n",
    "c2 = sqrt(sig22 * dim(p151_data2)[1] / sum(resid(p151_reg2)^2))\n",
    "c3 = sqrt(sig32 * dim(p151_data2)[1] / sum(resid(p151_reg2)^2))\n",
    "c4 = sqrt(sig42 * dim(p151_data2)[1] / sum(resid(p151_reg2)^2))\n",
    "\n",
    "wgt = 1 / (c(rep(c1,w[1]),rep(c2,w[2]),rep(c3,w[3]),rep(c4, w[4])))^2\n",
    "\n",
    "p151_reg3out = cbind(p151_reg2out, wgt)\n",
    "p151_reg3out"
   ]
  },
  {
   "cell_type": "code",
   "execution_count": 56,
   "metadata": {},
   "outputs": [
    {
     "data": {
      "text/plain": [
       "\n",
       "Call:\n",
       "lm(formula = Y ~ X1 + X2 + X3, data = p151_data2, weights = wgt)\n",
       "\n",
       "Weighted Residuals:\n",
       "     Min       1Q   Median       3Q      Max \n",
       "-25.6944  -7.8488  -0.4786  11.4370  25.7995 \n",
       "\n",
       "Coefficients:\n",
       "             Estimate Std. Error t value Pr(>|t|)    \n",
       "(Intercept) 17.495642  20.082494   0.871   0.3883    \n",
       "X1           0.040100   0.005538   7.241 4.48e-09 ***\n",
       "X2           0.008260   0.032936   0.251   0.8031    \n",
       "X3          -0.026534   0.015160  -1.750   0.0869 .  \n",
       "---\n",
       "Signif. codes:  0 '***' 0.001 '**' 0.01 '*' 0.05 '.' 0.1 ' ' 1\n",
       "\n",
       "Residual standard error: 13.07 on 45 degrees of freedom\n",
       "Multiple R-squared:  0.6058,\tAdjusted R-squared:  0.5795 \n",
       "F-statistic: 23.05 on 3 and 45 DF,  p-value: 3.446e-09\n"
      ]
     },
     "metadata": {},
     "output_type": "display_data"
    }
   ],
   "source": [
    "summary(p151_reg3 <- lm( Y ~ X1 + X2 + X3, data = p151_data2, weights = wgt))"
   ]
  },
  {
   "cell_type": "code",
   "execution_count": 79,
   "metadata": {},
   "outputs": [
    {
     "data": {
      "image/png": "[encoded data removed]",
      "text/plain": [
       "plot without title"
      ]
     },
     "metadata": {},
     "output_type": "display_data"
    }
   ],
   "source": [
    "par(mfrow=c(2,2))\n",
    "\n",
    "plot(fitted(p151_reg2),rstandard(p151_reg2),pch=20,xlab=\"Fitted\",ylab=\"Standardizedresiduals\")\n",
    "plot(p151_data2$Region,rstandard(p151_reg2),pch=20,xlab=\"Region\",ylab=\"Standardizedresiduals\")\n",
    "\n",
    "plot(fitted(p151_reg2),rstandard(p151_reg3),pch=20,xlab=\"Fitted\",ylab=\"Standardizedresiduals\")\n",
    "plot(p151_data2$Region,rstandard(p151_reg3),pch=20,xlab=\"Region\",ylab=\"Standardizedresiduals\")"
   ]
  },
  {
   "cell_type": "code",
   "execution_count": 111,
   "metadata": {},
   "outputs": [
    {
     "data": {
      "text/plain": [
       "\n",
       "Call:\n",
       "lm(formula = Y ~ X1 + X2 + X3, data = p151_data2)\n",
       "\n",
       "Residuals:\n",
       "    Min      1Q  Median      3Q     Max \n",
       "-28.588  -8.762  -2.418  11.601  29.545 \n",
       "\n",
       "Coefficients:\n",
       "             Estimate Std. Error t value Pr(>|t|)    \n",
       "(Intercept) -4.796075  26.034133  -0.184    0.855    \n",
       "X1           0.042599   0.006903   6.171 1.74e-07 ***\n",
       "X2           0.055569   0.043866   1.267    0.212    \n",
       "X3          -0.026883   0.017299  -1.554    0.127    \n",
       "---\n",
       "Signif. codes:  0 '***' 0.001 '**' 0.01 '*' 0.05 '.' 0.1 ' ' 1\n",
       "\n",
       "Residual standard error: 14.07 on 45 degrees of freedom\n",
       "Multiple R-squared:  0.5097,\tAdjusted R-squared:  0.477 \n",
       "F-statistic: 15.59 on 3 and 45 DF,  p-value: 4.305e-07\n"
      ]
     },
     "metadata": {},
     "output_type": "display_data"
    },
    {
     "data": {
      "text/plain": [
       "\n",
       "Call:\n",
       "lm(formula = Y ~ X1 + X2 + X3, data = p151_data2, weights = wgt)\n",
       "\n",
       "Weighted Residuals:\n",
       "     Min       1Q   Median       3Q      Max \n",
       "-25.6944  -7.8488  -0.4786  11.4370  25.7995 \n",
       "\n",
       "Coefficients:\n",
       "             Estimate Std. Error t value Pr(>|t|)    \n",
       "(Intercept) 17.495642  20.082494   0.871   0.3883    \n",
       "X1           0.040100   0.005538   7.241 4.48e-09 ***\n",
       "X2           0.008260   0.032936   0.251   0.8031    \n",
       "X3          -0.026534   0.015160  -1.750   0.0869 .  \n",
       "---\n",
       "Signif. codes:  0 '***' 0.001 '**' 0.01 '*' 0.05 '.' 0.1 ' ' 1\n",
       "\n",
       "Residual standard error: 13.07 on 45 degrees of freedom\n",
       "Multiple R-squared:  0.6058,\tAdjusted R-squared:  0.5795 \n",
       "F-statistic: 23.05 on 3 and 45 DF,  p-value: 3.446e-09\n"
      ]
     },
     "metadata": {},
     "output_type": "display_data"
    },
    {
     "data": {
      "text/html": [
       "0.605762643207218"
      ],
      "text/latex": [
       "0.605762643207218"
      ],
      "text/markdown": [
       "0.605762643207218"
      ],
      "text/plain": [
       "[1] 0.6057626"
      ]
     },
     "metadata": {},
     "output_type": "display_data"
    },
    {
     "data": {
      "text/html": [
       "0.491030496666566"
      ],
      "text/latex": [
       "0.491030496666566"
      ],
      "text/markdown": [
       "0.491030496666566"
      ],
      "text/plain": [
       "[1] 0.4910305"
      ]
     },
     "metadata": {},
     "output_type": "display_data"
    }
   ],
   "source": [
    "summary(p151_reg2 <- lm(Y ~ X1 + X2 + X3, data = p151_data2))\n",
    "\n",
    "summary(p151_reg3 <- lm(Y ~ X1 + X2 + X3, data = p151_data2, weights = wgt))\n",
    "\n",
    "ff <- p151_reg3$fitted\n",
    "rr <- p151_reg3$resid # unweighted residual\n",
    "\n",
    "mss <- sum(wgt * (ff - sum (wgt * ff / sum(wgt)))^2)\n",
    "rss <- sum(wgt * rr^2)\n",
    "\n",
    "# Multiple Rsquared reported using Weighted RSS\n",
    "1 - rss / (mss + rss)\n",
    "\n",
    "# Rsquared reported using Ordinary RSS\n",
    "1 - sum(rr^2)/sum((p151_data2$Y - mean(p151_data2$Y))^2)"
   ]
  }
 ],
 "metadata": {
  "kernelspec": {
   "display_name": "R",
   "language": "R",
   "name": "ir"
  },
  "language_info": {
   "codemirror_mode": "r",
   "file_extension": ".r",
   "mimetype": "text/x-r-source",
   "name": "R",
   "pygments_lexer": "r",
   "version": "3.5.1"
  }
 },
 "nbformat": 4,
 "nbformat_minor": 2
}
