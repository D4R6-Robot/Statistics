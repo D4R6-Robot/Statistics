{
 "cells": [
  {
   "cell_type": "code",
   "execution_count": 245,
   "metadata": {},
   "outputs": [
    {
     "name": "stdout",
     "output_type": "stream",
     "text": [
      "'data.frame':\t51 obs. of  8 variables:\n",
      " $ State : Factor w/ 51 levels \"AK\",\"AL\",\"AR\",..: 2 1 4 3 5 6 7 9 8 10 ...\n",
      " $ Age   : num  27 22.9 26.3 29.1 28.1 26.2 29.1 26.8 28.4 32.3 ...\n",
      " $ HS    : num  41.3 66.7 58.1 39.9 62.6 63.9 56 54.6 55.2 52.6 ...\n",
      " $ Income: num  2948 4644 3665 2878 4493 ...\n",
      " $ Black : num  26.2 3 3 18.3 7 3 6 14.3 71.1 15.3 ...\n",
      " $ Female: num  51.7 45.7 50.8 51.5 50.8 50.7 51.5 51.3 53.5 51.8 ...\n",
      " $ Price : num  42.7 41.8 38.5 38.8 39.7 31.1 45.5 41.3 32.6 43.8 ...\n",
      " $ Sales : num  89.8 121.3 115.2 100.3 123 ...\n"
     ]
    }
   ],
   "source": [
    "setwd('D:/Working/03.Korea/회귀분석/report')\n",
    "p088_data <- read.table(\"P088.txt\", header = TRUE)\n",
    "str(p088_data)"
   ]
  },
  {
   "cell_type": "code",
   "execution_count": 246,
   "metadata": {},
   "outputs": [
    {
     "data": {
      "text/html": [
       "<table>\n",
       "<thead><tr><th scope=col>Res.Df</th><th scope=col>RSS</th><th scope=col>Df</th><th scope=col>Sum of Sq</th><th scope=col>F</th><th scope=col>Pr(&gt;F)</th></tr></thead>\n",
       "<tbody>\n",
       "\t<tr><td>45        </td><td>34954.42  </td><td>NA        </td><td>      NA  </td><td>        NA</td><td>       NA </td></tr>\n",
       "\t<tr><td>44        </td><td>34925.97  </td><td> 1        </td><td>28.45307  </td><td>0.03584539</td><td>0.8507058 </td></tr>\n",
       "</tbody>\n",
       "</table>\n"
      ],
      "text/latex": [
       "\\begin{tabular}{r|llllll}\n",
       " Res.Df & RSS & Df & Sum of Sq & F & Pr(>F)\\\\\n",
       "\\hline\n",
       "\t 45         & 34954.42   & NA         &       NA   &         NA &        NA \\\\\n",
       "\t 44         & 34925.97   &  1         & 28.45307   & 0.03584539 & 0.8507058 \\\\\n",
       "\\end{tabular}\n"
      ],
      "text/markdown": [
       "\n",
       "Res.Df | RSS | Df | Sum of Sq | F | Pr(>F) | \n",
       "|---|---|\n",
       "| 45         | 34954.42   | NA         |       NA   |         NA |        NA  | \n",
       "| 44         | 34925.97   |  1         | 28.45307   | 0.03584539 | 0.8507058  | \n",
       "\n",
       "\n"
      ],
      "text/plain": [
       "  Res.Df RSS      Df Sum of Sq F          Pr(>F)   \n",
       "1 45     34954.42 NA       NA          NA        NA\n",
       "2 44     34925.97  1 28.45307  0.03584539 0.8507058"
      ]
     },
     "metadata": {},
     "output_type": "display_data"
    }
   ],
   "source": [
    "# a)\n",
    "model_reduce <- lm(Sales ~ Age + HS + Income + Black + Price, p088_data)\n",
    "model_full <- lm(Sales ~ Age + HS + Income + Black + Female + Price, p088_data)\n",
    "data <- anova(model_reduce, model_full)\n",
    "data"
   ]
  },
  {
   "cell_type": "code",
   "execution_count": 247,
   "metadata": {},
   "outputs": [
    {
     "data": {
      "text/html": [
       "<table>\n",
       "<thead><tr><th scope=col>Res.Df</th><th scope=col>RSS</th><th scope=col>Df</th><th scope=col>Sum of Sq</th><th scope=col>F</th><th scope=col>Pr(&gt;F)</th></tr></thead>\n",
       "<tbody>\n",
       "\t<tr><td>46        </td><td>34959.77  </td><td>NA        </td><td>      NA  </td><td>        NA</td><td>       NA </td></tr>\n",
       "\t<tr><td>44        </td><td>34925.97  </td><td> 2        </td><td>33.79856  </td><td>0.02128984</td><td>0.9789453 </td></tr>\n",
       "</tbody>\n",
       "</table>\n"
      ],
      "text/latex": [
       "\\begin{tabular}{r|llllll}\n",
       " Res.Df & RSS & Df & Sum of Sq & F & Pr(>F)\\\\\n",
       "\\hline\n",
       "\t 46         & 34959.77   & NA         &       NA   &         NA &        NA \\\\\n",
       "\t 44         & 34925.97   &  2         & 33.79856   & 0.02128984 & 0.9789453 \\\\\n",
       "\\end{tabular}\n"
      ],
      "text/markdown": [
       "\n",
       "Res.Df | RSS | Df | Sum of Sq | F | Pr(>F) | \n",
       "|---|---|\n",
       "| 46         | 34959.77   | NA         |       NA   |         NA |        NA  | \n",
       "| 44         | 34925.97   |  2         | 33.79856   | 0.02128984 | 0.9789453  | \n",
       "\n",
       "\n"
      ],
      "text/plain": [
       "  Res.Df RSS      Df Sum of Sq F          Pr(>F)   \n",
       "1 46     34959.77 NA       NA          NA        NA\n",
       "2 44     34925.97  2 33.79856  0.02128984 0.9789453"
      ]
     },
     "metadata": {},
     "output_type": "display_data"
    }
   ],
   "source": [
    "# b)\n",
    "model_reduce <- lm(Sales ~ Age + Income + Black + Price, p088_data)\n",
    "model_full <- lm(Sales ~ Age + HS + Income + Black + Female + Price, p088_data)\n",
    "data <- anova(model_reduce, model_full)\n",
    "data"
   ]
  },
  {
   "cell_type": "code",
   "execution_count": 248,
   "metadata": {},
   "outputs": [
    {
     "data": {
      "text/html": [
       "<dl class=dl-horizontal>\n",
       "\t<dt>Estimate</dt>\n",
       "\t\t<dd>0.0189464529529882</dd>\n",
       "\t<dt>Std. Error</dt>\n",
       "\t\t<dd>0.0102159876587</dd>\n",
       "\t<dt>t value</dt>\n",
       "\t\t<dd>1.85458847308349</dd>\n",
       "\t<dt>Pr(&gt;|t|)</dt>\n",
       "\t\t<dd>0.0703642155789106</dd>\n",
       "</dl>\n"
      ],
      "text/latex": [
       "\\begin{description*}\n",
       "\\item[Estimate] 0.0189464529529882\n",
       "\\item[Std. Error] 0.0102159876587\n",
       "\\item[t value] 1.85458847308349\n",
       "\\item[Pr(>\\textbackslash{}textbar\\{\\}t\\textbackslash{}textbar\\{\\})] 0.0703642155789106\n",
       "\\end{description*}\n"
      ],
      "text/markdown": [
       "Estimate\n",
       ":   0.0189464529529882Std. Error\n",
       ":   0.0102159876587t value\n",
       ":   1.85458847308349Pr(&amp;gt;|t|)\n",
       ":   0.0703642155789106\n",
       "\n"
      ],
      "text/plain": [
       "  Estimate Std. Error    t value   Pr(>|t|) \n",
       "0.01894645 0.01021599 1.85458847 0.07036422 "
      ]
     },
     "metadata": {},
     "output_type": "display_data"
    },
    {
     "name": "stdout",
     "output_type": "stream",
     "text": [
      "( -0.001642517 0.03953542 )"
     ]
    },
    {
     "data": {
      "text/html": [
       "<dl class=dl-horizontal>\n",
       "\t<dt>2.5 %</dt>\n",
       "\t\t<dd>-0.00164251731527339</dd>\n",
       "\t<dt>97.5 %</dt>\n",
       "\t\t<dd>0.0395354232212497</dd>\n",
       "</dl>\n"
      ],
      "text/latex": [
       "\\begin{description*}\n",
       "\\item[2.5 \\textbackslash{}\\%] -0.00164251731527339\n",
       "\\item[97.5 \\textbackslash{}\\%] 0.0395354232212497\n",
       "\\end{description*}\n"
      ],
      "text/markdown": [
       "2.5 %\n",
       ":   -0.0016425173152733997.5 %\n",
       ":   0.0395354232212497\n",
       "\n"
      ],
      "text/plain": [
       "       2.5 %       97.5 % \n",
       "-0.001642517  0.039535423 "
      ]
     },
     "metadata": {},
     "output_type": "display_data"
    }
   ],
   "source": [
    "# c)\n",
    "summ_full <- summary(model_full)\n",
    "df = summ_full$df[2]\n",
    "summ_full$coefficients[c('Income'),]\n",
    "\n",
    "B_hat <- summ_full$coefficients[c('Income'),c('Estimate')]\n",
    "std_err <- summ_full$coefficients[c('Income'),c('Std. Error')]\n",
    "\n",
    "min <- B_hat + qt(0.025, 44) * std_err\n",
    "max <- B_hat - qt(0.025, 44) * std_err\n",
    "cat('(', min, max, ')')\n",
    "\n",
    "confint(model_full)[c('Income'),]"
   ]
  },
  {
   "cell_type": "code",
   "execution_count": 249,
   "metadata": {},
   "outputs": [
    {
     "data": {
      "text/html": [
       "<strong>$r.squared</strong> = 0.26775261691901"
      ],
      "text/latex": [
       "\\textbf{\\$r.squared} = 0.26775261691901"
      ],
      "text/markdown": [
       "**$r.squared** = 0.26775261691901"
      ],
      "text/plain": [
       "$r.squared\n",
       "[1] 0.2677526\n"
      ]
     },
     "metadata": {},
     "output_type": "display_data"
    },
    {
     "name": "stdout",
     "output_type": "stream",
     "text": [
      "26.77526 %"
     ]
    }
   ],
   "source": [
    "# d)\n",
    "model_not_income <- lm(Sales ~ Age + HS + Black + Female + Price, p088_data)\n",
    "summary(model_not_income)[\"r.squared\"]\n",
    "cat(summary(model_not_income)$r.squared * 100, '%')"
   ]
  },
  {
   "cell_type": "code",
   "execution_count": 250,
   "metadata": {},
   "outputs": [
    {
     "data": {
      "text/html": [
       "<strong>$r.squared</strong> = 0.303243378740935"
      ],
      "text/latex": [
       "\\textbf{\\$r.squared} = 0.303243378740935"
      ],
      "text/markdown": [
       "**$r.squared** = 0.303243378740935"
      ],
      "text/plain": [
       "$r.squared\n",
       "[1] 0.3032434\n"
      ]
     },
     "metadata": {},
     "output_type": "display_data"
    },
    {
     "name": "stdout",
     "output_type": "stream",
     "text": [
      "30.32434 %"
     ]
    }
   ],
   "source": [
    "# e)\n",
    "model_age_income_price <- lm(Sales ~ Age + Income + Price, p088_data)\n",
    "summary(model_age_income_price)[\"r.squared\"]\n",
    "cat(summary(model_age_income_price)$r.squared * 100, '%')"
   ]
  },
  {
   "cell_type": "code",
   "execution_count": 251,
   "metadata": {},
   "outputs": [
    {
     "data": {
      "text/html": [
       "<strong>$r.squared</strong> = 0.106320271847219"
      ],
      "text/latex": [
       "\\textbf{\\$r.squared} = 0.106320271847219"
      ],
      "text/markdown": [
       "**$r.squared** = 0.106320271847219"
      ],
      "text/plain": [
       "$r.squared\n",
       "[1] 0.1063203\n"
      ]
     },
     "metadata": {},
     "output_type": "display_data"
    },
    {
     "name": "stdout",
     "output_type": "stream",
     "text": [
      "10.63203 %"
     ]
    }
   ],
   "source": [
    "# f)\n",
    "model_income <- lm(Sales ~ Income, p088_data)\n",
    "summary(model_income)[\"r.squared\"]\n",
    "cat(summary(model_income)$r.squared * 100, '%')"
   ]
  }
 ],
 "metadata": {
  "kernelspec": {
   "display_name": "R",
   "language": "R",
   "name": "ir"
  },
  "language_info": {
   "codemirror_mode": "r",
   "file_extension": ".r",
   "mimetype": "text/x-r-source",
   "name": "R",
   "pygments_lexer": "r",
   "version": "3.5.1"
  }
 },
 "nbformat": 4,
 "nbformat_minor": 2
}
