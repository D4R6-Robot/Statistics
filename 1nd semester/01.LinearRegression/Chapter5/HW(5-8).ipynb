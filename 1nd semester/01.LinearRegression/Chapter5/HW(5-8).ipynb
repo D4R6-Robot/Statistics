{
 "cells": [
  {
   "cell_type": "code",
   "execution_count": 127,
   "metadata": {},
   "outputs": [
    {
     "name": "stdout",
     "output_type": "stream",
     "text": [
      "'data.frame':\t60 obs. of  4 variables:\n",
      " $ Age   : int  19 19 19 19 19 19 21 19 19 20 ...\n",
      " $ Height: int  61 70 70 71 64 64 69 67 62 66 ...\n",
      " $ Weight: int  180 160 135 195 130 120 135 125 120 145 ...\n",
      " $ Sex   : int  0 0 0 0 1 1 1 0 1 0 ...\n"
     ]
    }
   ],
   "source": [
    "setwd('D:/Working/03.Korea/회귀분석/report/Chapter5/Chapter5')\n",
    "p159_data <- read.table(\"P159.txt\", header = TRUE)\n",
    "str(p159_data)"
   ]
  },
  {
   "cell_type": "code",
   "execution_count": 128,
   "metadata": {},
   "outputs": [
    {
     "name": "stdout",
     "output_type": "stream",
     "text": [
      "[반응변수 Weight, 예측변수 Height]"
     ]
    },
    {
     "data": {
      "text/plain": [
       "\n",
       "Call:\n",
       "lm(formula = Weight ~ Height, data = p159_data)\n",
       "\n",
       "Residuals:\n",
       "    Min      1Q  Median      3Q     Max \n",
       "-32.209 -15.436  -4.599   9.672  61.271 \n",
       "\n",
       "Coefficients:\n",
       "            Estimate Std. Error t value Pr(>|t|)    \n",
       "(Intercept) -85.4990    52.5563  -1.627    0.109    \n",
       "Height        3.3480     0.7878   4.250 7.86e-05 ***\n",
       "---\n",
       "Signif. codes:  0 '***' 0.001 '**' 0.01 '*' 0.05 '.' 0.1 ' ' 1\n",
       "\n",
       "Residual standard error: 21.89 on 58 degrees of freedom\n",
       "Multiple R-squared:  0.2375,\tAdjusted R-squared:  0.2243 \n",
       "F-statistic: 18.06 on 1 and 58 DF,  p-value: 7.861e-05\n"
      ]
     },
     "metadata": {},
     "output_type": "display_data"
    },
    {
     "name": "stdout",
     "output_type": "stream",
     "text": [
      "[반응변수 Height, 예측변수 Weight]"
     ]
    },
    {
     "data": {
      "text/plain": [
       "\n",
       "Call:\n",
       "lm(formula = Height ~ Weight, data = p159_data)\n",
       "\n",
       "Residuals:\n",
       "     Min       1Q   Median       3Q      Max \n",
       "-12.8555  -1.7525   0.4033   2.1020   5.6269 \n",
       "\n",
       "Coefficients:\n",
       "            Estimate Std. Error t value Pr(>|t|)    \n",
       "(Intercept) 56.86217    2.33183   24.39  < 2e-16 ***\n",
       "Weight       0.07092    0.01669    4.25 7.86e-05 ***\n",
       "---\n",
       "Signif. codes:  0 '***' 0.001 '**' 0.01 '*' 0.05 '.' 0.1 ' ' 1\n",
       "\n",
       "Residual standard error: 3.186 on 58 degrees of freedom\n",
       "Multiple R-squared:  0.2375,\tAdjusted R-squared:  0.2243 \n",
       "F-statistic: 18.06 on 1 and 58 DF,  p-value: 7.861e-05\n"
      ]
     },
     "metadata": {},
     "output_type": "display_data"
    }
   ],
   "source": [
    "# (a) 변수들의 역할에 동의하는가? 아니면 역할이 바뀌어야 하는가?\n",
    "# 학생들의 키와 몸무게의 관계를 연구하고자 한다.\n",
    "cat('[반응변수 Weight, 예측변수 Height]')\n",
    "summary(reg1<-lm(Weight ~ Height,p159_data))\n",
    "cat('[반응변수 Height, 예측변수 Weight]')\n",
    "summary(reg2<-lm(Height ~ Weight,p159_data))"
   ]
  },
  {
   "cell_type": "code",
   "execution_count": 143,
   "metadata": {
    "scrolled": false
   },
   "outputs": [
    {
     "data": {
      "image/png": "[encoded data removed]",
      "text/plain": [
       "Plot with title \"Height ~ Weight,residualplot\""
      ]
     },
     "metadata": {},
     "output_type": "display_data"
    }
   ],
   "source": [
    "# (b) 두 집단의 학생들에 대한 키와 몸무게의 관계를 하나의 방정식으로 묘사할 수 있는가?\n",
    "# 통합 데이터에 그 모형을 적합하고 표준화 잔차를 검사하여라\n",
    "\n",
    "par(mfrow=c(2,2))\n",
    "plot(rstandard(reg1),main=\"Weight ~ Height,residualplot\",pch=20)\n",
    "plot(as.vector(p159_data$Sex),rstandard(reg1),main=\"Weight ~ Height,residualplot\",pch=20)\n",
    "plot(rstandard(reg2),main=\"Height ~ Weight,residualplot\",pch=20)\n",
    "plot(as.vector(p159_data$Sex),rstandard(reg2),main=\"Height ~ Weight,residualplot\",pch=20)"
   ]
  },
  {
   "cell_type": "code",
   "execution_count": 184,
   "metadata": {},
   "outputs": [
    {
     "data": {
      "image/png": "[encoded data removed]",
      "text/plain": [
       "Plot with title \"Height ~ Weight,residualplot\""
      ]
     },
     "metadata": {},
     "output_type": "display_data"
    }
   ],
   "source": [
    "par(mfrow=c(2,2))\n",
    "p159_data_m <- p159_data[-c(1,20,27,60),]\n",
    "reg3<-lm(Weight ~ Height,p159_data_m)\n",
    "reg4<-lm(Height ~ Weight,p159_data_m)\n",
    "\n",
    "plot(rstandard(reg3),main=\"Weight ~ Height,residualplot\",pch=20)\n",
    "plot(as.vector(p159_data_m$Sex),rstandard(reg3),main=\"Weight ~ Height,residualplot\",pch=20)\n",
    "plot(rstandard(reg4),main=\"Height ~ Weight,residualplot\",pch=20)\n",
    "plot(as.vector(p159_data_m$Sex),rstandard(reg4),main=\"Height ~ Weight,residualplot\",pch=20)"
   ]
  },
  {
   "cell_type": "code",
   "execution_count": 131,
   "metadata": {},
   "outputs": [
    {
     "name": "stdout",
     "output_type": "stream",
     "text": [
      "[반응변수 Weight, 예측변수 Height]"
     ]
    },
    {
     "data": {
      "text/plain": [
       "\n",
       "Call:\n",
       "lm(formula = Weight ~ (Age + Height) * Sex, data = p159_data_m)\n",
       "\n",
       "Residuals:\n",
       "    Min      1Q  Median      3Q     Max \n",
       "-36.042  -8.200   0.349  10.462  34.978 \n",
       "\n",
       "Coefficients:\n",
       "            Estimate Std. Error t value Pr(>|t|)   \n",
       "(Intercept)  -19.073    112.291  -0.170   0.8658   \n",
       "Age           -5.444      4.237  -1.285   0.2048   \n",
       "Height         3.979      1.404   2.835   0.0066 **\n",
       "Sex           25.258    130.783   0.193   0.8476   \n",
       "Age:Sex        5.009      4.436   1.129   0.2643   \n",
       "Height:Sex    -2.089      1.765  -1.184   0.2421   \n",
       "---\n",
       "Signif. codes:  0 '***' 0.001 '**' 0.01 '*' 0.05 '.' 0.1 ' ' 1\n",
       "\n",
       "Residual standard error: 14.69 on 50 degrees of freedom\n",
       "Multiple R-squared:  0.5889,\tAdjusted R-squared:  0.5477 \n",
       "F-statistic: 14.32 on 5 and 50 DF,  p-value: 1.064e-08\n"
      ]
     },
     "metadata": {},
     "output_type": "display_data"
    },
    {
     "name": "stdout",
     "output_type": "stream",
     "text": [
      "[반응변수 Height, 예측변수 Weight]"
     ]
    },
    {
     "data": {
      "text/plain": [
       "\n",
       "Call:\n",
       "lm(formula = Height ~ (Age + Weight) * Sex, data = p159_data_m)\n",
       "\n",
       "Residuals:\n",
       "    Min      1Q  Median      3Q     Max \n",
       "-3.9768 -1.3347 -0.3907  1.1299  6.0955 \n",
       "\n",
       "Coefficients:\n",
       "            Estimate Std. Error t value Pr(>|t|)    \n",
       "(Intercept) 47.18114   12.78030   3.692 0.000551 ***\n",
       "Age          0.78044    0.62307   1.253 0.216187    \n",
       "Weight       0.04495    0.02235   2.011 0.049714 *  \n",
       "Sex         -0.93242   14.00852  -0.067 0.947197    \n",
       "Age:Sex     -0.45794    0.65111  -0.703 0.485115    \n",
       "Weight:Sex   0.05677    0.04339   1.308 0.196767    \n",
       "---\n",
       "Signif. codes:  0 '***' 0.001 '**' 0.01 '*' 0.05 '.' 0.1 ' ' 1\n",
       "\n",
       "Residual standard error: 2.201 on 50 degrees of freedom\n",
       "Multiple R-squared:  0.559,\tAdjusted R-squared:  0.5149 \n",
       "F-statistic: 12.67 on 5 and 50 DF,  p-value: 5.722e-08\n"
      ]
     },
     "metadata": {},
     "output_type": "display_data"
    }
   ],
   "source": [
    "cat('[반응변수 Weight, 예측변수 Height]')\n",
    "summary(reg5<-lm(Weight ~ (Age + Height) * Sex,p159_data_m))\n",
    "cat('[반응변수 Height, 예측변수 Weight]')\n",
    "summary(reg6<-lm(Height ~ (Age + Weight) * Sex,p159_data_m))"
   ]
  },
  {
   "cell_type": "code",
   "execution_count": 201,
   "metadata": {},
   "outputs": [
    {
     "data": {
      "text/html": [
       "<table>\n",
       "<thead><tr><th></th><th scope=col>r^2</th><th scope=col>adj r^2</th><th scope=col>p-value</th></tr></thead>\n",
       "<tbody>\n",
       "\t<tr><th scope=row>r1</th><td>0.4345198   </td><td>0.4240480   </td><td>3.314475e-08</td></tr>\n",
       "\t<tr><th scope=row>r2</th><td>0.4345198   </td><td>0.4240480   </td><td>3.314475e-08</td></tr>\n",
       "\t<tr><th scope=row>r3</th><td>0.5888625   </td><td>0.5477488   </td><td>6.598352e-03</td></tr>\n",
       "\t<tr><th scope=row>r4</th><td>0.5589650   </td><td>0.5148615   </td><td>4.971407e-02</td></tr>\n",
       "\t<tr><th scope=row>r5</th><td>0.5707402   </td><td>0.5459752   </td><td>3.411840e-03</td></tr>\n",
       "\t<tr><th scope=row>r6</th><td>0.5388270   </td><td>0.5122209   </td><td>3.411840e-03</td></tr>\n",
       "</tbody>\n",
       "</table>\n"
      ],
      "text/latex": [
       "\\begin{tabular}{r|lll}\n",
       "  & r\\textasciicircum{}2 & adj r\\textasciicircum{}2 & p-value\\\\\n",
       "\\hline\n",
       "\tr1 & 0.4345198    & 0.4240480    & 3.314475e-08\\\\\n",
       "\tr2 & 0.4345198    & 0.4240480    & 3.314475e-08\\\\\n",
       "\tr3 & 0.5888625    & 0.5477488    & 6.598352e-03\\\\\n",
       "\tr4 & 0.5589650    & 0.5148615    & 4.971407e-02\\\\\n",
       "\tr5 & 0.5707402    & 0.5459752    & 3.411840e-03\\\\\n",
       "\tr6 & 0.5388270    & 0.5122209    & 3.411840e-03\\\\\n",
       "\\end{tabular}\n"
      ],
      "text/markdown": [
       "\n",
       "| <!--/--> | r^2 | adj r^2 | p-value | \n",
       "|---|---|---|---|---|---|\n",
       "| r1 | 0.4345198    | 0.4240480    | 3.314475e-08 | \n",
       "| r2 | 0.4345198    | 0.4240480    | 3.314475e-08 | \n",
       "| r3 | 0.5888625    | 0.5477488    | 6.598352e-03 | \n",
       "| r4 | 0.5589650    | 0.5148615    | 4.971407e-02 | \n",
       "| r5 | 0.5707402    | 0.5459752    | 3.411840e-03 | \n",
       "| r6 | 0.5388270    | 0.5122209    | 3.411840e-03 | \n",
       "\n",
       "\n"
      ],
      "text/plain": [
       "   r^2       adj r^2   p-value     \n",
       "r1 0.4345198 0.4240480 3.314475e-08\n",
       "r2 0.4345198 0.4240480 3.314475e-08\n",
       "r3 0.5888625 0.5477488 6.598352e-03\n",
       "r4 0.5589650 0.5148615 4.971407e-02\n",
       "r5 0.5707402 0.5459752 3.411840e-03\n",
       "r6 0.5388270 0.5122209 3.411840e-03"
      ]
     },
     "metadata": {},
     "output_type": "display_data"
    },
    {
     "data": {
      "text/html": [
       "<table>\n",
       "<thead><tr><th scope=col>Res.Df</th><th scope=col>RSS</th><th scope=col>Df</th><th scope=col>Sum of Sq</th><th scope=col>F</th><th scope=col>Pr(&gt;F)</th></tr></thead>\n",
       "<tbody>\n",
       "\t<tr><td>54        </td><td>14849.63  </td><td>NA        </td><td>       NA </td><td>      NA  </td><td>        NA</td></tr>\n",
       "\t<tr><td>50        </td><td>10796.56  </td><td> 4        </td><td>4053.0732 </td><td>4.692553  </td><td>0.00270797</td></tr>\n",
       "\t<tr><td>52        </td><td>11272.46  </td><td>-2        </td><td>-475.8977 </td><td>1.101966  </td><td>0.34014934</td></tr>\n",
       "</tbody>\n",
       "</table>\n"
      ],
      "text/latex": [
       "\\begin{tabular}{r|llllll}\n",
       " Res.Df & RSS & Df & Sum of Sq & F & Pr(>F)\\\\\n",
       "\\hline\n",
       "\t 54         & 14849.63   & NA         &        NA  &       NA   &         NA\\\\\n",
       "\t 50         & 10796.56   &  4         & 4053.0732  & 4.692553   & 0.00270797\\\\\n",
       "\t 52         & 11272.46   & -2         & -475.8977  & 1.101966   & 0.34014934\\\\\n",
       "\\end{tabular}\n"
      ],
      "text/markdown": [
       "\n",
       "Res.Df | RSS | Df | Sum of Sq | F | Pr(>F) | \n",
       "|---|---|---|\n",
       "| 54         | 14849.63   | NA         |        NA  |       NA   |         NA | \n",
       "| 50         | 10796.56   |  4         | 4053.0732  | 4.692553   | 0.00270797 | \n",
       "| 52         | 11272.46   | -2         | -475.8977  | 1.101966   | 0.34014934 | \n",
       "\n",
       "\n"
      ],
      "text/plain": [
       "  Res.Df RSS      Df Sum of Sq F        Pr(>F)    \n",
       "1 54     14849.63 NA        NA       NA         NA\n",
       "2 50     10796.56  4 4053.0732 4.692553 0.00270797\n",
       "3 52     11272.46 -2 -475.8977 1.101966 0.34014934"
      ]
     },
     "metadata": {},
     "output_type": "display_data"
    },
    {
     "data": {
      "text/html": [
       "<table>\n",
       "<thead><tr><th scope=col>Res.Df</th><th scope=col>RSS</th><th scope=col>Df</th><th scope=col>Sum of Sq</th><th scope=col>F</th><th scope=col>Pr(&gt;F)</th></tr></thead>\n",
       "<tbody>\n",
       "\t<tr><td>54        </td><td>310.6910  </td><td>NA        </td><td>       NA </td><td>      NA  </td><td>        NA</td></tr>\n",
       "\t<tr><td>50        </td><td>242.3172  </td><td> 4        </td><td> 68.37373 </td><td>3.527077  </td><td>0.01301435</td></tr>\n",
       "\t<tr><td>52        </td><td>253.3816  </td><td>-2        </td><td>-11.06436 </td><td>1.141516  </td><td>0.32751493</td></tr>\n",
       "</tbody>\n",
       "</table>\n"
      ],
      "text/latex": [
       "\\begin{tabular}{r|llllll}\n",
       " Res.Df & RSS & Df & Sum of Sq & F & Pr(>F)\\\\\n",
       "\\hline\n",
       "\t 54         & 310.6910   & NA         &        NA  &       NA   &         NA\\\\\n",
       "\t 50         & 242.3172   &  4         &  68.37373  & 3.527077   & 0.01301435\\\\\n",
       "\t 52         & 253.3816   & -2         & -11.06436  & 1.141516   & 0.32751493\\\\\n",
       "\\end{tabular}\n"
      ],
      "text/markdown": [
       "\n",
       "Res.Df | RSS | Df | Sum of Sq | F | Pr(>F) | \n",
       "|---|---|---|\n",
       "| 54         | 310.6910   | NA         |        NA  |       NA   |         NA | \n",
       "| 50         | 242.3172   |  4         |  68.37373  | 3.527077   | 0.01301435 | \n",
       "| 52         | 253.3816   | -2         | -11.06436  | 1.141516   | 0.32751493 | \n",
       "\n",
       "\n"
      ],
      "text/plain": [
       "  Res.Df RSS      Df Sum of Sq F        Pr(>F)    \n",
       "1 54     310.6910 NA        NA       NA         NA\n",
       "2 50     242.3172  4  68.37373 3.527077 0.01301435\n",
       "3 52     253.3816 -2 -11.06436 1.141516 0.32751493"
      ]
     },
     "metadata": {},
     "output_type": "display_data"
    }
   ],
   "source": [
    "#(c) 학생들의 키와 몸무게의 관계를 묘사하는 최적의 모형을 찾아라.\n",
    "\n",
    "# M1 : Weight ~ Height\n",
    "sum3<-summary(reg3)\n",
    "M1 <- c(sum3$r.squared, sum3$adj.r.squared, sum3$coefficients['Height','Pr(>|t|)'])\n",
    "\n",
    "# M2 : Height ~ Weight\n",
    "sum4<-summary(reg4)\n",
    "M2 <- c(sum4$r.squared, sum4$adj.r.squared, sum4$coefficients['Weight','Pr(>|t|)'])\n",
    "\n",
    "# M3 : Weight ~ (Age + Height) * Sex\n",
    "sum5<-summary(reg5)\n",
    "r3 <- c(sum5$r.squared, sum5$adj.r.squared, sum5$coefficients['Height','Pr(>|t|)'])\n",
    "\n",
    "# M4 : Height ~ (Age + Weight) * Sex\n",
    "sum6<-summary(reg6)\n",
    "r4 <- c(sum6$r.squared, sum6$adj.r.squared, sum6$coefficients['Weight','Pr(>|t|)'])\n",
    "\n",
    "# M5 : Weight ~ Age + Height + Sex\n",
    "reg7<-lm(Weight ~ Age + Height + Sex,p159_data_m)\n",
    "sum7<-summary(reg7)\n",
    "r5 <- c(sum7$r.squared, sum7$adj.r.squared, sum7$coefficients['Height','Pr(>|t|)'])\n",
    "\n",
    "# M6 : Height ~ Age + Weight + Sex\n",
    "reg8<-lm(Height ~ Age + Weight + Sex,p159_data_m)\n",
    "sum8<-summary(reg8)\n",
    "r6 <- c(sum8$r.squared, sum8$adj.r.squared, sum8$coefficients['Weight','Pr(>|t|)'])\n",
    "\n",
    "result <- t(data.frame(r1, r2, r3, r4, r5, r6))\n",
    "colnames(result) <- header <- c('r^2', 'adj r^2', 'p-value')\n",
    "\n",
    "result\n",
    "\n",
    "#(d) 몸무게를 예측 하기 위한 변수로서 나이를 포함 시켜야 한다고 생각하는가? 대답에 대한 직과적 견해를 제시.\n",
    "\n",
    "anova(reg3, reg5, reg7)\n",
    "\n",
    "anova(reg4, reg6, reg8)"
   ]
  }
 ],
 "metadata": {
  "kernelspec": {
   "display_name": "R",
   "language": "R",
   "name": "ir"
  },
  "language_info": {
   "codemirror_mode": "r",
   "file_extension": ".r",
   "mimetype": "text/x-r-source",
   "name": "R",
   "pygments_lexer": "r",
   "version": "3.5.1"
  }
 },
 "nbformat": 4,
 "nbformat_minor": 2
}
