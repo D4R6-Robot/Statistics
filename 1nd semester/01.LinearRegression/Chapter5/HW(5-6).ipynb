{
 "cells": [
  {
   "cell_type": "code",
   "execution_count": 8,
   "metadata": {},
   "outputs": [
    {
     "name": "stdout",
     "output_type": "stream",
     "text": [
      "'data.frame':\t90 obs. of  4 variables:\n",
      " $ Car       : Factor w/ 90 levels \"Acura-Integra\",..: 1 25 26 27 34 35 38 41 53 64 ...\n",
      " $ Country   : Factor w/ 4 levels \"Germany\",\"Japan\",..: 2 4 4 3 2 4 2 3 2 2 ...\n",
      " $ Y         : num  12.1 6.95 7.98 6.62 6.79 ...\n",
      " $ Horsepower: int  130 92 88 63 55 102 92 81 82 110 ...\n"
     ]
    }
   ],
   "source": [
    "setwd('H:/01.Korea/01.2019-1학기/05.회귀분석 방법론/Report/Chapter5')\n",
    "p155b_data <- read.table(\"P155b.txt\", header = TRUE)\n",
    "str(p155b_data)"
   ]
  },
  {
   "cell_type": "code",
   "execution_count": 9,
   "metadata": {},
   "outputs": [
    {
     "data": {
      "text/html": [
       "0.861161863634387"
      ],
      "text/latex": [
       "0.861161863634387"
      ],
      "text/markdown": [
       "0.861161863634387"
      ],
      "text/plain": [
       "[1] 0.8611619"
      ]
     },
     "metadata": {},
     "output_type": "display_data"
    }
   ],
   "source": [
    "cor(p155b_data$Y, p155b_data$Horsepower)"
   ]
  }
 ],
 "metadata": {
  "kernelspec": {
   "display_name": "R",
   "language": "R",
   "name": "ir"
  },
  "language_info": {
   "codemirror_mode": "r",
   "file_extension": ".r",
   "mimetype": "text/x-r-source",
   "name": "R",
   "pygments_lexer": "r",
   "version": "3.5.1"
  }
 },
 "nbformat": 4,
 "nbformat_minor": 2
}
