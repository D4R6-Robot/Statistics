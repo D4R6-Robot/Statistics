{
 "cells": [
  {
   "cell_type": "code",
   "execution_count": null,
   "metadata": {},
   "outputs": [],
   "source": [
    "# data package install\n",
    "# install.packages(c('e1071', 'tree', 'randomForest', 'nnet', 'kernlab'))"
   ]
  },
  {
   "cell_type": "code",
   "execution_count": 20,
   "metadata": {},
   "outputs": [],
   "source": [
    "library(e1071)        # https://www.rdocumentation.org/packages/e1071/versions/1.7-2\n",
    "library(tree)         # https://www.rdocumentation.org/pack/tree/versions/1.0-40\n",
    "library(randomForest) # https://www.rdocumentation.org/packages/randomForest/versions/4.6-14\n",
    "library(nnet)         # https://www.rdocumentation.org/packages/nnet/versions/7.3-12\n",
    "library(kernlab)      # https://www.rdocumentation.org/packages/kernlab/versions/0.9-27\n",
    "\n",
    "# 예측 된 값이 얼마나 잘 적합 했는지 ROC Curve 를 그리고 그 면적의 Area Under the Curve 를 구해서 잘 적합 되는지 본다.\n",
    "library('ROCR')           # https://www.rdocumentation.org/packages/ROCR/versions/1.0-7 "
   ]
  },
  {
   "cell_type": "code",
   "execution_count": 21,
   "metadata": {},
   "outputs": [],
   "source": [
    "data(spam)\n",
    "n <- nrow(spam)       # int 4601 obws\n",
    "p <- ncol(spam)       # int 58 variables\n",
    "\n",
    "x <- scale(spam[,-p])     # Scaling and Centering of Matrix-like Objects\n",
    "                          # Large matrix : 4601 * 57 = 262,257\n",
    "y <- as.factor(spam[,p])  # \"type\" : spam, nonsapm\n",
    "\n",
    "set.seed(1)           # seed 를 1로 고정.\n",
    "index <- sample(n)    # 4601 의 데이터를 shuffle\n",
    "\n",
    "n.tr <- 500                     # n.tr : 500 으로 조정\n",
    "\n",
    "# train, test                   # x index\n",
    "x.tr <- x[index[ (1:n.tr)], ]   # (1:n.tr) : 1 ~ 500\n",
    "x.ts <- x[index[-(1:n.tr)], ]   # -(1:n.tr) : -1 ~ -500 # int 배열 x 에서[1 ~ 500] 데이터를 뺀 데이터.\n",
    "\n",
    "# train, test                   # y index\n",
    "y.tr <- y[index[ (1:n.tr)]]     # (1:n.tr) : 1 ~ 500\n",
    "y.ts <- y[index[-(1:n.tr)]]     # -(1:n.tr) : -1 ~ -500 # int 배열 x 에서[1 ~ 500] 데이터를 뺀 데이터.\n",
    "\n",
    "tr <- data.frame(x.tr, y.tr)    # train 데이터는 data frame 으로 type casting\n",
    "ts <- data.frame(x.ts, y.ts)    # test 데이터는 data frame 으로 type casting\n",
    "names(tr) <- names(spam)        # spam 에 있는 header 변수 이름을 train 의 해더로 교체.\n",
    "                                # 마지막 변수 \"y.tr\" -> \"type\" 으로 변경"
   ]
  },
  {
   "cell_type": "code",
   "execution_count": 22,
   "metadata": {},
   "outputs": [
    {
     "data": {
      "text/html": [
       "0.723333909898342"
      ],
      "text/latex": [
       "0.723333909898342"
      ],
      "text/markdown": [
       "0.723333909898342"
      ],
      "text/plain": [
       "[1] 0.7233339"
      ]
     },
     "metadata": {},
     "output_type": "display_data"
    }
   ],
   "source": [
    "# Naieve Bayes\n",
    "\n",
    "# https://www.rdocumentation.org/packages/naivebayes/versions/0.9.6\n",
    "# apriori 알고리즘 , 참고 url\n",
    "# https://en.wikipedia.org/wiki/Apriori_algorithm\n",
    "# https://www.r-bloggers.com/implementing-apriori-algorithm-in-r/\n",
    "nb <- naiveBayes(type ~ ., data = tr) # type 을 반응 변수로 두고, 모두를 설명 변수로 시작.\n",
    "\n",
    "nb.y.ts <- predict(nb, ts[,-p])       # ts 의 58 번째 열 y.ts 삭제.\n",
    "                                      # naems(tr) 로 train set 만 y.tr > type 로 바꿈. ts 는 바꾸지 않음.\n",
    "                                      # 하기 내용으로 예측된 nb.y.ts 와 실제 맞는 ts[,p] = ts[p]$y.ts 를 비교 한다.\n",
    "\n",
    "# https://www.rdocumentation.org/packages/ROCR/versions/1.0-7/topics/prediction\n",
    "pred_naieve <- prediction(as.numeric(nb.y.ts), as.numeric(ts[p]$y.ts))\n",
    "# https://www.rdocumentation.org/packages/ROCR/versions/1.0-1/topics/performance\n",
    "# Naieve Bayes 방법으로 활용된 prediction 값으로 auc 값을 확인한다.\n",
    "result_naieve <- performance(pred_naieve, \"auc\")@y.values[[1]]\n",
    "result_naieve"
   ]
  },
  {
   "cell_type": "code",
   "execution_count": 17,
   "metadata": {},
   "outputs": [
    {
     "name": "stderr",
     "output_type": "stream",
     "text": [
      "Warning message:\n",
      "\"glm.fit: fitted probabilities numerically 0 or 1 occurred\""
     ]
    },
    {
     "data": {
      "text/html": [
       "0.881619946623705"
      ],
      "text/latex": [
       "0.881619946623705"
      ],
      "text/markdown": [
       "0.881619946623705"
      ],
      "text/plain": [
       "[1] 0.8816199"
      ]
     },
     "metadata": {},
     "output_type": "display_data"
    }
   ],
   "source": [
    "# Logistic Regression\n",
    "\n",
    "# https://www.rdocumentation.org/packages/stats/versions/3.6.0/topics/glm\n",
    "# binomial 로 주는 것이 logistic regression 이다.\n",
    "# multinomial 로는 다른 패키지를 사용 해야 한다.\n",
    "logit <- glm(type ~ ., data = tr, family=\"binomial\")\n",
    "logit.prob <- predict(logit, ts[,-p], type = \"response\")    # training 된 logit 모델을 ts 의 58 번째 열 y.ts 삭제 후 predict 시작.\n",
    "logit.y.ts <- ifelse(logit.prob > 0.5, \"spam\", \"nonspam\")   # 테스트한 데이터를 기준으로 0.5 기준으로 spam , nospam 으로 나눈다.\n",
    "\n",
    "# named vector 를 기존의 값(ts[p]$y.ts) 과 비교하기 위해서 factor 로 형 변환을 한다. 이것은 기억하자.\n",
    "factor_logic <- as.factor(logit.y.ts)\n",
    "# 하기 내용으로 예측된 factor_logic 와 실제 맞는 ts[p]$y.ts 를 비교 한다.\n",
    "pred_logit <- prediction(as.numeric(factor_logic), as.numeric(ts[p]$y.ts)) \n",
    "\n",
    "# pred_logit 의 AUC 를 보고 모델의 적합성과 얼마나 좋은지 판단 한다.\n",
    "result_logit <- performance(pred_logit, \"auc\")@y.values[[1]]\n",
    "result_logit"
   ]
  },
  {
   "cell_type": "code",
   "execution_count": 18,
   "metadata": {},
   "outputs": [
    {
     "data": {
      "text/html": [
       "0.873813513952707"
      ],
      "text/latex": [
       "0.873813513952707"
      ],
      "text/markdown": [
       "0.873813513952707"
      ],
      "text/plain": [
       "[1] 0.8738135"
      ]
     },
     "metadata": {},
     "output_type": "display_data"
    }
   ],
   "source": [
    "# Classification Tree\n",
    "# https://www.rdocumentation.org/packages/tree/versions/1.0-40\n",
    "# type 을 반응 변수로 두고, 남은 전체를 설명변수로 tree 모델로 fit 시킨다.\n",
    "tree.sg <- tree(type ~ ., data = tr)\n",
    "# fit 된 모델의 cross-validation 을 적용한다.\n",
    "tree.cv <- cv.tree(tree.sg)\n",
    "# pruning 기법으로 tree 의 가지를 쳐서 제한을 둔다.\n",
    "# cross-validation 의 deviance 의 값으로 가장 낮은 값의 index 를 선택하여, 거기 까지만 pruning 한다.\n",
    "# https://www.rdocumentation.org/packages/tree/versions/1.0-40/topics/prune.tree\n",
    "tree.prune <- prune.tree(tree.sg, best = tree.cv$size[which.min(tree.cv$dev)])\n",
    "# pruning 한 모델을 가지고 test set 을 넣어 예측한다.\n",
    "tree.pred <- predict(tree.prune, newdata = ts)\n",
    "# 예측한 nonspam, spam 두 값으로 비교하여 각 행의 값을 고른다.\n",
    "tree.sg.y.ts <- ifelse(tree.pred[,1] > tree.pred[,2], \"nonspam\", \"spam\")\n",
    "\n",
    "# named vector 를 기존의 값(ts[p]$y.ts) 과 비교하기 위해서 factor 로 형 변환을 한다. 이것은 기억하자.\n",
    "factor_tree <- as.factor(tree.sg.y.ts)\n",
    "# 하기 내용으로 예측된 factor_tree 와 실제 맞는 ts[p]$y.ts 를 비교 한다.\n",
    "pred_tree <- prediction(as.numeric(factor_tree), as.numeric(ts[p]$y.ts))\n",
    "\n",
    "# pred_tree 의 AUC 를 보고 모델의 적합성과 얼마나 좋은지 판단 한다.\n",
    "result_tree <- performance(pred_tree, \"auc\")@y.values[[1]]\n",
    "result_tree"
   ]
  },
  {
   "cell_type": "code",
   "execution_count": 34,
   "metadata": {},
   "outputs": [
    {
     "data": {
      "text/html": [
       "0.925258606852783"
      ],
      "text/latex": [
       "0.925258606852783"
      ],
      "text/markdown": [
       "0.925258606852783"
      ],
      "text/plain": [
       "[1] 0.9252586"
      ]
     },
     "metadata": {},
     "output_type": "display_data"
    }
   ],
   "source": [
    "# RandomForest\n",
    "# https://www.rdocumentation.org/packages/randomForest/versions/4.6-14/topics/randomForest\n",
    "# type 을 반응 변수로 두고, 남은 전체를 설명변수로 randomForest 모델로 fit 시킨다.\n",
    "ranf <- randomForest(type ~ ., data = tr)\n",
    "# fitting 된 모델을 가지고 test set 을 넣어 예측한다.\n",
    "ranf.y.ts <- predict(ranf, newdata = ts)\n",
    "\n",
    "# 하기 내용으로 예측된 ranf.y.ts 와 실제 맞는 ts[p]$y.ts 를 비교 한다.\n",
    "pred_rf <- prediction(as.numeric(ranf.y.ts), as.numeric(ts[p]$y.ts))\n",
    "# pred_tree 의 AUC 를 보고 모델의 적합성과 얼마나 좋은지 판단 한다.\n",
    "result_rf <- performance(pred_rf, \"auc\")@y.values[[1]]\n",
    "result_rf"
   ]
  },
  {
   "cell_type": "code",
   "execution_count": 35,
   "metadata": {},
   "outputs": [
    {
     "data": {
      "text/html": [
       "0.893413774952222"
      ],
      "text/latex": [
       "0.893413774952222"
      ],
      "text/markdown": [
       "0.893413774952222"
      ],
      "text/plain": [
       "[1] 0.8934138"
      ]
     },
     "metadata": {},
     "output_type": "display_data"
    }
   ],
   "source": [
    "# Gaussian Kernel SVM\n",
    "C.grid <- (2)^(-5:10) # SVM 은 C가 조율 모수의 역할을 한다.\n",
    "# https://www.rdocumentation.org/packages/e1071/versions/1.7-2/topics/tune\n",
    "# tune.svm 으로 kernel 의 default 설정은 \"radial\" 이다. RBF kernel = Gaussian kernel.\n",
    "# 정한 gamma, cost 를 가지고 svm tuning 을 시작한다.\n",
    "tune.obj <- tune.svm(type ~ ., data = tr, gamma = 1/p, cost = C.grid) \n",
    "\n",
    "# 가장 좋은 조율 모수 C 정하고\n",
    "best.C <- tune.obj$best.model$cost \n",
    "# type 을 반응 변수로 두고, 남은 전체를 설명 변수로 svm 모델로 fit 시킨다.\n",
    "svm.gs <- svm(type ~., gamma = 1/p, cost = best.C, data = tr) \n",
    "# fitting 된 모델을 가지고 test set 을 넣어 예측한다.\n",
    "svm.gs.y.ts <- predict(svm.gs, ts)\n",
    "\n",
    "# 하기 내용으로 예측된 svm.gs.y.ts 와 실제 맞는 ts[p]$y.ts 를 비교 한다.\n",
    "pred_svm_gs <- prediction(as.numeric(svm.gs.y.ts), as.numeric(ts[p]$y.ts))\n",
    "# pred_svm_gs 의 AUC 를 보고 모델의 적합성과 얼마나 좋은지 판단 한다.\n",
    "result_svm_gs <- performance(pred_svm_gs, \"auc\")@y.values[[1]]\n",
    "result_svm_gs"
   ]
  },
  {
   "cell_type": "code",
   "execution_count": 36,
   "metadata": {},
   "outputs": [
    {
     "data": {
      "text/html": [
       "0.902972956941062"
      ],
      "text/latex": [
       "0.902972956941062"
      ],
      "text/markdown": [
       "0.902972956941062"
      ],
      "text/plain": [
       "[1] 0.902973"
      ]
     },
     "metadata": {},
     "output_type": "display_data"
    }
   ],
   "source": [
    "# Linear Kernel SVM\n",
    "C.grid <- (2)^(-5:10) # SVM 은 C가 조율 모수의 역할을 한다.\n",
    "# https://www.rdocumentation.org/packages/e1071/versions/1.7-1/topics/svm 의 kernel 체크.\n",
    "# tune.svm 으로 kernel 옵션을 'linear' 로 변경 하고, 정한 cost 를 가지고 svm tuning 을 시작한다.\n",
    "tune.obj <- tune.svm(type ~ ., data = tr, kernel = \"linear\", cost = C.grid)\n",
    "\n",
    "# 가장 좋은 조율 모수 C 정하고\n",
    "best.C <- tune.obj$best.model$cost\n",
    "# type 을 반응 변수로 두고, 남은 전체를 설명 변수로 svm 모델로 fit 시킨다.\n",
    "svm.ln <- svm(type ~ ., data = tr, kernel = \"linear\", cost = best.C)\n",
    "# fitting 된 모델을 가지고 test set 을 넣어 예측한다.\n",
    "svm.ln.y.ts <- predict(svm.ln, ts) \n",
    "\n",
    "# 하기 내용으로 예측된 svm.ln.y.ts 와 실제 맞는 ts[p]$y.ts 를 비교 한다.\n",
    "pred_svm_ln <- prediction(as.numeric(svm.ln.y.ts), as.numeric(ts[p]$y.ts))\n",
    "# pred_svm_ln 의 AUC 를 보고 모델의 적합성과 얼마나 좋은지 판단 한다.\n",
    "result_svm_ln <- performance(pred_svm_ln, \"auc\")@y.values[[1]]\n",
    "result_svm_ln"
   ]
  },
  {
   "cell_type": "code",
   "execution_count": 19,
   "metadata": {},
   "outputs": [
    {
     "name": "stdout",
     "output_type": "stream",
     "text": [
      "# weights:  296\n",
      "initial  value 337.276842 \n",
      "iter  10 value 43.404071\n",
      "iter  20 value 18.774851\n",
      "iter  30 value 6.551044\n",
      "iter  40 value 2.677034\n",
      "iter  50 value 1.943315\n",
      "iter  60 value 1.927098\n",
      "iter  70 value 0.572447\n",
      "iter  80 value 0.048699\n",
      "iter  90 value 0.040685\n",
      "iter 100 value 0.026658\n",
      "iter 110 value 0.016686\n",
      "iter 120 value 0.009049\n",
      "iter 130 value 0.004496\n",
      "iter 140 value 0.002300\n",
      "iter 150 value 0.001154\n",
      "iter 160 value 0.000818\n",
      "iter 170 value 0.000481\n",
      "iter 180 value 0.000340\n",
      "iter 190 value 0.000199\n",
      "iter 200 value 0.000151\n",
      "final  value 0.000097 \n",
      "converged\n",
      " chr [1:4101] \"nonspam\" \"nonspam\" \"nonspam\" \"nonspam\" \"nonspam\" \"nonspam\" ...\n"
     ]
    },
    {
     "data": {
      "text/html": [
       "0.903486133029997"
      ],
      "text/latex": [
       "0.903486133029997"
      ],
      "text/markdown": [
       "0.903486133029997"
      ],
      "text/plain": [
       "[1] 0.9034861"
      ]
     },
     "metadata": {},
     "output_type": "display_data"
    }
   ],
   "source": [
    "# neural network\n",
    "# https://www.rdocumentation.org/packages/nnet/versions/7.3-12/topics/nnet\n",
    "# maxit - maximum number of iterations. Default 100.\n",
    "# size - number of units in the hidden layer. Can be zero if there are skip-layer units.\n",
    "# type 을 반응변수로, 나머지를 설명변수로 두고, hidden layer 를 5개 두고 iteration 을 500 준다.\n",
    "nrnet <- nnet(type ~., data = tr, size = 5, maxit = 500)\n",
    "# type 은 class 로 범주형의 타입으로 두고 predict 을 한다.\n",
    "nrnet.y.ts <- predict(nrnet, ts[,-p], type = \"class\") \n",
    "\n",
    "# char array 를 기존의 값(ts[p]$y.ts) 과 비교하기 위해서 factor 로 형 변환을 한다. 이것은 기억하자.\n",
    "factor_nrnet <- as.factor(nrnet.y.ts)\n",
    "\n",
    "# 하기 내용으로 예측된 factor_nrnet 와 실제 맞는 ts[p]$y.ts 를 비교 한다.\n",
    "pred_nrnet <- prediction(as.numeric(factor_nrnet), as.numeric(ts[p]$y.ts))\n",
    "# pred_svm_ln 의 AUC 를 보고 모델의 적합성과 얼마나 좋은지 판단 한다.\n",
    "result_nrnet <- performance(pred_nrnet, \"auc\")@y.values[[1]]\n",
    "result_nrnet"
   ]
  },
  {
   "cell_type": "code",
   "execution_count": 38,
   "metadata": {},
   "outputs": [
    {
     "data": {
      "text/html": [
       "<table>\n",
       "<thead><tr><th scope=col>method</th><th scope=col>auc</th></tr></thead>\n",
       "<tbody>\n",
       "\t<tr><td>Naieve Bayes  </td><td>0.7233339     </td></tr>\n",
       "\t<tr><td>Logistic      </td><td>0.8816199     </td></tr>\n",
       "\t<tr><td>Tree          </td><td>0.8738135     </td></tr>\n",
       "\t<tr><td>RandomForest  </td><td>0.9252586     </td></tr>\n",
       "\t<tr><td>Gaussian SVM  </td><td>0.8934138     </td></tr>\n",
       "\t<tr><td>Linear SVM    </td><td>0.9029730     </td></tr>\n",
       "\t<tr><td>Neural Network</td><td>0.8949491     </td></tr>\n",
       "</tbody>\n",
       "</table>\n"
      ],
      "text/latex": [
       "\\begin{tabular}{r|ll}\n",
       " method & auc\\\\\n",
       "\\hline\n",
       "\t Naieve Bayes   & 0.7233339     \\\\\n",
       "\t Logistic       & 0.8816199     \\\\\n",
       "\t Tree           & 0.8738135     \\\\\n",
       "\t RandomForest   & 0.9252586     \\\\\n",
       "\t Gaussian SVM   & 0.8934138     \\\\\n",
       "\t Linear SVM     & 0.9029730     \\\\\n",
       "\t Neural Network & 0.8949491     \\\\\n",
       "\\end{tabular}\n"
      ],
      "text/markdown": [
       "\n",
       "method | auc | \n",
       "|---|---|---|---|---|---|---|\n",
       "| Naieve Bayes   | 0.7233339      | \n",
       "| Logistic       | 0.8816199      | \n",
       "| Tree           | 0.8738135      | \n",
       "| RandomForest   | 0.9252586      | \n",
       "| Gaussian SVM   | 0.8934138      | \n",
       "| Linear SVM     | 0.9029730      | \n",
       "| Neural Network | 0.8949491      | \n",
       "\n",
       "\n"
      ],
      "text/plain": [
       "  method         auc      \n",
       "1 Naieve Bayes   0.7233339\n",
       "2 Logistic       0.8816199\n",
       "3 Tree           0.8738135\n",
       "4 RandomForest   0.9252586\n",
       "5 Gaussian SVM   0.8934138\n",
       "6 Linear SVM     0.9029730\n",
       "7 Neural Network 0.8949491"
      ]
     },
     "metadata": {},
     "output_type": "display_data"
    }
   ],
   "source": [
    "# 각 모델 방법의 result 종류를 가지고 data frame 을 만든다.\n",
    "data.frame(method=c('Naieve Bayes','Logistic','Tree','RandomForest','Gaussian SVM', 'Linear SVM', 'Neural Network'),\n",
    "           auc=c(result_naieve,\n",
    "                 result_logit,\n",
    "                 result_tree,\n",
    "                 result_rf,\n",
    "                 result_svm_gs,\n",
    "                 result_svm_ln,\n",
    "                 result_nrnet\n",
    "                 ))\n",
    "# RandomForest 가 제일 높다."
   ]
  },
  {
   "cell_type": "code",
   "execution_count": 40,
   "metadata": {},
   "outputs": [
    {
     "data": {
      "image/png": "[encoded data removed]",
      "text/plain": [
       "Plot with title \"ROC Curve\""
      ]
     },
     "metadata": {},
     "output_type": "display_data"
    }
   ],
   "source": [
    "# 각 모델 의 ROC Curve 를 그래프화 시켜서 Visualization 한다.\n",
    "# https://www.rdocumentation.org/packages/mlr/versions/2.14.0/topics/performance\n",
    "# [y-axis] measure : true positive rate, [x-axis] x.measure : false positive rate\n",
    "perf_naieve <- performance(pred_naieve, measure='tpr',x.measure='fpr')\n",
    "perf_logit <- performance(pred_logit, measure='tpr',x.measure='fpr')\n",
    "perf_tree <- performance(pred_tree, measure='tpr',x.measure='fpr')\n",
    "perf_rf <- performance(pred_rf, measure='tpr',x.measure='fpr')\n",
    "perf_svm_gs <- performance(pred_svm_gs, measure='tpr',x.measure='fpr')\n",
    "perf_svm_ln <- performance(pred_svm_ln, measure='tpr',x.measure='fpr')\n",
    "perf_nrnet <- performance(pred_nrnet, measure='tpr',x.measure='fpr')\n",
    "\n",
    "# 색 별로 ROC Curve 를 그린다.\n",
    "# https://www.rdocumentation.org/packages/graphics/versions/3.6.0/topics/plot\n",
    "plot(perf_naieve, col='black', main=\"ROC Curve\")\n",
    "plot(perf_logit, add=TRUE, col='blue')\n",
    "plot(perf_tree, add=TRUE, col='darkviolet')\n",
    "plot(perf_rf, add=TRUE, col='red')\n",
    "plot(perf_svm_gs, add=TRUE, col='cyan')\n",
    "plot(perf_svm_ln, add=TRUE, col='green3')\n",
    "plot(perf_nrnet, add=TRUE, col='magenta4')\n",
    "\n",
    "# https://www.rdocumentation.org/packages/graphics/versions/3.6.0/topics/legend\n",
    "# legend 사각형을 bottom 의 오른쪽에 설명을 적는다.\n",
    "legend('bottomright', inset=.1,\n",
    "       legend=c(\"Naieve\", \"Logit\", \"TREE\", \"RF\", \"SVM_GS\", \"SVM_LN\", \"NeuralNet\"),\n",
    "       col=c('black', 'blue', 'darkviolet', 'red', 'cyan', 'green3', 'magenta4'), lty=1, lwd=2)"
   ]
  },
  {
   "cell_type": "code",
   "execution_count": null,
   "metadata": {},
   "outputs": [],
   "source": [
    "# 결론. Random Forest 가 수치가 제일 좋다."
   ]
  }
 ],
 "metadata": {
  "kernelspec": {
   "display_name": "R",
   "language": "R",
   "name": "ir"
  },
  "language_info": {
   "codemirror_mode": "r",
   "file_extension": ".r",
   "mimetype": "text/x-r-source",
   "name": "R",
   "pygments_lexer": "r",
   "version": "3.5.1"
  }
 },
 "nbformat": 4,
 "nbformat_minor": 2
}
