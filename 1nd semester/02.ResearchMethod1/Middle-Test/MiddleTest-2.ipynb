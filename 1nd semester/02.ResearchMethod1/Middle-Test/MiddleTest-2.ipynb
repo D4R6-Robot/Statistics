{
 "cells": [
  {
   "cell_type": "code",
   "execution_count": 13,
   "metadata": {},
   "outputs": [
    {
     "name": "stderr",
     "output_type": "stream",
     "text": [
      "randomForest 4.6-14\n",
      "Type rfNews() to see new features/changes/bug fixes.\n"
     ]
    }
   ],
   "source": [
    "rm(list = ls())\n",
    "library(randomForest)\n",
    "library(rpart)"
   ]
  },
  {
   "cell_type": "code",
   "execution_count": 14,
   "metadata": {},
   "outputs": [],
   "source": [
    "# set you paths\n",
    "setwd(\"D:/Working/03.Korea/연구조사론/MiddleTest\")\n",
    "data      <- read.table(\"class.txt\", header = T)\n",
    "data.test <- read.table(\"class_test.txt\", header = T)"
   ]
  },
  {
   "cell_type": "code",
   "execution_count": 32,
   "metadata": {
    "scrolled": false
   },
   "outputs": [
    {
     "data": {
      "text/plain": [
       "\n",
       "Call:\n",
       "glm(formula = y ~ ., family = \"binomial\", data = data)\n",
       "\n",
       "Deviance Residuals: \n",
       "    Min       1Q   Median       3Q      Max  \n",
       "-3.3348  -0.4936   0.2444   0.6014   2.6147  \n",
       "\n",
       "Coefficients:\n",
       "            Estimate Std. Error z value Pr(>|z|)    \n",
       "(Intercept)   0.9235     0.1353   6.823 8.89e-12 ***\n",
       "x1            1.0603     0.1531   6.926 4.32e-12 ***\n",
       "x2            0.9100     0.1473   6.178 6.49e-10 ***\n",
       "x3            1.0715     0.1449   7.396 1.40e-13 ***\n",
       "x4            1.0956     0.1474   7.434 1.05e-13 ***\n",
       "x5            1.1170     0.1574   7.094 1.30e-12 ***\n",
       "---\n",
       "Signif. codes:  0 '***' 0.001 '**' 0.01 '*' 0.05 '.' 0.1 ' ' 1\n",
       "\n",
       "(Dispersion parameter for binomial family taken to be 1)\n",
       "\n",
       "    Null deviance: 648.68  on 499  degrees of freedom\n",
       "Residual deviance: 386.19  on 494  degrees of freedom\n",
       "AIC: 398.19\n",
       "\n",
       "Number of Fisher Scoring iterations: 6\n"
      ]
     },
     "metadata": {},
     "output_type": "display_data"
    },
    {
     "data": {
      "text/html": [
       "<table>\n",
       "<thead><tr><th></th><th scope=col>0</th><th scope=col>1</th></tr></thead>\n",
       "<tbody>\n",
       "\t<tr><th scope=row>0</th><td>139</td><td> 49</td></tr>\n",
       "\t<tr><th scope=row>1</th><td> 52</td><td>260</td></tr>\n",
       "</tbody>\n",
       "</table>\n"
      ],
      "text/latex": [
       "\\begin{tabular}{r|ll}\n",
       "  & 0 & 1\\\\\n",
       "\\hline\n",
       "\t0 & 139 &  49\\\\\n",
       "\t1 &  52 & 260\\\\\n",
       "\\end{tabular}\n"
      ],
      "text/markdown": [
       "\n",
       "| <!--/--> | 0 | 1 | \n",
       "|---|---|\n",
       "| 0 | 139 |  49 | \n",
       "| 1 |  52 | 260 | \n",
       "\n",
       "\n"
      ],
      "text/plain": [
       "  0   1  \n",
       "0 139  49\n",
       "1  52 260"
      ]
     },
     "metadata": {},
     "output_type": "display_data"
    },
    {
     "name": "stdout",
     "output_type": "stream",
     "text": [
      "Predict ACC[ 79.8 %]\n",
      "\n"
     ]
    },
    {
     "data": {
      "text/html": [
       "<ol>\n",
       "\t<li>0.874328606042122</li>\n",
       "</ol>\n"
      ],
      "text/latex": [
       "\\begin{enumerate}\n",
       "\\item 0.874328606042122\n",
       "\\end{enumerate}\n"
      ],
      "text/markdown": [
       "1. 0.874328606042122\n",
       "\n",
       "\n"
      ],
      "text/plain": [
       "[[1]]\n",
       "[1] 0.8743286\n"
      ]
     },
     "metadata": {},
     "output_type": "display_data"
    },
    {
     "data": {
      "image/png": "[encoded data removed]",
      "text/plain": [
       "Plot with title \"ROC of Test Data\""
      ]
     },
     "metadata": {},
     "output_type": "display_data"
    }
   ],
   "source": [
    "# Method 1\n",
    "par(mfrow=c(3,2));\n",
    "obj1 <- glm(y ~ ., data = data, family = \"binomial\")\n",
    "summary(obj1)\n",
    "plot(obj1)\n",
    "\n",
    "hat.px1 <- predict(obj1, newdata = data.test[,-1], type = \"response\")\n",
    "hat.y1 <- ifelse(hat.px1 > 0.5, 1, 0)\n",
    "\n",
    "result <- table(hat.y1, data.test$y)\n",
    "as.data.frame.matrix(result)\n",
    "cat('Predict ACC[', ((result[1,1] + result[2,2]) / sum(result))*100, '%]\\n\\n')\n",
    "\n",
    "# ROC curve.\n",
    "# https://freshrimpsushi.tistory.com/868\n",
    "library(ROCR)\n",
    "pr <- prediction(hat.px1, data.test$y)\n",
    "prf <- performance(pr, measure = \"tpr\", x.measure = \"fpr\")\n",
    "performance(pr, \"auc\")@y.values\n",
    "plot(prf, main='ROC of Test Data')"
   ]
  },
  {
   "cell_type": "code",
   "execution_count": 34,
   "metadata": {
    "scrolled": false
   },
   "outputs": [
    {
     "data": {
      "text/html": [
       "<table>\n",
       "<thead><tr><th></th><th scope=col>0</th><th scope=col>1</th></tr></thead>\n",
       "<tbody>\n",
       "\t<tr><th scope=row>0</th><td> 88</td><td>249</td></tr>\n",
       "\t<tr><th scope=row>1</th><td>103</td><td> 60</td></tr>\n",
       "</tbody>\n",
       "</table>\n"
      ],
      "text/latex": [
       "\\begin{tabular}{r|ll}\n",
       "  & 0 & 1\\\\\n",
       "\\hline\n",
       "\t0 &  88 & 249\\\\\n",
       "\t1 & 103 &  60\\\\\n",
       "\\end{tabular}\n"
      ],
      "text/markdown": [
       "\n",
       "| <!--/--> | 0 | 1 | \n",
       "|---|---|\n",
       "| 0 |  88 | 249 | \n",
       "| 1 | 103 |  60 | \n",
       "\n",
       "\n"
      ],
      "text/plain": [
       "  0   1  \n",
       "0  88 249\n",
       "1 103  60"
      ]
     },
     "metadata": {},
     "output_type": "display_data"
    },
    {
     "name": "stdout",
     "output_type": "stream",
     "text": [
      "Predict ACC[ 29.6 %]"
     ]
    },
    {
     "data": {
      "text/html": [
       "<ol>\n",
       "\t<li>0.283730663006828</li>\n",
       "</ol>\n"
      ],
      "text/latex": [
       "\\begin{enumerate}\n",
       "\\item 0.283730663006828\n",
       "\\end{enumerate}\n"
      ],
      "text/markdown": [
       "1. 0.283730663006828\n",
       "\n",
       "\n"
      ],
      "text/plain": [
       "[[1]]\n",
       "[1] 0.2837307\n"
      ]
     },
     "metadata": {},
     "output_type": "display_data"
    },
    {
     "data": {
      "image/png": "[encoded data removed]",
      "text/plain": [
       "plot without title"
      ]
     },
     "metadata": {},
     "output_type": "display_data"
    },
    {
     "data": {
      "image/png": "[encoded data removed]",
      "text/plain": [
       "Plot with title \"ROC of Test Data\""
      ]
     },
     "metadata": {},
     "output_type": "display_data"
    }
   ],
   "source": [
    "# Method 2\n",
    "\n",
    "obj2 <- rpart(as.factor(y) ~ ., data = data)\n",
    "#summary(obj2)\n",
    "plot(obj2, margin = 0.1)\n",
    "text(obj2, digits = 2, use.n = F, cex = 0.8, col = \"blue\")\n",
    "\n",
    "hat.px2 <- predict(obj2, newdata = data.test[,-1])[,1]\n",
    "hat.y2 <- ifelse(hat.px2 > 0.5, 1, 0)\n",
    "\n",
    "result <- table(hat.y2, data.test$y)\n",
    "as.data.frame.matrix(result)\n",
    "cat('Predict ACC[', ((result[1,1] + result[2,2]) / sum(result))*100, '%]')\n",
    "\n",
    "\n",
    "# ROC curve.\n",
    "# https://freshrimpsushi.tistory.com/868\n",
    "library(ROCR)\n",
    "pr <- prediction(hat.px2, data.test$y)\n",
    "prf <- performance(pr, measure = \"tpr\", x.measure = \"fpr\")\n",
    "performance(pr, \"auc\")@y.values\n",
    "plot(prf, main='ROC of Test Data')"
   ]
  },
  {
   "cell_type": "code",
   "execution_count": 47,
   "metadata": {
    "scrolled": false
   },
   "outputs": [
    {
     "data": {
      "text/html": [
       "<table>\n",
       "<thead><tr><th></th><th scope=col>0</th><th scope=col>1</th></tr></thead>\n",
       "<tbody>\n",
       "\t<tr><th scope=row>0</th><td>103</td><td> 60</td></tr>\n",
       "\t<tr><th scope=row>1</th><td> 88</td><td>249</td></tr>\n",
       "</tbody>\n",
       "</table>\n"
      ],
      "text/latex": [
       "\\begin{tabular}{r|ll}\n",
       "  & 0 & 1\\\\\n",
       "\\hline\n",
       "\t0 & 103 &  60\\\\\n",
       "\t1 &  88 & 249\\\\\n",
       "\\end{tabular}\n"
      ],
      "text/markdown": [
       "\n",
       "| <!--/--> | 0 | 1 | \n",
       "|---|---|\n",
       "| 0 | 103 |  60 | \n",
       "| 1 |  88 | 249 | \n",
       "\n",
       "\n"
      ],
      "text/plain": [
       "  0   1  \n",
       "0 103  60\n",
       "1  88 249"
      ]
     },
     "metadata": {},
     "output_type": "display_data"
    },
    {
     "name": "stdout",
     "output_type": "stream",
     "text": [
      "Predict ACC[ 70.4 %]"
     ]
    },
    {
     "data": {
      "text/plain": [
       "An object of class \"prediction\"\n",
       "Slot \"predictions\":\n",
       "[[1]]\n",
       "      501       502       503       504       505       506       507       508 \n",
       "0.2307692 0.1173469 0.8529412 0.8888889 0.1173469 0.1369863 0.2000000 0.1173469 \n",
       "      509       510       511       512       513       514       515       516 \n",
       "0.1369863 0.8529412 0.8235294 0.2000000 0.8529412 0.1369863 0.1173469 0.1369863 \n",
       "      517       518       519       520       521       522       523       524 \n",
       "0.2307692 0.1369863 0.1173469 0.1173469 0.8529412 0.1369863 0.2000000 0.7058824 \n",
       "      525       526       527       528       529       530       531       532 \n",
       "0.1173469 0.8529412 0.1173469 0.1173469 0.7058824 0.1369863 0.2000000 0.1173469 \n",
       "      533       534       535       536       537       538       539       540 \n",
       "0.1173469 0.1173469 0.1369863 1.0000000 0.1173469 0.2307692 0.7777778 0.1173469 \n",
       "      541       542       543       544       545       546       547       548 \n",
       "0.1173469 0.1173469 0.1369863 0.2666667 0.7058824 0.7777778 0.8529412 0.2666667 \n",
       "      549       550       551       552       553       554       555       556 \n",
       "0.8235294 0.1173469 0.1369863 0.8529412 0.1666667 0.1173469 0.1173469 1.0000000 \n",
       "      557       558       559       560       561       562       563       564 \n",
       "0.3750000 0.1173469 0.1173469 0.1173469 0.8529412 0.1173469 0.1369863 0.1173469 \n",
       "      565       566       567       568       569       570       571       572 \n",
       "0.8529412 0.1173469 0.2307692 0.1369863 0.8529412 0.1369863 0.8529412 0.2666667 \n",
       "      573       574       575       576       577       578       579       580 \n",
       "0.1173469 0.1173469 0.8888889 0.1173469 0.1369863 0.1173469 0.8529412 0.8529412 \n",
       "      581       582       583       584       585       586       587       588 \n",
       "0.1666667 0.1369863 0.2666667 0.1173469 0.7777778 0.1173469 0.8888889 0.1369863 \n",
       "      589       590       591       592       593       594       595       596 \n",
       "0.1369863 0.8529412 0.1173469 0.2666667 0.1173469 0.8529412 0.8529412 0.7777778 \n",
       "      597       598       599       600       601       602       603       604 \n",
       "0.1666667 0.8529412 0.1173469 0.8529412 0.1173469 0.7058824 0.2666667 0.1173469 \n",
       "      605       606       607       608       609       610       611       612 \n",
       "0.1173469 0.3125000 0.8529412 0.1173469 0.2307692 0.1369863 0.1173469 0.1173469 \n",
       "      613       614       615       616       617       618       619       620 \n",
       "0.1173469 0.3125000 0.1173469 0.3750000 0.8529412 0.8529412 0.3125000 0.1173469 \n",
       "      621       622       623       624       625       626       627       628 \n",
       "0.8529412 0.8529412 0.8888889 0.1173469 0.1369863 0.8529412 0.1369863 0.8529412 \n",
       "      629       630       631       632       633       634       635       636 \n",
       "0.3125000 0.1369863 0.8529412 0.8529412 0.1666667 0.1173469 0.8235294 0.3125000 \n",
       "      637       638       639       640       641       642       643       644 \n",
       "0.1369863 0.1369863 0.8529412 0.1173469 0.8529412 0.1173469 0.1173469 0.3125000 \n",
       "      645       646       647       648       649       650       651       652 \n",
       "0.1173469 0.8529412 0.1173469 0.8235294 0.3750000 0.8529412 0.1173469 1.0000000 \n",
       "      653       654       655       656       657       658       659       660 \n",
       "0.1369863 0.1666667 0.1173469 0.8529412 0.1173469 0.1173469 0.8529412 0.2307692 \n",
       "      661       662       663       664       665       666       667       668 \n",
       "0.1173469 0.1173469 0.2000000 0.2000000 0.8529412 0.1173469 0.8529412 0.1173469 \n",
       "      669       670       671       672       673       674       675       676 \n",
       "0.7777778 0.1369863 0.8529412 0.1173469 0.1173469 0.8235294 0.1173469 0.8529412 \n",
       "      677       678       679       680       681       682       683       684 \n",
       "0.1666667 1.0000000 0.1173469 0.3125000 0.1173469 0.8529412 0.1173469 0.1369863 \n",
       "      685       686       687       688       689       690       691       692 \n",
       "0.8529412 0.1173469 0.8529412 0.1173469 0.1369863 0.2000000 0.2666667 0.9000000 \n",
       "      693       694       695       696       697       698       699       700 \n",
       "0.8235294 0.3125000 0.1369863 0.2666667 0.8235294 0.1173469 0.1173469 0.8529412 \n",
       "      701       702       703       704       705       706       707       708 \n",
       "1.0000000 0.1369863 0.2666667 0.1369863 0.2000000 0.8529412 0.1666667 0.1173469 \n",
       "      709       710       711       712       713       714       715       716 \n",
       "0.8888889 0.8888889 0.1369863 0.7777778 0.8529412 0.3125000 0.1173469 0.8235294 \n",
       "      717       718       719       720       721       722       723       724 \n",
       "0.8529412 0.1173469 0.7777778 0.1369863 0.2666667 0.1666667 0.1173469 0.1369863 \n",
       "      725       726       727       728       729       730       731       732 \n",
       "0.2000000 0.7777778 0.3750000 0.1173469 0.1173469 0.1173469 0.1173469 0.1173469 \n",
       "      733       734       735       736       737       738       739       740 \n",
       "0.8529412 0.8529412 0.1369863 0.3125000 0.1369863 0.8529412 0.1173469 0.1369863 \n",
       "      741       742       743       744       745       746       747       748 \n",
       "0.3750000 0.3125000 0.1173469 0.7058824 0.2000000 0.8529412 0.2666667 0.8529412 \n",
       "      749       750       751       752       753       754       755       756 \n",
       "0.1369863 0.1369863 0.3125000 0.8529412 0.2000000 0.1173469 0.8529412 0.8529412 \n",
       "      757       758       759       760       761       762       763       764 \n",
       "0.8888889 0.7777778 0.1173469 0.8529412 0.1173469 0.1369863 0.3125000 0.7777778 \n",
       "      765       766       767       768       769       770       771       772 \n",
       "0.7058824 0.1369863 0.1173469 0.1369863 0.7058824 0.8529412 0.9000000 0.8235294 \n",
       "      773       774       775       776       777       778       779       780 \n",
       "0.1173469 0.1173469 0.1369863 0.2000000 0.1173469 0.1173469 0.1173469 0.9000000 \n",
       "      781       782       783       784       785       786       787       788 \n",
       "0.8529412 0.1173469 0.1666667 0.1173469 0.1173469 0.1666667 0.1173469 0.1173469 \n",
       "      789       790       791       792       793       794       795       796 \n",
       "0.1369863 1.0000000 0.7777778 0.2666667 0.1173469 0.1173469 0.8529412 0.2000000 \n",
       "      797       798       799       800       801       802       803       804 \n",
       "0.7058824 0.3750000 0.8529412 0.7777778 0.8529412 0.3125000 0.1369863 0.2307692 \n",
       "      805       806       807       808       809       810       811       812 \n",
       "0.8529412 0.1173469 0.1173469 0.1369863 0.7777778 0.8529412 0.1369863 0.1173469 \n",
       "      813       814       815       816       817       818       819       820 \n",
       "0.1369863 0.3125000 0.1173469 0.1173469 0.2307692 0.8529412 0.8235294 0.1173469 \n",
       "      821       822       823       824       825       826       827       828 \n",
       "0.1369863 0.1173469 0.1369863 0.1173469 0.1173469 0.1173469 0.2000000 0.1173469 \n",
       "      829       830       831       832       833       834       835       836 \n",
       "0.8529412 0.7777778 0.1173469 0.2666667 0.1173469 0.1173469 0.2666667 0.1173469 \n",
       "      837       838       839       840       841       842       843       844 \n",
       "0.1369863 0.9000000 0.8529412 0.2000000 0.1369863 0.8235294 0.1173469 0.8529412 \n",
       "      845       846       847       848       849       850       851       852 \n",
       "0.1173469 0.1173469 0.1369863 0.1173469 0.3125000 0.1173469 0.1173469 0.1369863 \n",
       "      853       854       855       856       857       858       859       860 \n",
       "0.1666667 0.8529412 0.1173469 0.8529412 1.0000000 0.3125000 0.9000000 0.1173469 \n",
       "      861       862       863       864       865       866       867       868 \n",
       "0.1369863 0.1173469 0.8529412 0.1173469 0.1173469 0.1369863 0.1173469 0.8235294 \n",
       "      869       870       871       872       873       874       875       876 \n",
       "0.7777778 0.7058824 0.1173469 0.1173469 0.8529412 0.1173469 0.8529412 0.7777778 \n",
       "      877       878       879       880       881       882       883       884 \n",
       "0.2666667 0.1173469 0.7058824 0.1173469 0.1666667 0.8888889 0.1369863 0.8888889 \n",
       "      885       886       887       888       889       890       891       892 \n",
       "0.1369863 0.7777778 0.2000000 0.7777778 0.1666667 0.2307692 0.7777778 0.8529412 \n",
       "      893       894       895       896       897       898       899       900 \n",
       "0.1173469 0.8529412 0.1369863 0.1173469 0.8529412 0.2307692 0.3125000 0.1173469 \n",
       "      901       902       903       904       905       906       907       908 \n",
       "0.1666667 0.1173469 0.1173469 0.2000000 0.1173469 0.2000000 0.1173469 0.1173469 \n",
       "      909       910       911       912       913       914       915       916 \n",
       "0.2666667 0.1666667 0.1369863 0.8529412 0.1666667 0.1173469 0.1369863 0.3125000 \n",
       "      917       918       919       920       921       922       923       924 \n",
       "0.8529412 0.1369863 0.7058824 0.1369863 0.1369863 0.1369863 0.1173469 0.2000000 \n",
       "      925       926       927       928       929       930       931       932 \n",
       "0.1369863 0.8529412 0.2000000 0.7058824 0.1173469 0.7777778 0.7058824 0.1369863 \n",
       "      933       934       935       936       937       938       939       940 \n",
       "0.1369863 0.1666667 0.7058824 0.7058824 0.1173469 0.2000000 0.8529412 0.8529412 \n",
       "      941       942       943       944       945       946       947       948 \n",
       "0.1173469 0.1369863 0.1173469 0.1173469 0.1666667 0.1173469 0.8888889 0.2307692 \n",
       "      949       950       951       952       953       954       955       956 \n",
       "0.1173469 0.1173469 0.1173469 0.1173469 0.7777778 0.7058824 0.8888889 0.1369863 \n",
       "      957       958       959       960       961       962       963       964 \n",
       "0.1173469 0.1173469 0.1173469 0.1666667 0.8529412 0.1369863 0.1666667 0.1369863 \n",
       "      965       966       967       968       969       970       971       972 \n",
       "0.8235294 0.2000000 0.8888889 0.8235294 0.1173469 0.1173469 0.1369863 0.2666667 \n",
       "      973       974       975       976       977       978       979       980 \n",
       "0.2000000 0.1666667 0.8529412 0.8529412 0.1369863 0.1173469 0.7777778 0.1369863 \n",
       "      981       982       983       984       985       986       987       988 \n",
       "0.1173469 0.2666667 0.1173469 0.1173469 0.2666667 0.7777778 0.8529412 0.1369863 \n",
       "      989       990       991       992       993       994       995       996 \n",
       "0.1369863 0.1369863 0.1173469 0.8529412 0.7777778 0.1173469 0.1173469 0.8529412 \n",
       "      997       998       999      1000 \n",
       "0.2000000 0.1173469 0.8529412 0.8529412 \n",
       "\n",
       "\n",
       "Slot \"labels\":\n",
       "[[1]]\n",
       "  [1] 1 0 1 0 0 1 1 1 1 0 0 1 0 0 1 0 0 0 1 1 0 0 1 0 1 0 1 1 0 1 0 1 0 1 1 0 1\n",
       " [38] 1 0 1 1 1 0 1 1 1 1 1 1 1 0 0 1 0 1 1 0 1 0 0 0 0 1 1 0 0 0 1 0 0 1 0 1 0\n",
       " [75] 0 0 1 1 0 0 1 1 1 0 0 1 1 1 1 0 0 1 1 0 0 1 1 0 0 0 1 1 1 1 1 0 0 0 1 0 0\n",
       "[112] 1 1 1 0 0 1 0 1 1 1 0 1 1 1 1 1 0 0 0 0 0 1 0 0 0 1 1 0 1 1 1 1 0 1 0 1 0\n",
       "[149] 1 1 1 0 0 1 1 0 1 1 0 1 1 1 0 0 0 0 0 1 1 1 0 1 1 1 0 0 1 1 1 0 1 0 1 1 1\n",
       "[186] 1 0 1 1 1 1 1 1 1 1 1 0 1 1 0 0 0 0 1 0 0 1 1 1 1 1 1 1 1 1 1 0 1 0 1 1 1\n",
       "[223] 1 1 1 0 1 1 1 1 1 1 0 0 1 1 1 0 1 1 0 1 1 1 1 0 1 1 1 0 1 1 0 1 0 0 0 1 1\n",
       "[260] 0 1 1 0 0 0 1 1 1 0 0 0 0 1 1 0 0 0 1 1 1 0 1 1 1 1 1 1 1 1 0 0 1 1 1 1 1\n",
       "[297] 1 0 0 0 0 0 1 1 1 1 1 1 1 0 1 1 0 1 1 1 1 0 1 0 1 1 1 1 1 1 1 1 0 0 1 1 0\n",
       "[334] 1 1 1 1 1 0 0 1 0 1 1 1 1 1 1 0 1 1 1 1 0 1 0 1 0 0 1 0 1 0 0 1 1 1 1 1 1\n",
       "[371] 1 1 0 1 1 0 0 1 0 1 1 0 1 0 0 1 0 1 1 0 0 1 0 1 1 0 1 1 0 1 0 1 1 0 1 0 1\n",
       "[408] 1 1 1 1 0 0 1 1 1 0 1 0 1 1 1 1 0 1 0 1 0 1 0 0 1 1 1 0 1 1 1 1 0 0 1 1 1\n",
       "[445] 1 1 1 1 0 1 0 0 1 1 1 0 1 1 1 1 0 1 0 1 0 0 0 1 1 1 1 1 1 1 0 0 1 0 1 0 1\n",
       "[482] 0 0 0 0 0 1 1 0 1 1 1 0 1 1 1 1 1 0 0\n",
       "Levels: 0 < 1\n",
       "\n",
       "\n",
       "Slot \"cutoffs\":\n",
       "[[1]]\n",
       "                857       859       967      1000       968       993       954 \n",
       "      Inf 1.0000000 0.9000000 0.8888889 0.8529412 0.8235294 0.7777778 0.7058824 \n",
       "      798       916       985       948       997       974       990       998 \n",
       "0.3750000 0.3125000 0.2666667 0.2307692 0.2000000 0.1666667 0.1369863 0.1173469 \n",
       "\n",
       "\n",
       "Slot \"fp\":\n",
       "[[1]]\n",
       " [1]   0   4   6  12  74  81  94 103 107 117 122 125 137 140 159 191\n",
       "\n",
       "\n",
       "Slot \"tp\":\n",
       "[[1]]\n",
       " [1]   0   3   6  12  35  42  53  60  62  71  85  93 105 123 181 309\n",
       "\n",
       "\n",
       "Slot \"tn\":\n",
       "[[1]]\n",
       " [1] 191 187 185 179 117 110  97  88  84  74  69  66  54  51  32   0\n",
       "\n",
       "\n",
       "Slot \"fn\":\n",
       "[[1]]\n",
       " [1] 309 306 303 297 274 267 256 249 247 238 224 216 204 186 128   0\n",
       "\n",
       "\n",
       "Slot \"n.pos\":\n",
       "[[1]]\n",
       "[1] 309\n",
       "\n",
       "\n",
       "Slot \"n.neg\":\n",
       "[[1]]\n",
       "[1] 191\n",
       "\n",
       "\n",
       "Slot \"n.pos.pred\":\n",
       "[[1]]\n",
       " [1]   0   7  12  24 109 123 147 163 169 188 207 218 242 263 340 500\n",
       "\n",
       "\n",
       "Slot \"n.neg.pred\":\n",
       "[[1]]\n",
       " [1] 500 493 488 476 391 377 353 337 331 312 293 282 258 237 160   0\n",
       "\n"
      ]
     },
     "metadata": {},
     "output_type": "display_data"
    },
    {
     "data": {
      "text/html": [
       "<ol>\n",
       "\t<li>0.283730663006828</li>\n",
       "</ol>\n"
      ],
      "text/latex": [
       "\\begin{enumerate}\n",
       "\\item 0.283730663006828\n",
       "\\end{enumerate}\n"
      ],
      "text/markdown": [
       "1. 0.283730663006828\n",
       "\n",
       "\n"
      ],
      "text/plain": [
       "[[1]]\n",
       "[1] 0.2837307\n"
      ]
     },
     "metadata": {},
     "output_type": "display_data"
    },
    {
     "data": {
      "image/png": "[encoded data removed]",
      "text/plain": [
       "plot without title"
      ]
     },
     "metadata": {},
     "output_type": "display_data"
    },
    {
     "data": {
      "image/png": "[encoded data removed]",
      "text/plain": [
       "Plot with title \"ROC of Test Data\""
      ]
     },
     "metadata": {},
     "output_type": "display_data"
    }
   ],
   "source": [
    "# Method 2\n",
    "\n",
    "obj2 <- rpart(as.factor(y) ~ ., data = data)\n",
    "#summary(obj2)\n",
    "plot(obj2, margin = 0.1)\n",
    "text(obj2, digits = 2, use.n = F, cex = 0.8, col = \"blue\")\n",
    "\n",
    "hat.px2 <- predict(obj2, newdata = data.test[,-1])[,1]\n",
    "hat.y2 <- ifelse(hat.px2 < 0.5, 1, 0)\n",
    "\n",
    "result.y2 <- table(hat.y2, data.test$y)\n",
    "as.data.frame.matrix(result.y2)\n",
    "cat('Predict ACC[', ((result.y2[1,1] + result.y2[2,2]) / sum(result.y2))*100, '%]')\n",
    "\n",
    "\n",
    "# ROC curve.\n",
    "# https://freshrimpsushi.tistory.com/868\n",
    "library(ROCR)\n",
    "pr <- prediction(hat.px2, data.test$y)\n",
    "pr\n",
    "prf <- performance(pr, measure = \"tpr\", x.measure = \"fpr\")\n",
    "performance(pr, \"auc\")@y.values\n",
    "plot(prf, main='ROC of Test Data')"
   ]
  },
  {
   "cell_type": "code",
   "execution_count": 36,
   "metadata": {},
   "outputs": [
    {
     "data": {
      "text/plain": [
       "                Length Class  Mode     \n",
       "call               4   -none- call     \n",
       "type               1   -none- character\n",
       "predicted        500   factor numeric  \n",
       "err.rate        1500   -none- numeric  \n",
       "confusion          6   -none- numeric  \n",
       "votes           1000   matrix numeric  \n",
       "oob.times        500   -none- numeric  \n",
       "classes            2   -none- character\n",
       "importance         5   -none- numeric  \n",
       "importanceSD       0   -none- NULL     \n",
       "localImportance    0   -none- NULL     \n",
       "proximity          0   -none- NULL     \n",
       "ntree              1   -none- numeric  \n",
       "mtry               1   -none- numeric  \n",
       "forest            14   -none- list     \n",
       "y                500   factor numeric  \n",
       "test               0   -none- NULL     \n",
       "inbag              0   -none- NULL     \n",
       "terms              3   terms  call     "
      ]
     },
     "metadata": {},
     "output_type": "display_data"
    },
    {
     "data": {
      "text/html": [
       "<table>\n",
       "<thead><tr><th></th><th scope=col>0</th><th scope=col>1</th></tr></thead>\n",
       "<tbody>\n",
       "\t<tr><th scope=row>0</th><td>117</td><td> 48</td></tr>\n",
       "\t<tr><th scope=row>1</th><td> 74</td><td>261</td></tr>\n",
       "</tbody>\n",
       "</table>\n"
      ],
      "text/latex": [
       "\\begin{tabular}{r|ll}\n",
       "  & 0 & 1\\\\\n",
       "\\hline\n",
       "\t0 & 117 &  48\\\\\n",
       "\t1 &  74 & 261\\\\\n",
       "\\end{tabular}\n"
      ],
      "text/markdown": [
       "\n",
       "| <!--/--> | 0 | 1 | \n",
       "|---|---|\n",
       "| 0 | 117 |  48 | \n",
       "| 1 |  74 | 261 | \n",
       "\n",
       "\n"
      ],
      "text/plain": [
       "  0   1  \n",
       "0 117  48\n",
       "1  74 261"
      ]
     },
     "metadata": {},
     "output_type": "display_data"
    },
    {
     "name": "stdout",
     "output_type": "stream",
     "text": [
      "Predict ACC[ 75.6 %]"
     ]
    },
    {
     "data": {
      "image/png": "[encoded data removed]",
      "text/plain": [
       "Plot with title \"obj3\""
      ]
     },
     "metadata": {},
     "output_type": "display_data"
    }
   ],
   "source": [
    "# Method 3\n",
    "par(mfrow=c(2,2));\n",
    "obj3 <- randomForest(as.factor(y) ~ ., data = data, ntree = 500)\n",
    "summary(obj3)\n",
    "plot(obj3)\n",
    "\n",
    "hat.y3 <- predict(obj3, newdata = data.test[,-1])\n",
    "\n",
    "result <- table(hat.y3, data.test$y)\n",
    "as.data.frame.matrix(result)\n",
    "cat('Predict ACC[', ((result[1,1] + result[2,2]) / sum(result))*100, '%]')\n",
    "\n",
    "varImpPlot(obj3, cex = 0.8)"
   ]
  }
 ],
 "metadata": {
  "kernelspec": {
   "display_name": "R",
   "language": "R",
   "name": "ir"
  },
  "language_info": {
   "codemirror_mode": "r",
   "file_extension": ".r",
   "mimetype": "text/x-r-source",
   "name": "R",
   "pygments_lexer": "r",
   "version": "3.5.1"
  }
 },
 "nbformat": 4,
 "nbformat_minor": 2
}
