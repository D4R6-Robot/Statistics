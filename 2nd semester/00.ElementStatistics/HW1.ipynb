{
 "cells": [
  {
   "cell_type": "code",
   "execution_count": 267,
   "metadata": {
    "scrolled": false
   },
   "outputs": [
    {
     "data": {
      "text/html": [
       "<table>\n",
       "<thead><tr><th></th><th scope=col>Brown</th><th scope=col>Blue</th><th scope=col>Hazel</th><th scope=col>Green</th></tr></thead>\n",
       "<tbody>\n",
       "\t<tr><th scope=row>Black</th><td>32</td><td>11</td><td>10</td><td> 3</td></tr>\n",
       "\t<tr><th scope=row>Brown</th><td>53</td><td>50</td><td>25</td><td>15</td></tr>\n",
       "\t<tr><th scope=row>Red</th><td>10</td><td>10</td><td> 7</td><td> 7</td></tr>\n",
       "\t<tr><th scope=row>Blond</th><td> 3</td><td>30</td><td> 5</td><td> 8</td></tr>\n",
       "</tbody>\n",
       "</table>\n"
      ],
      "text/latex": [
       "\\begin{tabular}{r|llll}\n",
       "  & Brown & Blue & Hazel & Green\\\\\n",
       "\\hline\n",
       "\tBlack & 32 & 11 & 10 &  3\\\\\n",
       "\tBrown & 53 & 50 & 25 & 15\\\\\n",
       "\tRed & 10 & 10 &  7 &  7\\\\\n",
       "\tBlond &  3 & 30 &  5 &  8\\\\\n",
       "\\end{tabular}\n"
      ],
      "text/markdown": [
       "\n",
       "| <!--/--> | Brown | Blue | Hazel | Green | \n",
       "|---|---|---|---|\n",
       "| Black | 32 | 11 | 10 |  3 | \n",
       "| Brown | 53 | 50 | 25 | 15 | \n",
       "| Red | 10 | 10 |  7 |  7 | \n",
       "| Blond |  3 | 30 |  5 |  8 | \n",
       "\n",
       "\n"
      ],
      "text/plain": [
       "      Brown Blue Hazel Green\n",
       "Black 32    11   10     3   \n",
       "Brown 53    50   25    15   \n",
       "Red   10    10    7     7   \n",
       "Blond  3    30    5     8   "
      ]
     },
     "metadata": {},
     "output_type": "display_data"
    },
    {
     "data": {
      "text/html": [
       "<table>\n",
       "<thead><tr><th></th><th scope=col>Brown</th><th scope=col>Blue</th><th scope=col>Hazel</th><th scope=col>Green</th></tr></thead>\n",
       "<tbody>\n",
       "\t<tr><th scope=row>manEye</th><td>35.12545</td><td>36.20072</td><td>16.84588</td><td>11.82796</td></tr>\n",
       "</tbody>\n",
       "</table>\n"
      ],
      "text/latex": [
       "\\begin{tabular}{r|llll}\n",
       "  & Brown & Blue & Hazel & Green\\\\\n",
       "\\hline\n",
       "\tmanEye & 35.12545 & 36.20072 & 16.84588 & 11.82796\\\\\n",
       "\\end{tabular}\n"
      ],
      "text/markdown": [
       "\n",
       "| <!--/--> | Brown | Blue | Hazel | Green | \n",
       "|---|\n",
       "| manEye | 35.12545 | 36.20072 | 16.84588 | 11.82796 | \n",
       "\n",
       "\n"
      ],
      "text/plain": [
       "       Brown    Blue     Hazel    Green   \n",
       "manEye 35.12545 36.20072 16.84588 11.82796"
      ]
     },
     "metadata": {},
     "output_type": "display_data"
    },
    {
     "data": {
      "text/html": [
       "<table>\n",
       "<thead><tr><th></th><th scope=col>Black</th><th scope=col>Brown</th><th scope=col>Red</th><th scope=col>Blond</th></tr></thead>\n",
       "<tbody>\n",
       "\t<tr><th scope=row>manHair</th><td>20.07168</td><td>51.25448</td><td>12.18638</td><td>16.48746</td></tr>\n",
       "</tbody>\n",
       "</table>\n"
      ],
      "text/latex": [
       "\\begin{tabular}{r|llll}\n",
       "  & Black & Brown & Red & Blond\\\\\n",
       "\\hline\n",
       "\tmanHair & 20.07168 & 51.25448 & 12.18638 & 16.48746\\\\\n",
       "\\end{tabular}\n"
      ],
      "text/markdown": [
       "\n",
       "| <!--/--> | Black | Brown | Red | Blond | \n",
       "|---|\n",
       "| manHair | 20.07168 | 51.25448 | 12.18638 | 16.48746 | \n",
       "\n",
       "\n"
      ],
      "text/plain": [
       "        Black    Brown    Red      Blond   \n",
       "manHair 20.07168 51.25448 12.18638 16.48746"
      ]
     },
     "metadata": {},
     "output_type": "display_data"
    },
    {
     "data": {
      "text/html": [
       "<table>\n",
       "<thead><tr><th></th><th scope=col>Brown</th><th scope=col>Blue</th><th scope=col>Hazel</th><th scope=col>Green</th></tr></thead>\n",
       "<tbody>\n",
       "\t<tr><th scope=row>Black</th><td>36</td><td> 9</td><td> 5</td><td> 2</td></tr>\n",
       "\t<tr><th scope=row>Brown</th><td>66</td><td>34</td><td>29</td><td>14</td></tr>\n",
       "\t<tr><th scope=row>Red</th><td>16</td><td> 7</td><td> 7</td><td> 7</td></tr>\n",
       "\t<tr><th scope=row>Blond</th><td> 4</td><td>64</td><td> 5</td><td> 8</td></tr>\n",
       "</tbody>\n",
       "</table>\n"
      ],
      "text/latex": [
       "\\begin{tabular}{r|llll}\n",
       "  & Brown & Blue & Hazel & Green\\\\\n",
       "\\hline\n",
       "\tBlack & 36 &  9 &  5 &  2\\\\\n",
       "\tBrown & 66 & 34 & 29 & 14\\\\\n",
       "\tRed & 16 &  7 &  7 &  7\\\\\n",
       "\tBlond &  4 & 64 &  5 &  8\\\\\n",
       "\\end{tabular}\n"
      ],
      "text/markdown": [
       "\n",
       "| <!--/--> | Brown | Blue | Hazel | Green | \n",
       "|---|---|---|---|\n",
       "| Black | 36 |  9 |  5 |  2 | \n",
       "| Brown | 66 | 34 | 29 | 14 | \n",
       "| Red | 16 |  7 |  7 |  7 | \n",
       "| Blond |  4 | 64 |  5 |  8 | \n",
       "\n",
       "\n"
      ],
      "text/plain": [
       "      Brown Blue Hazel Green\n",
       "Black 36     9    5     2   \n",
       "Brown 66    34   29    14   \n",
       "Red   16     7    7     7   \n",
       "Blond  4    64    5     8   "
      ]
     },
     "metadata": {},
     "output_type": "display_data"
    },
    {
     "data": {
      "text/html": [
       "<table>\n",
       "<thead><tr><th></th><th scope=col>Brown</th><th scope=col>Blue</th><th scope=col>Hazel</th><th scope=col>Green</th></tr></thead>\n",
       "<tbody>\n",
       "\t<tr><th scope=row>womanEye</th><td>38.97764</td><td>36.42173</td><td>14.69649</td><td>9.904153</td></tr>\n",
       "</tbody>\n",
       "</table>\n"
      ],
      "text/latex": [
       "\\begin{tabular}{r|llll}\n",
       "  & Brown & Blue & Hazel & Green\\\\\n",
       "\\hline\n",
       "\twomanEye & 38.97764 & 36.42173 & 14.69649 & 9.904153\\\\\n",
       "\\end{tabular}\n"
      ],
      "text/markdown": [
       "\n",
       "| <!--/--> | Brown | Blue | Hazel | Green | \n",
       "|---|\n",
       "| womanEye | 38.97764 | 36.42173 | 14.69649 | 9.904153 | \n",
       "\n",
       "\n"
      ],
      "text/plain": [
       "         Brown    Blue     Hazel    Green   \n",
       "womanEye 38.97764 36.42173 14.69649 9.904153"
      ]
     },
     "metadata": {},
     "output_type": "display_data"
    },
    {
     "data": {
      "text/html": [
       "<table>\n",
       "<thead><tr><th></th><th scope=col>Black</th><th scope=col>Brown</th><th scope=col>Red</th><th scope=col>Blond</th></tr></thead>\n",
       "<tbody>\n",
       "\t<tr><th scope=row>womanHair</th><td>16.61342</td><td>45.6869 </td><td>11.82109</td><td>25.87859</td></tr>\n",
       "</tbody>\n",
       "</table>\n"
      ],
      "text/latex": [
       "\\begin{tabular}{r|llll}\n",
       "  & Black & Brown & Red & Blond\\\\\n",
       "\\hline\n",
       "\twomanHair & 16.61342 & 45.6869  & 11.82109 & 25.87859\\\\\n",
       "\\end{tabular}\n"
      ],
      "text/markdown": [
       "\n",
       "| <!--/--> | Black | Brown | Red | Blond | \n",
       "|---|\n",
       "| womanHair | 16.61342 | 45.6869  | 11.82109 | 25.87859 | \n",
       "\n",
       "\n"
      ],
      "text/plain": [
       "          Black    Brown   Red      Blond   \n",
       "womanHair 16.61342 45.6869 11.82109 25.87859"
      ]
     },
     "metadata": {},
     "output_type": "display_data"
    },
    {
     "data": {
      "image/png": "[encoded data removed]",
      "text/plain": [
       "plot without title"
      ]
     },
     "metadata": {},
     "output_type": "display_data"
    }
   ],
   "source": [
    "# 2. 다음의 자료에 대해 성별로 머리색의 분포와 눈동자의 색의 분포를 그래프로 요약\n",
    "# http://www.stat.columbia.edu/~tzheng/files/Rcolor.pdf\n",
    "# https://rfriend.tistory.com/51\n",
    "\n",
    "brown <- c(32, 53, 10, 3)\n",
    "blue <- c(11, 50, 10, 30)\n",
    "hazel <- c(10, 25, 7, 5)\n",
    "green <- c(3, 15, 7, 8)\n",
    "\n",
    "man <- data.frame(brown, blue, hazel, green)\n",
    "colnames(man) <- c('Brown', 'Blue', 'Hazel', 'Green')\n",
    "rownames(man) <- c('Black', 'Brown', 'Red', 'Blond')\n",
    "\n",
    "man\n",
    "manEye <- colSums(man) / sum(man) * 100\n",
    "manHair <- rowSums(man) / sum(man) * 100\n",
    "\n",
    "t(as.data.frame(manEye))\n",
    "t(as.data.frame(manHair))\n",
    "\n",
    "brown <- c(36, 66, 16, 4)\n",
    "blue <- c(9, 34, 7, 64)\n",
    "hazel <- c(5, 29, 7, 5)\n",
    "green <- c(2, 14, 7, 8)\n",
    "\n",
    "woman <- data.frame(brown, blue, hazel, green)\n",
    "colnames(woman) <- c('Brown', 'Blue', 'Hazel', 'Green')\n",
    "rownames(woman) <- c('Black', 'Brown', 'Red', 'Blond')\n",
    "\n",
    "woman\n",
    "womanEye <- colSums(woman) / sum(woman) * 100\n",
    "womanHair <- rowSums(woman) / sum(woman) * 100\n",
    "\n",
    "t(as.data.frame(womanEye))\n",
    "t(as.data.frame(womanHair))\n",
    "\n",
    "par(mfrow = c(2, 2))\n",
    "colorBlack <- colorRampPalette(colors = c(\"gray\", \"white\"))(4)\n",
    "barplot(manEye, xlab = \"Man Eyes\", ylab = \"Percent\", col = colorBlack, ylim = c(0, 40))\n",
    "barplot(womanEye, xlab = \"Woman Eyes\", ylab = \"Percent\", col = colorBlack, ylim = c(0, 40))\n",
    "\n",
    "colorYellow <- colorRampPalette(colors = c(\"yellow\", \"lightyellow\"))(4)\n",
    "barplot(manHair, xlab = \"Man Hair\", ylab = \"Percent\", col = colorYellow, ylim = c(0, 60))\n",
    "barplot(womanHair, xlab = \"Woman Hair\", ylab = \"Percent\", col = colorYellow, ylim = c(0, 60))"
   ]
  },
  {
   "cell_type": "code",
   "execution_count": 240,
   "metadata": {},
   "outputs": [
    {
     "name": "stdout",
     "output_type": "stream",
     "text": [
      "평균:\t 50 \n",
      "중위수:\t 40 \n",
      "최빈값:\t 40"
     ]
    },
    {
     "data": {
      "image/png": "[encoded data removed]",
      "text/plain": [
       "Plot with title \"Histogram of score\""
      ]
     },
     "metadata": {},
     "output_type": "display_data"
    }
   ],
   "source": [
    "# 4. 어느 과목을 수강한 학생 10명의 성적이 다음과 같다.\n",
    "# 30, 40, 40, 40, 40, 40, 50, 50, 50, 120\n",
    "\n",
    "score <- c(30, 40, 40, 40, 40, 40, 50, 50, 50, 120)\n",
    "\n",
    "# Create the function.\n",
    "getmode <- function(v) {\n",
    "   uniqv <- unique(v)\n",
    "   uniqv[which.max(tabulate(match(v, uniqv)))]\n",
    "}\n",
    "\n",
    "# tabulate(match(score,unique(score)))\n",
    "# (1) 이들에 대한 중심위치의 측도로 평균(mean), 중위수(median), 최빈값(module) 을 구하시오.\n",
    "\n",
    "cat(\"평균:\\t\", mean(score)\n",
    "    , \"\\n중위수:\\t\", median(score)\n",
    "    , \"\\n최빈값:\\t\", getmode(score))\n",
    "\n",
    "colors = c(\"blue\", \"gray\", \"red\", \"green\")\n",
    "# (2) 평균과 중위수의 성질을 비교 설명 하시오.\n",
    "hist(score, xlim=c(20, 120), col = colors, nclass=13)"
   ]
  },
  {
   "cell_type": "code",
   "execution_count": 17,
   "metadata": {},
   "outputs": [
    {
     "name": "stdout",
     "output_type": "stream",
     "text": [
      "2.236068 2.236068 22.36068"
     ]
    }
   ],
   "source": [
    "# 6. 관측값이 14, 16, 17, 18, 20 으로 주어졌을 때, 이들의 흩어진 정도를 측정하는\n",
    "# 표준편차이다. 표준편차의 성질을 이용해서 계산 과정 없이 다음 물음에 답하시오.\n",
    "\n",
    "# (1) 15, 17, 18, 19, 21 의 표준편차\n",
    "a <- c(15, 17, 18, 19, 21)\n",
    "\n",
    "# (2) 115, 117, 118, 119, 121\n",
    "b <- c(115, 117, 118, 119, 121)\n",
    "\n",
    "# (3) 150, 170, 180, 190, 210\n",
    "c <- c(150, 170, 180, 190, 210)\n",
    "\n",
    "cat(sd(a), sd(b), sd(c))"
   ]
  },
  {
   "cell_type": "code",
   "execution_count": 280,
   "metadata": {},
   "outputs": [
    {
     "data": {
      "image/png": "[encoded data removed]",
      "text/plain": [
       "plot without title"
      ]
     },
     "metadata": {},
     "output_type": "display_data"
    }
   ],
   "source": [
    "# 10. 어떤 학력고사를 두 집단 A 와 B 에 실시하였다. 그 결과 \n",
    "# http://www.sthda.com/english/wiki/generic-plot-types-in-r-software\n",
    "# http://www.sthda.com/english/wiki/abline-r-function-an-easy-way-to-add-straight-lines-to-a-plot-using-r-software\n",
    "# 집단 A 의 평균은 60이고 표준편차는 10, 그리고 \n",
    "# 집단 B 는 평균은 65이고 표준편차는 5 라고 하자.\n",
    "\n",
    "score <- seq(0, 100, by = 1)\n",
    "\n",
    "A <- dnorm(score, mean = 60, sd = 10)\n",
    "B <- dnorm(score, mean = 65, sd = 5)\n",
    "\n",
    "par(mfrow = c(2, 1))\n",
    "\n",
    "\n",
    "\n",
    "# (1) 집단 A 에 속한 점수가 75점인 학생과 집단 B 에 속한 마찬가지로 75점인 학생의 소속집단에서의 상대적 순위를 비교하시오.\n",
    "plot(score, A, , type='l')\n",
    "abline(v=75, col=\"red\", lwd=3)\n",
    "abline(v=50, col=\"blue\", lwd=3)\n",
    "\n",
    "# (2) 집단 A 에 속한 점수가 50점인 학생과 같은 상대적 위치를 갖는 집단 B에 속한 학생의 점수를 구하시오.\n",
    "plot(score, B)\n",
    "abline(v=75, col=\"red\", lwd=3)\n",
    "abline(v=50, col=\"blue\", lwd=3)"
   ]
  },
  {
   "cell_type": "code",
   "execution_count": 266,
   "metadata": {},
   "outputs": [
    {
     "data": {
      "text/html": [
       "<table>\n",
       "<thead><tr><th></th><th scope=col>R_1974</th><th scope=col>R_1978</th><th scope=col>D_1974</th><th scope=col>D_1978</th></tr></thead>\n",
       "<tbody>\n",
       "\t<tr><th scope=row>level1</th><td>0.054</td><td>0.035</td><td> 4.73</td><td> 1.60</td></tr>\n",
       "\t<tr><th scope=row>level2</th><td>0.093</td><td>0.072</td><td>16.63</td><td> 9.89</td></tr>\n",
       "\t<tr><th scope=row>level3</th><td>0.111</td><td>0.100</td><td>21.89</td><td>13.83</td></tr>\n",
       "\t<tr><th scope=row>level4</th><td>0.160</td><td>0.159</td><td>53.40</td><td>69.62</td></tr>\n",
       "\t<tr><th scope=row>level5</th><td>0.384</td><td>0.383</td><td> 3.34</td><td> 5.06</td></tr>\n",
       "</tbody>\n",
       "</table>\n"
      ],
      "text/latex": [
       "\\begin{tabular}{r|llll}\n",
       "  & R\\_1974 & R\\_1978 & D\\_1974 & D\\_1978\\\\\n",
       "\\hline\n",
       "\tlevel1 & 0.054 & 0.035 &  4.73 &  1.60\\\\\n",
       "\tlevel2 & 0.093 & 0.072 & 16.63 &  9.89\\\\\n",
       "\tlevel3 & 0.111 & 0.100 & 21.89 & 13.83\\\\\n",
       "\tlevel4 & 0.160 & 0.159 & 53.40 & 69.62\\\\\n",
       "\tlevel5 & 0.384 & 0.383 &  3.34 &  5.06\\\\\n",
       "\\end{tabular}\n"
      ],
      "text/markdown": [
       "\n",
       "| <!--/--> | R_1974 | R_1978 | D_1974 | D_1978 | \n",
       "|---|---|---|---|---|\n",
       "| level1 | 0.054 | 0.035 |  4.73 |  1.60 | \n",
       "| level2 | 0.093 | 0.072 | 16.63 |  9.89 | \n",
       "| level3 | 0.111 | 0.100 | 21.89 | 13.83 | \n",
       "| level4 | 0.160 | 0.159 | 53.40 | 69.62 | \n",
       "| level5 | 0.384 | 0.383 |  3.34 |  5.06 | \n",
       "\n",
       "\n"
      ],
      "text/plain": [
       "       R_1974 R_1978 D_1974 D_1978\n",
       "level1 0.054  0.035   4.73   1.60 \n",
       "level2 0.093  0.072  16.63   9.89 \n",
       "level3 0.111  0.100  21.89  13.83 \n",
       "level4 0.160  0.159  53.40  69.62 \n",
       "level5 0.384  0.383   3.34   5.06 "
      ]
     },
     "metadata": {},
     "output_type": "display_data"
    },
    {
     "data": {
      "text/html": [
       "0.141"
      ],
      "text/latex": [
       "0.141"
      ],
      "text/markdown": [
       "0.141"
      ],
      "text/plain": [
       "[1] 0.141"
      ]
     },
     "metadata": {},
     "output_type": "display_data"
    },
    {
     "data": {
      "text/html": [
       "0.152"
      ],
      "text/latex": [
       "0.152"
      ],
      "text/markdown": [
       "0.152"
      ],
      "text/plain": [
       "[1] 0.152"
      ]
     },
     "metadata": {},
     "output_type": "display_data"
    }
   ],
   "source": [
    "# 12. 미국의 1974년과 1978녀에 걸친 소득세율에 관한 자료 이다.\n",
    "\n",
    "level1 <- c(0.054, 0.035, 4.73, 1.60)\n",
    "level2 <- c(0.093, 0.072, 16.63, 9.89)\n",
    "level3 <- c(0.111, 0.100, 21.89, 13.83)\n",
    "level4 <- c(0.160, 0.159, 53.40, 69.62)\n",
    "level5 <- c(0.384, 0.383, 3.34, 5.06)\n",
    "x <- as.data.frame(t(data.frame(level1, level2, level3, level4, level5)))\n",
    "names(x) <- c('R_1974', 'R_1978', 'D_1974', 'D_1978')\n",
    "x\n",
    "# 위 자료에 의하면 1974년에 비해서 1978년에는 모든 소득계층에 대하여 세율이 낮아졌음에도 불구하고\n",
    "# 평균 세율은 0.141 에서 0.152 로 늘었다. 이에 대한 적절한 설명을 하라.\n",
    "\n",
    "round(sum(x['R_1974']*x['D_1974'])/100, 3)\n",
    "round(sum(x['R_1978']*x['D_1978'])/100, 3)"
   ]
  },
  {
   "cell_type": "code",
   "execution_count": 135,
   "metadata": {},
   "outputs": [
    {
     "name": "stdout",
     "output_type": "stream",
     "text": [
      "[다섯 숫자 요약]\n",
      "\n",
      "최 솟 값 :\t 1.6 \n",
      "Quartile 1 :\t 4.325 \n",
      "중 위 수 :\t 5.3 \n",
      "Quartile 1 :\t 9.475 \n",
      "최 댓 값 :\t 18\n",
      "\n",
      "[사분위 수치와 범위]"
     ]
    },
    {
     "data": {
      "text/html": [
       "<dl class=dl-horizontal>\n",
       "\t<dt>0%</dt>\n",
       "\t\t<dd>1.6</dd>\n",
       "\t<dt>25%</dt>\n",
       "\t\t<dd>4.325</dd>\n",
       "\t<dt>50%</dt>\n",
       "\t\t<dd>5.3</dd>\n",
       "\t<dt>75%</dt>\n",
       "\t\t<dd>9.475</dd>\n",
       "\t<dt>100%</dt>\n",
       "\t\t<dd>18</dd>\n",
       "</dl>\n"
      ],
      "text/latex": [
       "\\begin{description*}\n",
       "\\item[0\\textbackslash{}\\%] 1.6\n",
       "\\item[25\\textbackslash{}\\%] 4.325\n",
       "\\item[50\\textbackslash{}\\%] 5.3\n",
       "\\item[75\\textbackslash{}\\%] 9.475\n",
       "\\item[100\\textbackslash{}\\%] 18\n",
       "\\end{description*}\n"
      ],
      "text/markdown": [
       "0%\n",
       ":   1.625%\n",
       ":   4.32550%\n",
       ":   5.375%\n",
       ":   9.475100%\n",
       ":   18\n",
       "\n"
      ],
      "text/plain": [
       "    0%    25%    50%    75%   100% \n",
       " 1.600  4.325  5.300  9.475 18.000 "
      ]
     },
     "metadata": {},
     "output_type": "display_data"
    },
    {
     "name": "stdout",
     "output_type": "stream",
     "text": [
      " num [1:18] 4.4 10.8 4.3 4.4 18 5.4 2.1 10.2 3.8 6.6 ...\n",
      "\n",
      "\n",
      "[평균 과 중위수 그리고 설명]\n",
      "\n",
      "평 균 :\t\t 1.6 \n",
      "중 위 수 :\t 5.3"
     ]
    },
    {
     "data": {
      "image/png": "[encoded data removed]",
      "text/plain": [
       "Plot with title \"Histogram of rate\""
      ]
     },
     "metadata": {},
     "output_type": "display_data"
    }
   ],
   "source": [
    "# 16. 다음은 1996년 18개 OECD 국가들의 가계소비에서 보건/의료가 차지하는 지출비율\n",
    "\n",
    "rate <- c(4.4, 10.8, 4.3, 4.4, 18.0, 5.4, 2.1, 10.2, 3.8, 6.6, 12.6, 5.2, 5.2, 4.0, 13.1, 1.6, 7.2, 7.3)\n",
    "par(mfrow = c(2, 1))\n",
    "# 1. 다섯 숫자 요약 및 상자 그림\n",
    "# 1> 최솟값, 2> 제 1사분위수, 3> 중위수 4> 제 3 사분위 수, 5> 최댓값\n",
    "cat(\"[다섯 숫자 요약]\\n\")\n",
    "cat(\"\\n최 솟 값 :\\t\", min(rate),\n",
    "    \"\\nQuartile 1 :\\t\", quantile(rate, probs = c(0.25)),\n",
    "    \"\\n중 위 수 :\\t\", median(rate),\n",
    "    \"\\nQuartile 1 :\\t\", quantile(rate, probs = c(0.75)),\n",
    "    \"\\n최 댓 값 :\\t\", max(rate))\n",
    "boxplot(rate, horizontal = TRUE, main = \"Boxplot of rate\")\n",
    "# 2. 사분위범위와 범위를 구하시오\n",
    "cat(\"\\n\\n[사분위 수치와 범위]\")\n",
    "quantile(rate)\n",
    "# 3. 이 자료에 대한 히스토그램을 그린다\n",
    "hist(rate)\n",
    "# 4 평균과 중위수를 구하고 그 결과를 히스토그램을 통해 설명\n",
    "cat(\"\\n\\n[평균 과 중위수 그리고 설명]\\n\")\n",
    "cat(\"\\n평 균 :\\t\\t\", min(rate),\n",
    "    \"\\n중 위 수 :\\t\", median(rate))"
   ]
  }
 ],
 "metadata": {
  "kernelspec": {
   "display_name": "R",
   "language": "R",
   "name": "ir"
  },
  "language_info": {
   "codemirror_mode": "r",
   "file_extension": ".r",
   "mimetype": "text/x-r-source",
   "name": "R",
   "pygments_lexer": "r",
   "version": "3.6.1"
  }
 },
 "nbformat": 4,
 "nbformat_minor": 2
}
