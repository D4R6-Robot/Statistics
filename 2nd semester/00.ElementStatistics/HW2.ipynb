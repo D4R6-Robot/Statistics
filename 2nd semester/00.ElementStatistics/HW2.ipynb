{
 "cells": [
  {
   "cell_type": "code",
   "execution_count": 24,
   "metadata": {},
   "outputs": [],
   "source": [
    "# 시각화 팩키지\n",
    "library(ggplot2)\n",
    "library(gridExtra)"
   ]
  },
  {
   "cell_type": "code",
   "execution_count": null,
   "metadata": {},
   "outputs": [],
   "source": [
    "# 2. 두 변수가 짝을 이룬 n 개의 자료점 (x_1, y_1), ... , (x_n, y_n) 이 주어졌을 때, \n",
    "# 두 변수를 각각 표준화한 n 개의 자료점 (x_1*, y_1*), ... , (x_n*, y_n*)의 공분산은\n",
    "# 원자료 (x_1, y_1), ... , (x_n, y_n) 의 상관 계수와 같음을 보여라\n",
    "\n",
    "\n",
    "\n",
    "\n",
    "\n",
    "\n",
    "\n",
    "\n",
    "\n",
    "\n"
   ]
  },
  {
   "cell_type": "code",
   "execution_count": 34,
   "metadata": {},
   "outputs": [
    {
     "name": "stdout",
     "output_type": "stream",
     "text": [
      "(1) 상관계수\tcor(x, y)\t[ 1 ]\n",
      "\n",
      "(2) 공분산\tcov(x, y)\t[ 0 ]\n",
      "\n",
      "(3) 상관계수\tcor(x, y)\t[ 0 ]\n",
      "\n",
      "(4) 상관계수\tcor(x, y)\t[ 0.7071068 ]\n",
      "(4) 공분산\tcov(x, y)\t[ 0.5 ]\n",
      "\n",
      "(5) 상관계수\tcor(x, y)\t[ 0.7071068 ]\n",
      "(5) 공분산\tcov(x, y)\t[ 3 ]\n",
      "\n"
     ]
    },
    {
     "data": {
      "image/png": "[encoded data removed]",
      "text/plain": [
       "plot without title"
      ]
     },
     "metadata": {},
     "output_type": "display_data"
    }
   ],
   "source": [
    "# 4. 짝 지어진 두 개의 연속형 변수 (X, Y) 에 대하여\n",
    "# (1) (0, 0), (1, 1), (2, 2), (3, 3), (4, 4), (5, 5) 의 6 개 값이 주어졌을 때, 두 변수 사이의 상관계수를 구하시오.\n",
    "x <- c(0, 1, 2, 3, 4, 5)\n",
    "y <- c(0, 1, 2, 3, 4, 5)\n",
    "cat(\"(1) 상관계수\\tcor(x, y)\\t[\", cor(x, y), \"]\\n\\n\")\n",
    "\n",
    "# (2) (0, 1), (1, 1), (2, 1), (3, 1), (4, 1), (5, 1) 의 6 개 값이 주어졌을 때, 두 변수 사이의 공분산을 구하시오.\n",
    "x <- c(0, 1, 2, 3, 4, 5)\n",
    "y <- c(1, 1, 1, 1, 1, 1)\n",
    "cat(\"(2) 공분산\\tcov(x, y)\\t[\", cov(x, y), \"]\\n\\n\")\n",
    "\n",
    "# (3) (0, 0), (0, 1), (0, 2), (1, 0), (1, 1), (1, 2), (2, 0), (2, 1), (2, 2) 의 9 개 값이 주어졌을 때, 두 변수 사이의 상관계수 구하시오.\n",
    "x <- c(0, 0, 0, 1, 1, 1, 2, 2, 2)\n",
    "y <- c(0, 1, 2, 0, 1, 2, 0, 1, 2)\n",
    "cat(\"(3) 상관계수\\tcor(x, y)\\t[\", cor(x, y), \"]\\n\\n\")\n",
    "\n",
    "# (4) (0, 0), (1, 0), (1, 1), (1, 2), (2, 2) 의 5 개 값이 주어졌을 때, 산점도를 그리고 두 변수 사이의 공분산과 상관계수를 구하시오\n",
    "x <- c(0, 1, 1, 1, 2)\n",
    "y <- c(0, 0, 1, 2, 2)\n",
    "table_4 <- data.frame(x, y)\n",
    "g_4 <- ggplot(table_4, aes(x = x, y = y)) + geom_point(color = 'red')\n",
    "cat(\"(4) 상관계수\\tcor(x, y)\\t[\", cor(x, y), \"]\\n\")\n",
    "cat(\"(4) 공분산\\tcov(x, y)\\t[\", cov(x, y), \"]\\n\\n\")\n",
    "\n",
    "# (5) (5, 10), (7, 10), (7, 13), (7, 16), (9, 16) 의 5 개 값이 주어졌을 때, 산점도를 그리고 두 변수 사이의 공분산과 상관계수를 구하시오\n",
    "x <- c(5, 7, 7, 7, 9)\n",
    "y <- c(10, 10, 13, 16, 16)\n",
    "table_5 <- data.frame(x, y)\n",
    "g_5 <- ggplot(table_5, aes(x = x, y = y)) + geom_point(color = 'blue')\n",
    "cat(\"(5) 상관계수\\tcor(x, y)\\t[\", cor(x, y), \"]\\n\")\n",
    "cat(\"(5) 공분산\\tcov(x, y)\\t[\", cov(x, y), \"]\\n\\n\")\n",
    "\n",
    "grid.arrange(g_4, g_5, ncol=2, nrow=2)\n",
    "\n",
    "# (4), (5) 의 결과를 비교하시오."
   ]
  },
  {
   "cell_type": "code",
   "execution_count": null,
   "metadata": {},
   "outputs": [],
   "source": [
    "# 6. 두개의 연속 변수 ( X, Y )에 대하여 크기가 n = 48 인 자료로부터 다음과 같은 결과가 주어졌을 때, \n",
    "\n",
    "# (1) 두 변수 사이의 공분산을 구하시오\n",
    "# (2) 두 변수 사이의 상관계수를 구하시오\n",
    "\n",
    "\n",
    "\n",
    "\n",
    "\n",
    "\n",
    "\n",
    "\n",
    "\n",
    "\n"
   ]
  },
  {
   "cell_type": "code",
   "execution_count": 53,
   "metadata": {},
   "outputs": [
    {
     "data": {
      "text/html": [
       "<table>\n",
       "<thead><tr><th></th><th scope=col>남자</th><th scope=col>여자</th></tr></thead>\n",
       "<tbody>\n",
       "\t<tr><th scope=row>찬성</th><td>10</td><td>30</td></tr>\n",
       "\t<tr><th scope=row>반대</th><td>30</td><td>30</td></tr>\n",
       "</tbody>\n",
       "</table>\n"
      ],
      "text/latex": [
       "\\begin{tabular}{r|ll}\n",
       "  & 남자 & 여자\\\\\n",
       "\\hline\n",
       "\t찬성 & 10 & 30\\\\\n",
       "\t반대 & 30 & 30\\\\\n",
       "\\end{tabular}\n"
      ],
      "text/markdown": [
       "\n",
       "| <!--/--> | 남자 | 여자 | \n",
       "|---|---|\n",
       "| 찬성 | 10 | 30 | \n",
       "| 반대 | 30 | 30 | \n",
       "\n",
       "\n"
      ],
      "text/plain": [
       "     남자 여자\n",
       "찬성 10   30  \n",
       "반대 30   30  "
      ]
     },
     "metadata": {},
     "output_type": "display_data"
    },
    {
     "data": {
      "text/html": [
       "<table>\n",
       "<thead><tr><th></th><th scope=col>OR</th><th scope=col>2.5 %</th><th scope=col>97.5 %</th><th scope=col>p</th></tr></thead>\n",
       "<tbody>\n",
       "\t<tr><th scope=row>Fisher's test</th><td>0.3370553 </td><td>0.1238312 </td><td>0.8621208 </td><td>0.01366497</td></tr>\n",
       "</tbody>\n",
       "</table>\n"
      ],
      "text/latex": [
       "\\begin{tabular}{r|llll}\n",
       "  & OR & 2.5 \\% & 97.5 \\% & p\\\\\n",
       "\\hline\n",
       "\tFisher's test & 0.3370553  & 0.1238312  & 0.8621208  & 0.01366497\\\\\n",
       "\\end{tabular}\n"
      ],
      "text/markdown": [
       "\n",
       "| <!--/--> | OR | 2.5 % | 97.5 % | p | \n",
       "|---|\n",
       "| Fisher's test | 0.3370553  | 0.1238312  | 0.8621208  | 0.01366497 | \n",
       "\n",
       "\n"
      ],
      "text/plain": [
       "              OR        2.5 %     97.5 %    p         \n",
       "Fisher's test 0.3370553 0.1238312 0.8621208 0.01366497"
      ]
     },
     "metadata": {},
     "output_type": "display_data"
    },
    {
     "data": {
      "text/html": [
       "<table>\n",
       "<thead><tr><th></th><th scope=col>남자</th><th scope=col>여자</th></tr></thead>\n",
       "<tbody>\n",
       "\t<tr><th scope=row>찬성</th><td>a</td><td>b</td></tr>\n",
       "\t<tr><th scope=row>반대</th><td>c</td><td>d</td></tr>\n",
       "</tbody>\n",
       "</table>\n"
      ],
      "text/latex": [
       "\\begin{tabular}{r|ll}\n",
       "  & 남자 & 여자\\\\\n",
       "\\hline\n",
       "\t찬성 & a & b\\\\\n",
       "\t반대 & c & d\\\\\n",
       "\\end{tabular}\n"
      ],
      "text/markdown": [
       "\n",
       "| <!--/--> | 남자 | 여자 | \n",
       "|---|---|\n",
       "| 찬성 | a | b | \n",
       "| 반대 | c | d | \n",
       "\n",
       "\n"
      ],
      "text/plain": [
       "     남자 여자\n",
       "찬성 a    b   \n",
       "반대 c    d   "
      ]
     },
     "metadata": {},
     "output_type": "display_data"
    }
   ],
   "source": [
    "# 8. 예제 3.3 에 주어진 2x2 분할 표 에 대하여\n",
    "\n",
    "# (1) 오즈 비 (odds ratio) 를 구하시오\n",
    "# https://en.wikipedia.org/wiki/Fisher%27s_exact_test\n",
    "library(questionr)\n",
    "M <- matrix(c(10, 30, 30, 30), ncol = 2)\n",
    "colnames(M) <- c('남자', '여자')\n",
    "rownames(M) <- c('찬성', '반대')\n",
    "M\n",
    "\n",
    "odds.ratio(M)\n",
    "\n",
    "\n",
    "\n",
    "\n",
    "\n",
    "\n",
    "# (2) 성별로 찬성과 반대의 빈도가 알려져 있지 않고 열의 합과 행의 합만이 주어진 상황에서,\n",
    "# 두 변수(성별과 찬성여부) 가 독립, 즉 오즈비가 1이라고 할 때, 아래 표의 빈칸을 채우시오\n",
    "\n",
    "M <- matrix(c('a', 'c', 'b', 'd'), ncol = 2)\n",
    "colnames(M) <- c('남자', '여자')\n",
    "rownames(M) <- c('찬성', '반대')\n",
    "M"
   ]
  },
  {
   "cell_type": "code",
   "execution_count": 45,
   "metadata": {},
   "outputs": [],
   "source": [
    "# 10. 다음은 통계청에서 발표한 '2016년 청소년 통계'에서 18세 미만의 청소년을 대상으로 보건복지부, 중앙 아동 보호 전문 기관에서 조사한\n",
    "# '전국아동학대 현황 보고서' 에서 발췌한 2014년 연령별 아동학대 발생유형에 대한 자료이다.\n",
    "# 조건부분포를 비교함으로써 두 변수 (연령, 학대유형)의 연관 관계를 설명하시오\n"
   ]
  }
 ],
 "metadata": {
  "kernelspec": {
   "display_name": "R",
   "language": "R",
   "name": "ir"
  },
  "language_info": {
   "codemirror_mode": "r",
   "file_extension": ".r",
   "mimetype": "text/x-r-source",
   "name": "R",
   "pygments_lexer": "r",
   "version": "3.5.1"
  }
 },
 "nbformat": 4,
 "nbformat_minor": 2
}
