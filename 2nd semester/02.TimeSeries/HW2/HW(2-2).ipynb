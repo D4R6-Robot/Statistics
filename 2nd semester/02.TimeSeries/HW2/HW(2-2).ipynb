{
 "cells": [
  {
   "cell_type": "code",
   "execution_count": 8,
   "metadata": {},
   "outputs": [
    {
     "data": {
      "text/html": [
       "<table>\n",
       "<thead><tr><th scope=col>Demand</th><th scope=col>WorkDay</th><th scope=col>Temperature</th></tr></thead>\n",
       "<tbody>\n",
       "\t<tr><td>174.8963</td><td>0       </td><td>26.0    </td></tr>\n",
       "\t<tr><td>188.5909</td><td>1       </td><td>23.0    </td></tr>\n",
       "\t<tr><td>188.9169</td><td>1       </td><td>22.2    </td></tr>\n",
       "\t<tr><td>173.8142</td><td>0       </td><td>20.3    </td></tr>\n",
       "\t<tr><td>169.5152</td><td>0       </td><td>26.1    </td></tr>\n",
       "\t<tr><td>195.7288</td><td>1       </td><td>19.6    </td></tr>\n",
       "\t<tr><td>199.9029</td><td>1       </td><td>20.0    </td></tr>\n",
       "\t<tr><td>205.3375</td><td>1       </td><td>27.4    </td></tr>\n",
       "\t<tr><td>228.0782</td><td>1       </td><td>32.4    </td></tr>\n",
       "\t<tr><td>258.5984</td><td>1       </td><td>34.0    </td></tr>\n",
       "\t<tr><td>201.7970</td><td>0       </td><td>22.4    </td></tr>\n",
       "\t<tr><td>187.6298</td><td>0       </td><td>22.5    </td></tr>\n",
       "\t<tr><td>254.6636</td><td>1       </td><td>30.0    </td></tr>\n",
       "\t<tr><td>322.2323</td><td>1       </td><td>42.4    </td></tr>\n",
       "\t<tr><td>343.9934</td><td>1       </td><td>41.5    </td></tr>\n",
       "\t<tr><td>347.6376</td><td>1       </td><td>43.2    </td></tr>\n",
       "\t<tr><td>332.9455</td><td>1       </td><td>43.1    </td></tr>\n",
       "\t<tr><td>219.7517</td><td>0       </td><td>23.7    </td></tr>\n",
       "\t<tr><td>186.9816</td><td>0       </td><td>22.3    </td></tr>\n",
       "\t<tr><td>228.4876</td><td>1       </td><td>24.0    </td></tr>\n",
       "</tbody>\n",
       "</table>\n"
      ],
      "text/latex": [
       "\\begin{tabular}{lll}\n",
       " Demand & WorkDay & Temperature\\\\\n",
       "\\hline\n",
       "\t 174.8963 & 0        & 26.0    \\\\\n",
       "\t 188.5909 & 1        & 23.0    \\\\\n",
       "\t 188.9169 & 1        & 22.2    \\\\\n",
       "\t 173.8142 & 0        & 20.3    \\\\\n",
       "\t 169.5152 & 0        & 26.1    \\\\\n",
       "\t 195.7288 & 1        & 19.6    \\\\\n",
       "\t 199.9029 & 1        & 20.0    \\\\\n",
       "\t 205.3375 & 1        & 27.4    \\\\\n",
       "\t 228.0782 & 1        & 32.4    \\\\\n",
       "\t 258.5984 & 1        & 34.0    \\\\\n",
       "\t 201.7970 & 0        & 22.4    \\\\\n",
       "\t 187.6298 & 0        & 22.5    \\\\\n",
       "\t 254.6636 & 1        & 30.0    \\\\\n",
       "\t 322.2323 & 1        & 42.4    \\\\\n",
       "\t 343.9934 & 1        & 41.5    \\\\\n",
       "\t 347.6376 & 1        & 43.2    \\\\\n",
       "\t 332.9455 & 1        & 43.1    \\\\\n",
       "\t 219.7517 & 0        & 23.7    \\\\\n",
       "\t 186.9816 & 0        & 22.3    \\\\\n",
       "\t 228.4876 & 1        & 24.0    \\\\\n",
       "\\end{tabular}\n"
      ],
      "text/markdown": [
       "\n",
       "Demand | WorkDay | Temperature | \n",
       "|---|---|---|---|---|---|---|---|---|---|---|---|---|---|---|---|---|---|---|---|\n",
       "| 174.8963 | 0        | 26.0     | \n",
       "| 188.5909 | 1        | 23.0     | \n",
       "| 188.9169 | 1        | 22.2     | \n",
       "| 173.8142 | 0        | 20.3     | \n",
       "| 169.5152 | 0        | 26.1     | \n",
       "| 195.7288 | 1        | 19.6     | \n",
       "| 199.9029 | 1        | 20.0     | \n",
       "| 205.3375 | 1        | 27.4     | \n",
       "| 228.0782 | 1        | 32.4     | \n",
       "| 258.5984 | 1        | 34.0     | \n",
       "| 201.7970 | 0        | 22.4     | \n",
       "| 187.6298 | 0        | 22.5     | \n",
       "| 254.6636 | 1        | 30.0     | \n",
       "| 322.2323 | 1        | 42.4     | \n",
       "| 343.9934 | 1        | 41.5     | \n",
       "| 347.6376 | 1        | 43.2     | \n",
       "| 332.9455 | 1        | 43.1     | \n",
       "| 219.7517 | 0        | 23.7     | \n",
       "| 186.9816 | 0        | 22.3     | \n",
       "| 228.4876 | 1        | 24.0     | \n",
       "\n",
       "\n"
      ],
      "text/plain": [
       "      Demand   WorkDay Temperature\n",
       " [1,] 174.8963 0       26.0       \n",
       " [2,] 188.5909 1       23.0       \n",
       " [3,] 188.9169 1       22.2       \n",
       " [4,] 173.8142 0       20.3       \n",
       " [5,] 169.5152 0       26.1       \n",
       " [6,] 195.7288 1       19.6       \n",
       " [7,] 199.9029 1       20.0       \n",
       " [8,] 205.3375 1       27.4       \n",
       " [9,] 228.0782 1       32.4       \n",
       "[10,] 258.5984 1       34.0       \n",
       "[11,] 201.7970 0       22.4       \n",
       "[12,] 187.6298 0       22.5       \n",
       "[13,] 254.6636 1       30.0       \n",
       "[14,] 322.2323 1       42.4       \n",
       "[15,] 343.9934 1       41.5       \n",
       "[16,] 347.6376 1       43.2       \n",
       "[17,] 332.9455 1       43.1       \n",
       "[18,] 219.7517 0       23.7       \n",
       "[19,] 186.9816 0       22.3       \n",
       "[20,] 228.4876 1       24.0       "
      ]
     },
     "metadata": {},
     "output_type": "display_data"
    },
    {
     "name": "stdout",
     "output_type": "stream",
     "text": [
      " Time-Series [1:20, 1:3] from 1 to 3.71: 175 189 189 174 170 ...\n",
      " - attr(*, \"dimnames\")=List of 2\n",
      "  ..$ : NULL\n",
      "  ..$ : chr [1:3] \"Demand\" \"WorkDay\" \"Temperature\"\n"
     ]
    }
   ],
   "source": [
    "# 2. library(fpp2)에 있는 데이터 elecdaily에는 호주 빅토리아주에서 2014년에 일별 전기 수요 기록이 있다.\n",
    "# 데이터의 첫 20일은 다음과 같이 볼 수 있다.\n",
    "\n",
    "# http://www.sthda.com/english/articles/32-r-graphics-essentials/128-plot-time-series-data-using-ggplot/\n",
    "library(fpp2)\n",
    "\n",
    "daily20 <- head(elecdaily,20)\n",
    "daily20\n",
    "str(daily20)"
   ]
  },
  {
   "cell_type": "code",
   "execution_count": 9,
   "metadata": {},
   "outputs": [
    {
     "data": {
      "image/png": "[encoded data removed]",
      "text/plain": [
       "plot without title"
      ]
     },
     "metadata": {},
     "output_type": "display_data"
    }
   ],
   "source": [
    "# (a) 데이터를 그래프로 나타내고 \n",
    "plot(daily20)"
   ]
  },
  {
   "cell_type": "code",
   "execution_count": 10,
   "metadata": {},
   "outputs": [
    {
     "data": {
      "text/html": [
       "<table>\n",
       "<thead><tr><th scope=col>time</th><th scope=col>Demand</th><th scope=col>WorkDay</th><th scope=col>Temperature</th></tr></thead>\n",
       "<tbody>\n",
       "\t<tr><td>1.000000</td><td>174.8963</td><td>0       </td><td>26.0    </td></tr>\n",
       "\t<tr><td>1.142857</td><td>188.5909</td><td>1       </td><td>23.0    </td></tr>\n",
       "\t<tr><td>1.285714</td><td>188.9169</td><td>1       </td><td>22.2    </td></tr>\n",
       "\t<tr><td>1.428571</td><td>173.8142</td><td>0       </td><td>20.3    </td></tr>\n",
       "\t<tr><td>1.571429</td><td>169.5152</td><td>0       </td><td>26.1    </td></tr>\n",
       "\t<tr><td>1.714286</td><td>195.7288</td><td>1       </td><td>19.6    </td></tr>\n",
       "\t<tr><td>1.857143</td><td>199.9029</td><td>1       </td><td>20.0    </td></tr>\n",
       "\t<tr><td>2.000000</td><td>205.3375</td><td>1       </td><td>27.4    </td></tr>\n",
       "\t<tr><td>2.142857</td><td>228.0782</td><td>1       </td><td>32.4    </td></tr>\n",
       "\t<tr><td>2.285714</td><td>258.5984</td><td>1       </td><td>34.0    </td></tr>\n",
       "\t<tr><td>2.428571</td><td>201.7970</td><td>0       </td><td>22.4    </td></tr>\n",
       "\t<tr><td>2.571429</td><td>187.6298</td><td>0       </td><td>22.5    </td></tr>\n",
       "\t<tr><td>2.714286</td><td>254.6636</td><td>1       </td><td>30.0    </td></tr>\n",
       "\t<tr><td>2.857143</td><td>322.2323</td><td>1       </td><td>42.4    </td></tr>\n",
       "\t<tr><td>3.000000</td><td>343.9934</td><td>1       </td><td>41.5    </td></tr>\n",
       "\t<tr><td>3.142857</td><td>347.6376</td><td>1       </td><td>43.2    </td></tr>\n",
       "\t<tr><td>3.285714</td><td>332.9455</td><td>1       </td><td>43.1    </td></tr>\n",
       "\t<tr><td>3.428571</td><td>219.7517</td><td>0       </td><td>23.7    </td></tr>\n",
       "\t<tr><td>3.571429</td><td>186.9816</td><td>0       </td><td>22.3    </td></tr>\n",
       "\t<tr><td>3.714286</td><td>228.4876</td><td>1       </td><td>24.0    </td></tr>\n",
       "</tbody>\n",
       "</table>\n"
      ],
      "text/latex": [
       "\\begin{tabular}{r|llll}\n",
       " time & Demand & WorkDay & Temperature\\\\\n",
       "\\hline\n",
       "\t 1.000000 & 174.8963 & 0        & 26.0    \\\\\n",
       "\t 1.142857 & 188.5909 & 1        & 23.0    \\\\\n",
       "\t 1.285714 & 188.9169 & 1        & 22.2    \\\\\n",
       "\t 1.428571 & 173.8142 & 0        & 20.3    \\\\\n",
       "\t 1.571429 & 169.5152 & 0        & 26.1    \\\\\n",
       "\t 1.714286 & 195.7288 & 1        & 19.6    \\\\\n",
       "\t 1.857143 & 199.9029 & 1        & 20.0    \\\\\n",
       "\t 2.000000 & 205.3375 & 1        & 27.4    \\\\\n",
       "\t 2.142857 & 228.0782 & 1        & 32.4    \\\\\n",
       "\t 2.285714 & 258.5984 & 1        & 34.0    \\\\\n",
       "\t 2.428571 & 201.7970 & 0        & 22.4    \\\\\n",
       "\t 2.571429 & 187.6298 & 0        & 22.5    \\\\\n",
       "\t 2.714286 & 254.6636 & 1        & 30.0    \\\\\n",
       "\t 2.857143 & 322.2323 & 1        & 42.4    \\\\\n",
       "\t 3.000000 & 343.9934 & 1        & 41.5    \\\\\n",
       "\t 3.142857 & 347.6376 & 1        & 43.2    \\\\\n",
       "\t 3.285714 & 332.9455 & 1        & 43.1    \\\\\n",
       "\t 3.428571 & 219.7517 & 0        & 23.7    \\\\\n",
       "\t 3.571429 & 186.9816 & 0        & 22.3    \\\\\n",
       "\t 3.714286 & 228.4876 & 1        & 24.0    \\\\\n",
       "\\end{tabular}\n"
      ],
      "text/markdown": [
       "\n",
       "time | Demand | WorkDay | Temperature | \n",
       "|---|---|---|---|---|---|---|---|---|---|---|---|---|---|---|---|---|---|---|---|\n",
       "| 1.000000 | 174.8963 | 0        | 26.0     | \n",
       "| 1.142857 | 188.5909 | 1        | 23.0     | \n",
       "| 1.285714 | 188.9169 | 1        | 22.2     | \n",
       "| 1.428571 | 173.8142 | 0        | 20.3     | \n",
       "| 1.571429 | 169.5152 | 0        | 26.1     | \n",
       "| 1.714286 | 195.7288 | 1        | 19.6     | \n",
       "| 1.857143 | 199.9029 | 1        | 20.0     | \n",
       "| 2.000000 | 205.3375 | 1        | 27.4     | \n",
       "| 2.142857 | 228.0782 | 1        | 32.4     | \n",
       "| 2.285714 | 258.5984 | 1        | 34.0     | \n",
       "| 2.428571 | 201.7970 | 0        | 22.4     | \n",
       "| 2.571429 | 187.6298 | 0        | 22.5     | \n",
       "| 2.714286 | 254.6636 | 1        | 30.0     | \n",
       "| 2.857143 | 322.2323 | 1        | 42.4     | \n",
       "| 3.000000 | 343.9934 | 1        | 41.5     | \n",
       "| 3.142857 | 347.6376 | 1        | 43.2     | \n",
       "| 3.285714 | 332.9455 | 1        | 43.1     | \n",
       "| 3.428571 | 219.7517 | 0        | 23.7     | \n",
       "| 3.571429 | 186.9816 | 0        | 22.3     | \n",
       "| 3.714286 | 228.4876 | 1        | 24.0     | \n",
       "\n",
       "\n"
      ],
      "text/plain": [
       "   time     Demand   WorkDay Temperature\n",
       "1  1.000000 174.8963 0       26.0       \n",
       "2  1.142857 188.5909 1       23.0       \n",
       "3  1.285714 188.9169 1       22.2       \n",
       "4  1.428571 173.8142 0       20.3       \n",
       "5  1.571429 169.5152 0       26.1       \n",
       "6  1.714286 195.7288 1       19.6       \n",
       "7  1.857143 199.9029 1       20.0       \n",
       "8  2.000000 205.3375 1       27.4       \n",
       "9  2.142857 228.0782 1       32.4       \n",
       "10 2.285714 258.5984 1       34.0       \n",
       "11 2.428571 201.7970 0       22.4       \n",
       "12 2.571429 187.6298 0       22.5       \n",
       "13 2.714286 254.6636 1       30.0       \n",
       "14 2.857143 322.2323 1       42.4       \n",
       "15 3.000000 343.9934 1       41.5       \n",
       "16 3.142857 347.6376 1       43.2       \n",
       "17 3.285714 332.9455 1       43.1       \n",
       "18 3.428571 219.7517 0       23.7       \n",
       "19 3.571429 186.9816 0       22.3       \n",
       "20 3.714286 228.4876 1       24.0       "
      ]
     },
     "metadata": {},
     "output_type": "display_data"
    },
    {
     "name": "stdout",
     "output_type": "stream",
     "text": [
      "'data.frame':\t20 obs. of  4 variables:\n",
      " $ time       : num  1 1.14 1.29 1.43 1.57 ...\n",
      " $ Demand     : num  175 189 189 174 170 ...\n",
      " $ WorkDay    : num  0 1 1 0 0 1 1 1 1 1 ...\n",
      " $ Temperature: num  26 23 22.2 20.3 26.1 19.6 20 27.4 32.4 34 ...\n"
     ]
    }
   ],
   "source": [
    "df_daily20 <- cbind(time = c(time(daily20)), as.data.frame(x = daily20))\n",
    "df_daily20\n",
    "str(df_daily20)"
   ]
  },
  {
   "cell_type": "code",
   "execution_count": 11,
   "metadata": {},
   "outputs": [
    {
     "data": {
      "text/plain": [
       "\n",
       "Call:\n",
       "tslm(formula = Demand ~ Temperature, data = daily20)\n",
       "\n",
       "Residuals:\n",
       "    Min      1Q  Median      3Q     Max \n",
       "-46.060  -7.117  -1.437  17.484  27.102 \n",
       "\n",
       "Coefficients:\n",
       "            Estimate Std. Error t value Pr(>|t|)    \n",
       "(Intercept)  39.2117    17.9915   2.179   0.0428 *  \n",
       "Temperature   6.7572     0.6114  11.052 1.88e-09 ***\n",
       "---\n",
       "Signif. codes:  0 '***' 0.001 '**' 0.01 '*' 0.05 '.' 0.1 ' ' 1\n",
       "\n",
       "Residual standard error: 22 on 18 degrees of freedom\n",
       "Multiple R-squared:  0.8716,\tAdjusted R-squared:  0.8644 \n",
       "F-statistic: 122.1 on 1 and 18 DF,  p-value: 1.876e-09\n"
      ]
     },
     "metadata": {},
     "output_type": "display_data"
    },
    {
     "data": {
      "text/html": [
       "0.933575806564041"
      ],
      "text/latex": [
       "0.933575806564041"
      ],
      "text/markdown": [
       "0.933575806564041"
      ],
      "text/plain": [
       "[1] 0.9335758"
      ]
     },
     "metadata": {},
     "output_type": "display_data"
    },
    {
     "data": {},
     "metadata": {},
     "output_type": "display_data"
    },
    {
     "data": {
      "image/png": "[encoded data removed]",
      "text/plain": [
       "plot without title"
      ]
     },
     "metadata": {},
     "output_type": "display_data"
    }
   ],
   "source": [
    "# 온도를 설명 변수로 사용하여 수요 값에 대한 회귀 모델을 찾아보라. 왜 음의 관계가 있는지 설명해보라. \n",
    "tslm_fit <- tslm(Demand ~ Temperature, data=daily20)\n",
    "summary(tslm_fit)\n",
    "\n",
    "cor(df_daily20$Temperature, df_daily20$Demand)\n",
    "\n",
    "ggplot(df_daily20, aes(x = Temperature, y = Demand)) + \n",
    "geom_point() +\n",
    "geom_smooth(method='lm')"
   ]
  },
  {
   "cell_type": "code",
   "execution_count": 12,
   "metadata": {},
   "outputs": [
    {
     "data": {
      "image/png": "[encoded data removed]",
      "text/plain": [
       "Plot with title \"\""
      ]
     },
     "metadata": {},
     "output_type": "display_data"
    }
   ],
   "source": [
    "# (b) 잔차 그래프를 그려보고 모델이 적절한지, 이상값이나 영향력 있는 관측값이 있는지 설명하라.\n",
    "layout(mat=matrix(c(1, 2,\n",
    "                    3, 4), nrow=2, byrow = TRUE))\n",
    "plot(tslm_fit)"
   ]
  },
  {
   "cell_type": "code",
   "execution_count": 13,
   "metadata": {},
   "outputs": [
    {
     "name": "stdout",
     "output_type": "stream",
     "text": [
      "\n",
      "\tBreusch-Godfrey test for serial correlation of order up to 5\n",
      "\n",
      "data:  Residuals from Linear regression model\n",
      "LM test = 3.8079, df = 5, p-value = 0.5774\n",
      "\n"
     ]
    },
    {
     "data": {
      "image/png": "[encoded data removed]",
      "text/plain": [
       "plot without title"
      ]
     },
     "metadata": {},
     "output_type": "display_data"
    }
   ],
   "source": [
    "checkresiduals(tslm_fit)"
   ]
  },
  {
   "cell_type": "code",
   "execution_count": 15,
   "metadata": {
    "scrolled": false
   },
   "outputs": [
    {
     "data": {
      "text/plain": [
       "         Point Forecast    Lo 80    Hi 80     Lo 95    Hi 95\n",
       "3.857143       140.5701 108.6810 172.4591  90.21166 190.9285\n",
       "4.000000       275.7146 245.2278 306.2014 227.57056 323.8586"
      ]
     },
     "metadata": {},
     "output_type": "display_data"
    }
   ],
   "source": [
    "# (c) 최고 기온이 15도일 때, 다음날의 전기 소비량을 예측하는 모델을 사용하고 이것을 최고 기온이\n",
    "# 35도일 때 얻은 예측값과 비교해보라. 이러한 예측값이 신뢰할만한가? 얻은 예측값에 대한\n",
    "# 예측구간을 구해보라. 다음의 R 코드로 시작할 수 있을 것이다. \n",
    "\n",
    "forecast(tslm_fit, newdata=data.frame(Temperature=c(15,35)))"
   ]
  },
  {
   "cell_type": "code",
   "execution_count": 20,
   "metadata": {
    "scrolled": false
   },
   "outputs": [
    {
     "data": {
      "text/html": [
       "<table>\n",
       "<thead><tr><th scope=col>time</th><th scope=col>Demand</th><th scope=col>WorkDay</th><th scope=col>Temperature</th></tr></thead>\n",
       "<tbody>\n",
       "\t<tr><td>1.000000</td><td>174.8963</td><td>0       </td><td>26.0    </td></tr>\n",
       "\t<tr><td>1.142857</td><td>188.5909</td><td>1       </td><td>23.0    </td></tr>\n",
       "\t<tr><td>1.285714</td><td>188.9169</td><td>1       </td><td>22.2    </td></tr>\n",
       "\t<tr><td>1.428571</td><td>173.8142</td><td>0       </td><td>20.3    </td></tr>\n",
       "\t<tr><td>1.571429</td><td>169.5152</td><td>0       </td><td>26.1    </td></tr>\n",
       "\t<tr><td>1.714286</td><td>195.7288</td><td>1       </td><td>19.6    </td></tr>\n",
       "</tbody>\n",
       "</table>\n"
      ],
      "text/latex": [
       "\\begin{tabular}{r|llll}\n",
       " time & Demand & WorkDay & Temperature\\\\\n",
       "\\hline\n",
       "\t 1.000000 & 174.8963 & 0        & 26.0    \\\\\n",
       "\t 1.142857 & 188.5909 & 1        & 23.0    \\\\\n",
       "\t 1.285714 & 188.9169 & 1        & 22.2    \\\\\n",
       "\t 1.428571 & 173.8142 & 0        & 20.3    \\\\\n",
       "\t 1.571429 & 169.5152 & 0        & 26.1    \\\\\n",
       "\t 1.714286 & 195.7288 & 1        & 19.6    \\\\\n",
       "\\end{tabular}\n"
      ],
      "text/markdown": [
       "\n",
       "time | Demand | WorkDay | Temperature | \n",
       "|---|---|---|---|---|---|\n",
       "| 1.000000 | 174.8963 | 0        | 26.0     | \n",
       "| 1.142857 | 188.5909 | 1        | 23.0     | \n",
       "| 1.285714 | 188.9169 | 1        | 22.2     | \n",
       "| 1.428571 | 173.8142 | 0        | 20.3     | \n",
       "| 1.571429 | 169.5152 | 0        | 26.1     | \n",
       "| 1.714286 | 195.7288 | 1        | 19.6     | \n",
       "\n",
       "\n"
      ],
      "text/plain": [
       "  time     Demand   WorkDay Temperature\n",
       "1 1.000000 174.8963 0       26.0       \n",
       "2 1.142857 188.5909 1       23.0       \n",
       "3 1.285714 188.9169 1       22.2       \n",
       "4 1.428571 173.8142 0       20.3       \n",
       "5 1.571429 169.5152 0       26.1       \n",
       "6 1.714286 195.7288 1       19.6       "
      ]
     },
     "metadata": {},
     "output_type": "display_data"
    },
    {
     "name": "stdout",
     "output_type": "stream",
     "text": [
      " Time-Series [1:365, 1:3] from 1 to 53: 175 189 189 174 170 ...\n",
      " - attr(*, \"dimnames\")=List of 2\n",
      "  ..$ : NULL\n",
      "  ..$ : chr [1:3] \"Demand\" \"WorkDay\" \"Temperature\"\n"
     ]
    },
    {
     "data": {
      "text/plain": [
       "\n",
       "Call:\n",
       "tslm(formula = Demand ~ Temperature, data = daily_all)\n",
       "\n",
       "Residuals:\n",
       "    Min      1Q  Median      3Q     Max \n",
       "-55.474 -15.719  -0.336  15.767 117.184 \n",
       "\n",
       "Coefficients:\n",
       "            Estimate Std. Error t value Pr(>|t|)    \n",
       "(Intercept) 212.3856     5.0080  42.409   <2e-16 ***\n",
       "Temperature   0.4182     0.2263   1.848   0.0654 .  \n",
       "---\n",
       "Signif. codes:  0 '***' 0.001 '**' 0.01 '*' 0.05 '.' 0.1 ' ' 1\n",
       "\n",
       "Residual standard error: 26.55 on 363 degrees of freedom\n",
       "Multiple R-squared:  0.009322,\tAdjusted R-squared:  0.006592 \n",
       "F-statistic: 3.416 on 1 and 363 DF,  p-value: 0.0654\n"
      ]
     },
     "metadata": {},
     "output_type": "display_data"
    }
   ],
   "source": [
    "# (d) elecdaily에 있는 모든 데이터를 가지고 수요 vs 기온 그래프를 그려보자. 이것이 어떤 의미가 있는지 설명하라. \n",
    "\n",
    "daily_all <- elecdaily\n",
    "df_daily_all <- cbind(time = c(time(daily_all)), as.data.frame(x = daily_all))\n",
    "\n",
    "head(df_daily_all)\n",
    "str(daily_all)\n",
    "\n",
    "tslm_all_fit <- tslm(Demand ~ Temperature, data=daily_all)\n",
    "summary(tslm_all_fit)"
   ]
  },
  {
   "cell_type": "code",
   "execution_count": 17,
   "metadata": {},
   "outputs": [
    {
     "data": {},
     "metadata": {},
     "output_type": "display_data"
    },
    {
     "data": {
      "image/png": "[encoded data removed]",
      "text/plain": [
       "plot without title"
      ]
     },
     "metadata": {},
     "output_type": "display_data"
    }
   ],
   "source": [
    "ggplot(df_daily_all, aes(x = Temperature, y = Demand)) + \n",
    "geom_point() +\n",
    "geom_smooth(method='lm')"
   ]
  }
 ],
 "metadata": {
  "kernelspec": {
   "display_name": "R",
   "language": "R",
   "name": "ir"
  },
  "language_info": {
   "codemirror_mode": "r",
   "file_extension": ".r",
   "mimetype": "text/x-r-source",
   "name": "R",
   "pygments_lexer": "r",
   "version": "3.5.1"
  }
 },
 "nbformat": 4,
 "nbformat_minor": 2
}
